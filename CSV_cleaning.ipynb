{
 "cells": [
  {
   "source": [
    "# CSV cleaning\n",
    "\n",
    "## Import CSV File"
   ],
   "cell_type": "markdown",
   "metadata": {}
  },
  {
   "cell_type": "code",
   "execution_count": 1,
   "metadata": {},
   "outputs": [],
   "source": [
    "import pandas as pd   ## libraries\n",
    "import numpy as np "
   ]
  },
  {
   "cell_type": "code",
   "execution_count": 2,
   "metadata": {},
   "outputs": [
    {
     "output_type": "execute_result",
     "data": {
      "text/plain": [
       "                    Timestamp Idade: Qual é o teu género?  \\\n",
       "0  2021/07/12 11:01:16 pm CET     28            Masculino   \n",
       "1  2021/07/12 11:03:44 pm CET     31            Masculino   \n",
       "2  2021/07/12 11:04:04 pm CET     27             Feminino   \n",
       "3  2021/07/12 11:04:34 pm CET     28            Masculino   \n",
       "4  2021/07/12 11:12:31 pm CET     27            Masculino   \n",
       "\n",
       "  Com que orientação sexual mais te identificas?  \\\n",
       "0                                  Heterossexual   \n",
       "1                                  Heterossexual   \n",
       "2                                  Heterossexual   \n",
       "3                                  Heterossexual   \n",
       "4                                  Heterossexual   \n",
       "\n",
       "  Qual o nível de escolaridade mais elevado que concluíste?  \\\n",
       "0                                       Licenciatura          \n",
       "1                   Ensino secundário ou equivalente          \n",
       "2                                           Mestrado          \n",
       "3                                           Mestrado          \n",
       "4                                       Licenciatura          \n",
       "\n",
       "  Qual é a tua religião, se aplicável?  \\\n",
       "0                                 Ateu   \n",
       "1                             Católico   \n",
       "2                             Católico   \n",
       "3                                 Ateu   \n",
       "4                       Pastafarinismo   \n",
       "\n",
       "  Qual é o teu salário médio bruto mensal?   \\\n",
       "0                         1600 - 2000 euros   \n",
       "1                         1000 - 1300 euros   \n",
       "2                         1000 - 1300 euros   \n",
       "3                         1600 - 2000 euros   \n",
       "4                          800 - 1000 euros   \n",
       "\n",
       "   Numa escala de 0 (discordo totalmente) a 8 (concordo totalmente), qual das seguintes características consideras ter:  [Sinceridade]  \\\n",
       "0                                                  6                                                                                     \n",
       "1                                                  7                                                                                     \n",
       "2                                                  6                                                                                     \n",
       "3                                                  8                                                                                     \n",
       "4                                                  6                                                                                     \n",
       "\n",
       "   Numa escala de 0 (discordo totalmente) a 8 (concordo totalmente), qual das seguintes características consideras ter:  [Lealdade]  \\\n",
       "0                                                  7                                                                                  \n",
       "1                                                  7                                                                                  \n",
       "2                                                  8                                                                                  \n",
       "3                                                  8                                                                                  \n",
       "4                                                  7                                                                                  \n",
       "\n",
       "   Numa escala de 0 (discordo totalmente) a 8 (concordo totalmente), qual das seguintes características consideras ter:  [Auto-confiança]  \\\n",
       "0                                                  4                                                                                        \n",
       "1                                                  4                                                                                        \n",
       "2                                                  4                                                                                        \n",
       "3                                                  8                                                                                        \n",
       "4                                                  5                                                                                        \n",
       "\n",
       "   ...  \\\n",
       "0  ...   \n",
       "1  ...   \n",
       "2  ...   \n",
       "3  ...   \n",
       "4  ...   \n",
       "\n",
       "   Numa escala de 1 (discordo totalmente) a 6 (concordo totalmente), qual das seguintes frases consideras que descrevem a tua relação? [Estão totalmente comprometidos um com o outro]  \\\n",
       "0                                                6.0                                                                                                                                     \n",
       "1                                                NaN                                                                                                                                     \n",
       "2                                                6.0                                                                                                                                     \n",
       "3                                                6.0                                                                                                                                     \n",
       "4                                                NaN                                                                                                                                     \n",
       "\n",
       "   Numa escala de 1 (discordo totalmente) a 6 (concordo totalmente), qual das seguintes frases consideras que descrevem a tua relação? [São atenciosos com o outro]  \\\n",
       "0                                                5.0                                                                                                                  \n",
       "1                                                NaN                                                                                                                  \n",
       "2                                                6.0                                                                                                                  \n",
       "3                                                6.0                                                                                                                  \n",
       "4                                                NaN                                                                                                                  \n",
       "\n",
       "   Numa escala de 1 (discordo totalmente) a 6 (concordo totalmente), qual das seguintes frases consideras que descrevem a tua relação? [Perdoam-se mutuamente]  \\\n",
       "0                                                6.0                                                                                                             \n",
       "1                                                NaN                                                                                                             \n",
       "2                                                5.0                                                                                                             \n",
       "3                                                6.0                                                                                                             \n",
       "4                                                NaN                                                                                                             \n",
       "\n",
       "   Numa escala de 1 (discordo totalmente) a 6 (concordo totalmente), qual das seguintes frases consideras que descrevem a tua relação? [São gentis um com o outro]  \\\n",
       "0                                                6.0                                                                                                                 \n",
       "1                                                NaN                                                                                                                 \n",
       "2                                                6.0                                                                                                                 \n",
       "3                                                6.0                                                                                                                 \n",
       "4                                                NaN                                                                                                                 \n",
       "\n",
       "   Numa escala de 1 (discordo totalmente) a 6 (concordo totalmente), qual das seguintes frases consideras que descrevem a tua relação? [Existe carinho e afeto espontâneo]  \\\n",
       "0                                                5.0                                                                                                                         \n",
       "1                                                NaN                                                                                                                         \n",
       "2                                                6.0                                                                                                                         \n",
       "3                                                6.0                                                                                                                         \n",
       "4                                                NaN                                                                                                                         \n",
       "\n",
       "   Numa escala de 1 (discordo totalmente) a 6 (concordo totalmente), qual das seguintes frases consideras que descrevem a tua relação? [Apreciam-se mutuamente de forma consistente]  \\\n",
       "0                                                5.0                                                                                                                                   \n",
       "1                                                NaN                                                                                                                                   \n",
       "2                                                6.0                                                                                                                                   \n",
       "3                                                6.0                                                                                                                                   \n",
       "4                                                NaN                                                                                                                                   \n",
       "\n",
       "   Numa escala de 1 (discordo totalmente) a 6 (concordo totalmente), qual das seguintes frases consideras que descrevem a tua relação? [Sentem-se validados pelo outro]  \\\n",
       "0                                                4.0                                                                                                                      \n",
       "1                                                NaN                                                                                                                      \n",
       "2                                                6.0                                                                                                                      \n",
       "3                                                6.0                                                                                                                      \n",
       "4                                                NaN                                                                                                                      \n",
       "\n",
       "   Numa escala de 1 (discordo totalmente) a 6 (concordo totalmente), qual das seguintes frases consideras que descrevem a tua relação? [Sentem liberdade para serem vocês mesmos]  \\\n",
       "0                                                5.0                                                                                                                                \n",
       "1                                                NaN                                                                                                                                \n",
       "2                                                6.0                                                                                                                                \n",
       "3                                                6.0                                                                                                                                \n",
       "4                                                NaN                                                                                                                                \n",
       "\n",
       "   Numa escala de 1 (discordo totalmente) a 6 (concordo totalmente), qual das seguintes frases consideras que descrevem a tua relação? [Ambos aproveitam tempo separados]  \\\n",
       "0                                                5.0                                                                                                                        \n",
       "1                                                NaN                                                                                                                        \n",
       "2                                                6.0                                                                                                                        \n",
       "3                                                4.0                                                                                                                        \n",
       "4                                                NaN                                                                                                                        \n",
       "\n",
       "                   Como descreverias a tua relação?  \n",
       "0  Casamento/Relacionamento monogâmico ou exclusivo  \n",
       "1                                               NaN  \n",
       "2  Casamento/Relacionamento monogâmico ou exclusivo  \n",
       "3  Casamento/Relacionamento monogâmico ou exclusivo  \n",
       "4                                               NaN  \n",
       "\n",
       "[5 rows x 102 columns]"
      ],
      "text/html": "<div>\n<style scoped>\n    .dataframe tbody tr th:only-of-type {\n        vertical-align: middle;\n    }\n\n    .dataframe tbody tr th {\n        vertical-align: top;\n    }\n\n    .dataframe thead th {\n        text-align: right;\n    }\n</style>\n<table border=\"1\" class=\"dataframe\">\n  <thead>\n    <tr style=\"text-align: right;\">\n      <th></th>\n      <th>Timestamp</th>\n      <th>Idade:</th>\n      <th>Qual é o teu género?</th>\n      <th>Com que orientação sexual mais te identificas?</th>\n      <th>Qual o nível de escolaridade mais elevado que concluíste?</th>\n      <th>Qual é a tua religião, se aplicável?</th>\n      <th>Qual é o teu salário médio bruto mensal?</th>\n      <th>Numa escala de 0 (discordo totalmente) a 8 (concordo totalmente), qual das seguintes características consideras ter:  [Sinceridade]</th>\n      <th>Numa escala de 0 (discordo totalmente) a 8 (concordo totalmente), qual das seguintes características consideras ter:  [Lealdade]</th>\n      <th>Numa escala de 0 (discordo totalmente) a 8 (concordo totalmente), qual das seguintes características consideras ter:  [Auto-confiança]</th>\n      <th>...</th>\n      <th>Numa escala de 1 (discordo totalmente) a 6 (concordo totalmente), qual das seguintes frases consideras que descrevem a tua relação? [Estão totalmente comprometidos um com o outro]</th>\n      <th>Numa escala de 1 (discordo totalmente) a 6 (concordo totalmente), qual das seguintes frases consideras que descrevem a tua relação? [São atenciosos com o outro]</th>\n      <th>Numa escala de 1 (discordo totalmente) a 6 (concordo totalmente), qual das seguintes frases consideras que descrevem a tua relação? [Perdoam-se mutuamente]</th>\n      <th>Numa escala de 1 (discordo totalmente) a 6 (concordo totalmente), qual das seguintes frases consideras que descrevem a tua relação? [São gentis um com o outro]</th>\n      <th>Numa escala de 1 (discordo totalmente) a 6 (concordo totalmente), qual das seguintes frases consideras que descrevem a tua relação? [Existe carinho e afeto espontâneo]</th>\n      <th>Numa escala de 1 (discordo totalmente) a 6 (concordo totalmente), qual das seguintes frases consideras que descrevem a tua relação? [Apreciam-se mutuamente de forma consistente]</th>\n      <th>Numa escala de 1 (discordo totalmente) a 6 (concordo totalmente), qual das seguintes frases consideras que descrevem a tua relação? [Sentem-se validados pelo outro]</th>\n      <th>Numa escala de 1 (discordo totalmente) a 6 (concordo totalmente), qual das seguintes frases consideras que descrevem a tua relação? [Sentem liberdade para serem vocês mesmos]</th>\n      <th>Numa escala de 1 (discordo totalmente) a 6 (concordo totalmente), qual das seguintes frases consideras que descrevem a tua relação? [Ambos aproveitam tempo separados]</th>\n      <th>Como descreverias a tua relação?</th>\n    </tr>\n  </thead>\n  <tbody>\n    <tr>\n      <th>0</th>\n      <td>2021/07/12 11:01:16 pm CET</td>\n      <td>28</td>\n      <td>Masculino</td>\n      <td>Heterossexual</td>\n      <td>Licenciatura</td>\n      <td>Ateu</td>\n      <td>1600 - 2000 euros</td>\n      <td>6</td>\n      <td>7</td>\n      <td>4</td>\n      <td>...</td>\n      <td>6.0</td>\n      <td>5.0</td>\n      <td>6.0</td>\n      <td>6.0</td>\n      <td>5.0</td>\n      <td>5.0</td>\n      <td>4.0</td>\n      <td>5.0</td>\n      <td>5.0</td>\n      <td>Casamento/Relacionamento monogâmico ou exclusivo</td>\n    </tr>\n    <tr>\n      <th>1</th>\n      <td>2021/07/12 11:03:44 pm CET</td>\n      <td>31</td>\n      <td>Masculino</td>\n      <td>Heterossexual</td>\n      <td>Ensino secundário ou equivalente</td>\n      <td>Católico</td>\n      <td>1000 - 1300 euros</td>\n      <td>7</td>\n      <td>7</td>\n      <td>4</td>\n      <td>...</td>\n      <td>NaN</td>\n      <td>NaN</td>\n      <td>NaN</td>\n      <td>NaN</td>\n      <td>NaN</td>\n      <td>NaN</td>\n      <td>NaN</td>\n      <td>NaN</td>\n      <td>NaN</td>\n      <td>NaN</td>\n    </tr>\n    <tr>\n      <th>2</th>\n      <td>2021/07/12 11:04:04 pm CET</td>\n      <td>27</td>\n      <td>Feminino</td>\n      <td>Heterossexual</td>\n      <td>Mestrado</td>\n      <td>Católico</td>\n      <td>1000 - 1300 euros</td>\n      <td>6</td>\n      <td>8</td>\n      <td>4</td>\n      <td>...</td>\n      <td>6.0</td>\n      <td>6.0</td>\n      <td>5.0</td>\n      <td>6.0</td>\n      <td>6.0</td>\n      <td>6.0</td>\n      <td>6.0</td>\n      <td>6.0</td>\n      <td>6.0</td>\n      <td>Casamento/Relacionamento monogâmico ou exclusivo</td>\n    </tr>\n    <tr>\n      <th>3</th>\n      <td>2021/07/12 11:04:34 pm CET</td>\n      <td>28</td>\n      <td>Masculino</td>\n      <td>Heterossexual</td>\n      <td>Mestrado</td>\n      <td>Ateu</td>\n      <td>1600 - 2000 euros</td>\n      <td>8</td>\n      <td>8</td>\n      <td>8</td>\n      <td>...</td>\n      <td>6.0</td>\n      <td>6.0</td>\n      <td>6.0</td>\n      <td>6.0</td>\n      <td>6.0</td>\n      <td>6.0</td>\n      <td>6.0</td>\n      <td>6.0</td>\n      <td>4.0</td>\n      <td>Casamento/Relacionamento monogâmico ou exclusivo</td>\n    </tr>\n    <tr>\n      <th>4</th>\n      <td>2021/07/12 11:12:31 pm CET</td>\n      <td>27</td>\n      <td>Masculino</td>\n      <td>Heterossexual</td>\n      <td>Licenciatura</td>\n      <td>Pastafarinismo</td>\n      <td>800 - 1000 euros</td>\n      <td>6</td>\n      <td>7</td>\n      <td>5</td>\n      <td>...</td>\n      <td>NaN</td>\n      <td>NaN</td>\n      <td>NaN</td>\n      <td>NaN</td>\n      <td>NaN</td>\n      <td>NaN</td>\n      <td>NaN</td>\n      <td>NaN</td>\n      <td>NaN</td>\n      <td>NaN</td>\n    </tr>\n  </tbody>\n</table>\n<p>5 rows × 102 columns</p>\n</div>"
     },
     "metadata": {},
     "execution_count": 2
    }
   ],
   "source": [
    "data = pd.read_csv('Relacionamentos.csv')  ## import csv file with the answers\n",
    "data.head(5)"
   ]
  },
  {
   "cell_type": "code",
   "execution_count": 3,
   "metadata": {},
   "outputs": [
    {
     "output_type": "execute_result",
     "data": {
      "text/plain": [
       "['Timestamp',\n",
       " 'Idade:',\n",
       " 'Qual é o teu género?',\n",
       " 'Com que orientação sexual mais te identificas?',\n",
       " 'Qual o nível de escolaridade mais elevado que concluíste?',\n",
       " 'Qual é a tua religião, se aplicável?',\n",
       " 'Qual é o teu salário médio bruto mensal? ',\n",
       " 'Numa escala de 0 (discordo totalmente) a 8 (concordo totalmente), qual das seguintes características consideras ter:  [Sinceridade]',\n",
       " 'Numa escala de 0 (discordo totalmente) a 8 (concordo totalmente), qual das seguintes características consideras ter:  [Lealdade]',\n",
       " 'Numa escala de 0 (discordo totalmente) a 8 (concordo totalmente), qual das seguintes características consideras ter:  [Auto-confiança]',\n",
       " 'Numa escala de 0 (discordo totalmente) a 8 (concordo totalmente), qual das seguintes características consideras ter:  [Coragem]',\n",
       " 'Numa escala de 0 (discordo totalmente) a 8 (concordo totalmente), qual das seguintes características consideras ter:  [Optimismo]',\n",
       " 'Numa escala de 0 (discordo totalmente) a 8 (concordo totalmente), qual das seguintes características consideras ter:  [Riqueza]',\n",
       " 'Numa escala de 0 (discordo totalmente) a 8 (concordo totalmente), qual das seguintes características consideras ter:  [Beleza]',\n",
       " 'Numa escala de 0 (discordo totalmente) a 8 (concordo totalmente), qual das seguintes características consideras ter:  [Inteligência]',\n",
       " 'Numa escala de 0 (discordo totalmente) a 8 (concordo totalmente), qual das seguintes características consideras ter:  [Carisma]',\n",
       " 'Numa escala de 0 (discordo totalmente) a 8 (concordo totalmente), qual das seguintes características consideras ter:  [Espiritualidade]',\n",
       " 'Numa escala de 0 (discordo totalmente) a 8 (concordo totalmente), qual das seguintes características consideras ter:  [Generosidade]',\n",
       " 'Numa escala de 0 (discordo totalmente) a 8 (concordo totalmente), qual das seguintes características consideras ter:  [Bondade]',\n",
       " 'Numa escala de 0 (discordo totalmente) a 8 (concordo totalmente), qual das seguintes características consideras ter:  [Aventureiro/a]',\n",
       " 'Numa escala de 0 (discordo totalmente) a 8 (concordo totalmente), qual das seguintes características consideras ter:  [Divertido/a]',\n",
       " 'Numa escala de 0 (discordo totalmente) a 8 (concordo totalmente), qual das seguintes características consideras ter:  [Energético/a]',\n",
       " 'Encontra-se atualmente num relacionamento?',\n",
       " 'Numa escala de 0 (discordo totalmente) a 8 (concordo totalmente), qual das seguintes características procuras num futuro parceiro?  [Sinceridade]',\n",
       " 'Numa escala de 0 (discordo totalmente) a 8 (concordo totalmente), qual das seguintes características procuras num futuro parceiro?  [Lealdade]',\n",
       " 'Numa escala de 0 (discordo totalmente) a 8 (concordo totalmente), qual das seguintes características procuras num futuro parceiro?  [Auto-confiança]',\n",
       " 'Numa escala de 0 (discordo totalmente) a 8 (concordo totalmente), qual das seguintes características procuras num futuro parceiro?  [Coragem]',\n",
       " 'Numa escala de 0 (discordo totalmente) a 8 (concordo totalmente), qual das seguintes características procuras num futuro parceiro?  [Optimismo]',\n",
       " 'Numa escala de 0 (discordo totalmente) a 8 (concordo totalmente), qual das seguintes características procuras num futuro parceiro?  [Riqueza]',\n",
       " 'Numa escala de 0 (discordo totalmente) a 8 (concordo totalmente), qual das seguintes características procuras num futuro parceiro?  [Beleza]',\n",
       " 'Numa escala de 0 (discordo totalmente) a 8 (concordo totalmente), qual das seguintes características procuras num futuro parceiro?  [Inteligência]',\n",
       " 'Numa escala de 0 (discordo totalmente) a 8 (concordo totalmente), qual das seguintes características procuras num futuro parceiro?  [Carisma]',\n",
       " 'Numa escala de 0 (discordo totalmente) a 8 (concordo totalmente), qual das seguintes características procuras num futuro parceiro?  [Espiritualidade]',\n",
       " 'Numa escala de 0 (discordo totalmente) a 8 (concordo totalmente), qual das seguintes características procuras num futuro parceiro?  [Generosidade]',\n",
       " 'Numa escala de 0 (discordo totalmente) a 8 (concordo totalmente), qual das seguintes características procuras num futuro parceiro?  [Bondade]',\n",
       " 'Numa escala de 0 (discordo totalmente) a 8 (concordo totalmente), qual das seguintes características procuras num futuro parceiro?  [Aventureiro/a]',\n",
       " 'Numa escala de 0 (discordo totalmente) a 8 (concordo totalmente), qual das seguintes características procuras num futuro parceiro?  [Divertido/a]',\n",
       " 'Numa escala de 0 (discordo totalmente) a 8 (concordo totalmente), qual das seguintes características procuras num futuro parceiro?  [Energético/a]',\n",
       " 'Numa escala de 0 (discordo totalmente) a 8 (concordo totalmente), qual das seguintes características consideras que o sexo contrário procura num parceiro/a? [Sinceridade]',\n",
       " 'Numa escala de 0 (discordo totalmente) a 8 (concordo totalmente), qual das seguintes características consideras que o sexo contrário procura num parceiro/a? [Lealdade]',\n",
       " 'Numa escala de 0 (discordo totalmente) a 8 (concordo totalmente), qual das seguintes características consideras que o sexo contrário procura num parceiro/a? [Auto-confiança]',\n",
       " 'Numa escala de 0 (discordo totalmente) a 8 (concordo totalmente), qual das seguintes características consideras que o sexo contrário procura num parceiro/a? [Coragem]',\n",
       " 'Numa escala de 0 (discordo totalmente) a 8 (concordo totalmente), qual das seguintes características consideras que o sexo contrário procura num parceiro/a? [Optimismo]',\n",
       " 'Numa escala de 0 (discordo totalmente) a 8 (concordo totalmente), qual das seguintes características consideras que o sexo contrário procura num parceiro/a? [Riqueza]',\n",
       " 'Numa escala de 0 (discordo totalmente) a 8 (concordo totalmente), qual das seguintes características consideras que o sexo contrário procura num parceiro/a? [Beleza]',\n",
       " 'Numa escala de 0 (discordo totalmente) a 8 (concordo totalmente), qual das seguintes características consideras que o sexo contrário procura num parceiro/a? [Inteligência]',\n",
       " 'Numa escala de 0 (discordo totalmente) a 8 (concordo totalmente), qual das seguintes características consideras que o sexo contrário procura num parceiro/a? [Carisma]',\n",
       " 'Numa escala de 0 (discordo totalmente) a 8 (concordo totalmente), qual das seguintes características consideras que o sexo contrário procura num parceiro/a? [Espiritualidade]',\n",
       " 'Numa escala de 0 (discordo totalmente) a 8 (concordo totalmente), qual das seguintes características consideras que o sexo contrário procura num parceiro/a? [Generosidade]',\n",
       " 'Numa escala de 0 (discordo totalmente) a 8 (concordo totalmente), qual das seguintes características consideras que o sexo contrário procura num parceiro/a? [Bondade]',\n",
       " 'Numa escala de 0 (discordo totalmente) a 8 (concordo totalmente), qual das seguintes características consideras que o sexo contrário procura num parceiro/a? [Aventureiro/a]',\n",
       " 'Numa escala de 0 (discordo totalmente) a 8 (concordo totalmente), qual das seguintes características consideras que o sexo contrário procura num parceiro/a? [Divertido/a]',\n",
       " 'Numa escala de 0 (discordo totalmente) a 8 (concordo totalmente), qual das seguintes características consideras que o sexo contrário procura num parceiro/a? [Energético/a]',\n",
       " 'Numa escala de 1 a 6 como classificas a tua relação?',\n",
       " 'Há quanto tempo se encontram juntos?',\n",
       " 'Tem filhos?',\n",
       " 'Numa escala de 0 (discordo totalmente) a 8 (concordo totalmente), qual das seguintes características consideras que o teu parceiro/a possui? [Sinceridade]',\n",
       " 'Numa escala de 0 (discordo totalmente) a 8 (concordo totalmente), qual das seguintes características consideras que o teu parceiro/a possui? [Lealdade]',\n",
       " 'Numa escala de 0 (discordo totalmente) a 8 (concordo totalmente), qual das seguintes características consideras que o teu parceiro/a possui? [Auto-confiança]',\n",
       " 'Numa escala de 0 (discordo totalmente) a 8 (concordo totalmente), qual das seguintes características consideras que o teu parceiro/a possui? [Coragem]',\n",
       " 'Numa escala de 0 (discordo totalmente) a 8 (concordo totalmente), qual das seguintes características consideras que o teu parceiro/a possui? [Optimismo]',\n",
       " 'Numa escala de 0 (discordo totalmente) a 8 (concordo totalmente), qual das seguintes características consideras que o teu parceiro/a possui? [Riqueza]',\n",
       " 'Numa escala de 0 (discordo totalmente) a 8 (concordo totalmente), qual das seguintes características consideras que o teu parceiro/a possui? [Beleza]',\n",
       " 'Numa escala de 0 (discordo totalmente) a 8 (concordo totalmente), qual das seguintes características consideras que o teu parceiro/a possui? [Inteligência]',\n",
       " 'Numa escala de 0 (discordo totalmente) a 8 (concordo totalmente), qual das seguintes características consideras que o teu parceiro/a possui? [Carisma]',\n",
       " 'Numa escala de 0 (discordo totalmente) a 8 (concordo totalmente), qual das seguintes características consideras que o teu parceiro/a possui? [Espiritualidade]',\n",
       " 'Numa escala de 0 (discordo totalmente) a 8 (concordo totalmente), qual das seguintes características consideras que o teu parceiro/a possui? [Generosidade]',\n",
       " 'Numa escala de 0 (discordo totalmente) a 8 (concordo totalmente), qual das seguintes características consideras que o teu parceiro/a possui? [Bondade]',\n",
       " 'Numa escala de 0 (discordo totalmente) a 8 (concordo totalmente), qual das seguintes características consideras que o teu parceiro/a possui? [Aventureiro/a]',\n",
       " 'Numa escala de 0 (discordo totalmente) a 8 (concordo totalmente), qual das seguintes características consideras que o teu parceiro/a possui? [Divertido/a]',\n",
       " 'Numa escala de 0 (discordo totalmente) a 8 (concordo totalmente), qual das seguintes características consideras que o teu parceiro/a possui? [Energético/a]',\n",
       " 'Numa escala de 0 (discordo totalmente) a 8 (concordo totalmente), qual das seguintes características consideras que o teu parceiro/a valoriza? [Sinceridade]',\n",
       " 'Numa escala de 0 (discordo totalmente) a 8 (concordo totalmente), qual das seguintes características consideras que o teu parceiro/a valoriza? [Lealdade]',\n",
       " 'Numa escala de 0 (discordo totalmente) a 8 (concordo totalmente), qual das seguintes características consideras que o teu parceiro/a valoriza? [Auto-confiança]',\n",
       " 'Numa escala de 0 (discordo totalmente) a 8 (concordo totalmente), qual das seguintes características consideras que o teu parceiro/a valoriza? [Coragem]',\n",
       " 'Numa escala de 0 (discordo totalmente) a 8 (concordo totalmente), qual das seguintes características consideras que o teu parceiro/a valoriza? [Optimismo]',\n",
       " 'Numa escala de 0 (discordo totalmente) a 8 (concordo totalmente), qual das seguintes características consideras que o teu parceiro/a valoriza? [Riqueza]',\n",
       " 'Numa escala de 0 (discordo totalmente) a 8 (concordo totalmente), qual das seguintes características consideras que o teu parceiro/a valoriza? [Beleza]',\n",
       " 'Numa escala de 0 (discordo totalmente) a 8 (concordo totalmente), qual das seguintes características consideras que o teu parceiro/a valoriza? [Inteligência]',\n",
       " 'Numa escala de 0 (discordo totalmente) a 8 (concordo totalmente), qual das seguintes características consideras que o teu parceiro/a valoriza? [Carisma]',\n",
       " 'Numa escala de 0 (discordo totalmente) a 8 (concordo totalmente), qual das seguintes características consideras que o teu parceiro/a valoriza? [Espiritualidade]',\n",
       " 'Numa escala de 0 (discordo totalmente) a 8 (concordo totalmente), qual das seguintes características consideras que o teu parceiro/a valoriza? [Generosidade]',\n",
       " 'Numa escala de 0 (discordo totalmente) a 8 (concordo totalmente), qual das seguintes características consideras que o teu parceiro/a valoriza? [Bondade]',\n",
       " 'Numa escala de 0 (discordo totalmente) a 8 (concordo totalmente), qual das seguintes características consideras que o teu parceiro/a valoriza? [Aventureiro/a]',\n",
       " 'Numa escala de 0 (discordo totalmente) a 8 (concordo totalmente), qual das seguintes características consideras que o teu parceiro/a valoriza? [Divertido/a]',\n",
       " 'Numa escala de 0 (discordo totalmente) a 8 (concordo totalmente), qual das seguintes características consideras que o teu parceiro/a valoriza? [Energético/a]',\n",
       " 'Numa escala de 1 (discordo totalmente) a 6 (concordo totalmente), qual das seguintes frases consideras que descrevem a tua relação? [Respeitam-se mutuamente]',\n",
       " 'Numa escala de 1 (discordo totalmente) a 6 (concordo totalmente), qual das seguintes frases consideras que descrevem a tua relação? [Permitem-se ser vulneráveis um com o outro]',\n",
       " 'Numa escala de 1 (discordo totalmente) a 6 (concordo totalmente), qual das seguintes frases consideras que descrevem a tua relação? [Tem total confiança um no outro]',\n",
       " 'Numa escala de 1 (discordo totalmente) a 6 (concordo totalmente), qual das seguintes frases consideras que descrevem a tua relação? [Mantém uma honestidade inabalável um com o outro]',\n",
       " 'Numa escala de 1 (discordo totalmente) a 6 (concordo totalmente), qual das seguintes frases consideras que descrevem a tua relação? [Ambos dão prioridade à gentileza]',\n",
       " 'Numa escala de 1 (discordo totalmente) a 6 (concordo totalmente), qual das seguintes frases consideras que descrevem a tua relação? [Respeitam os limites um do outro]',\n",
       " 'Numa escala de 1 (discordo totalmente) a 6 (concordo totalmente), qual das seguintes frases consideras que descrevem a tua relação? [Estão totalmente comprometidos um com o outro]',\n",
       " 'Numa escala de 1 (discordo totalmente) a 6 (concordo totalmente), qual das seguintes frases consideras que descrevem a tua relação? [São atenciosos com o outro]',\n",
       " 'Numa escala de 1 (discordo totalmente) a 6 (concordo totalmente), qual das seguintes frases consideras que descrevem a tua relação? [Perdoam-se mutuamente]',\n",
       " 'Numa escala de 1 (discordo totalmente) a 6 (concordo totalmente), qual das seguintes frases consideras que descrevem a tua relação? [São gentis um com o outro]',\n",
       " 'Numa escala de 1 (discordo totalmente) a 6 (concordo totalmente), qual das seguintes frases consideras que descrevem a tua relação? [Existe carinho e afeto espontâneo]',\n",
       " 'Numa escala de 1 (discordo totalmente) a 6 (concordo totalmente), qual das seguintes frases consideras que descrevem a tua relação? [Apreciam-se mutuamente de forma consistente]',\n",
       " 'Numa escala de 1 (discordo totalmente) a 6 (concordo totalmente), qual das seguintes frases consideras que descrevem a tua relação? [Sentem-se validados pelo outro]',\n",
       " 'Numa escala de 1 (discordo totalmente) a 6 (concordo totalmente), qual das seguintes frases consideras que descrevem a tua relação? [Sentem liberdade para serem vocês mesmos]',\n",
       " 'Numa escala de 1 (discordo totalmente) a 6 (concordo totalmente), qual das seguintes frases consideras que descrevem a tua relação? [Ambos aproveitam tempo separados]',\n",
       " 'Como descreverias a tua relação?']"
      ]
     },
     "metadata": {},
     "execution_count": 3
    }
   ],
   "source": [
    "list(data.columns)    ## check the column names"
   ]
  },
  {
   "source": [
    "## Change column names"
   ],
   "cell_type": "markdown",
   "metadata": {}
  },
  {
   "cell_type": "code",
   "execution_count": 4,
   "metadata": {},
   "outputs": [],
   "source": [
    "## change column names + translate to English\n",
    "\n",
    "data.columns = ['Timestamp','Age','Gender','Sexual_orientation','School','Religion','Income','Personal_Sincerity','Personal_Loyalty','Personal_Self_confidence','Personal_Braveness','Personal_Optimism','Personal_Money','Personal_Attractiveness','Personal_Intelligence','Personal_Charisma','Personal_Spirituality','Personal_Generosity','Personal_Kindness','Personal_Adventurous','Personal_Fun','Personal_Energetic','Relationship','Future_Partner_Sincerity','Future_Partner_Loyalty','Future_Partner_Self_confidence','Future_Partner_Braveness','Future_Partner_Optimism','Future_Partner_Money','Future_Partner_Attractiveness','Future_Partner_Intelligence','Future_Partner_Charisma','Future_Partner_Spirituality','Future_Partner_Generosity','Future_Partner_Kindness','Future_Partner_Adventurous','Future_Partner_Fun','Future_Partner_Energetic','Opposite_sex_Sincerity','Opposite_sex_Loyalty','Opposite_sex_Self_confidence','Opposite_sex_Braveness','Opposite_sex_Optimism','Opposite_sex_Money','Opposite_sex_Attractiveness','Opposite_sex_Intelligence','Opposite_sex_Charisma','Opposite_sex_Spirituality','Opposite_sex_Generosity','Opposite_sex_Kindness','Opposite_sex_Adventurous','Opposite_sex_Fun','Opposite_sex_Energetic','Relationship_rate','Time_together','Kids','Partner_Sincerity','Partner_Loyalty','Partner_Self_confidence','Partner_Braveness','Partner_Optimism','Partner_Money','Partner_Attractiveness','Partner_Intelligence', 'Partner_Charisma','Partner_Spirituality','Partner_Generosity','Partner_Kindness','Partner_Adventurous','Partner_Fun','Partner_Energetic','Partner_values_Sincerity','Partner_values_Loyalty','Partner_values_Self_confidence','Partner_values_Braveness','Partner_values_Optimism','Partner_values_Money','Partner_values_Attractiveness','Partner_values_Intelligence','Partner_values_Charisma','Partner_values_Spirituality','Partner_values_Generosity','Partner_values_Kindness','Partner_values_Adventurous','Partner_values_Fun','Partner_values_Energetic','Relationship_Respect','Relationship_Vulnerability','Relationship_Trust','Relationship_Honesty','Relationship_Kindness','Relationship_Boundaries','Relationship_Commitment','Relationship_Thoughtfulness','Relationship_Forgiveness','Relationship_Gentleness','Relationship_Affection','Relationship_Appreciation','Relationship_Validation','Relationship_Freedom','Relationship_Alone','Relationship_type']   "
   ]
  },
  {
   "source": [
    "# Clean and Update dataset"
   ],
   "cell_type": "markdown",
   "metadata": {}
  },
  {
   "cell_type": "code",
   "execution_count": 5,
   "metadata": {},
   "outputs": [],
   "source": [
    "## Remove Timestamp\n",
    "data = data.drop(['Timestamp'], axis=1)"
   ]
  },
  {
   "cell_type": "code",
   "execution_count": 6,
   "metadata": {},
   "outputs": [],
   "source": [
    "## Create a ID column\n",
    "data['ID'] = [i for i in range(len(data.index))]"
   ]
  },
  {
   "source": [
    "## Age"
   ],
   "cell_type": "markdown",
   "metadata": {}
  },
  {
   "cell_type": "code",
   "execution_count": 7,
   "metadata": {},
   "outputs": [
    {
     "output_type": "execute_result",
     "data": {
      "text/plain": [
       "array(['28', '31', '27', '30', '23', '29', '25', '22', '33', '26',\n",
       "       '25 anos', '20', '36', '21', '45', '24', '55', '54', '18', '19',\n",
       "       '41', '61', '38', '52', '32', '37', '50', '59', '46', '44'],\n",
       "      dtype=object)"
      ]
     },
     "metadata": {},
     "execution_count": 7
    }
   ],
   "source": [
    "## Age\n",
    "data['Age'].unique()                                 ## check unique values"
   ]
  },
  {
   "cell_type": "code",
   "execution_count": 8,
   "metadata": {},
   "outputs": [],
   "source": [
    "data['Age'] = data['Age'].replace('25 anos','25')     ## uniform answers"
   ]
  },
  {
   "cell_type": "code",
   "execution_count": 9,
   "metadata": {},
   "outputs": [
    {
     "output_type": "execute_result",
     "data": {
      "text/plain": [
       "array(['28', '31', '27', '30', '23', '29', '25', '22', '33', '26', '20',\n",
       "       '36', '21', '45', '24', '55', '54', '18', '19', '41', '61', '38',\n",
       "       '52', '32', '37', '50', '59', '46', '44'], dtype=object)"
      ]
     },
     "metadata": {},
     "execution_count": 9
    }
   ],
   "source": [
    "data['Age'].unique()                                  ## check changes made"
   ]
  },
  {
   "cell_type": "code",
   "execution_count": 10,
   "metadata": {},
   "outputs": [],
   "source": [
    "import matplotlib.pyplot as plt"
   ]
  },
  {
   "cell_type": "code",
   "execution_count": 11,
   "metadata": {},
   "outputs": [
    {
     "output_type": "execute_result",
     "data": {
      "text/plain": [
       "(array([15., 20., 18., 11.,  2.,  6.,  3.,  3.,  5.,  3.]),\n",
       " array([ 0. ,  2.8,  5.6,  8.4, 11.2, 14. , 16.8, 19.6, 22.4, 25.2, 28. ]),\n",
       " <BarContainer object of 10 artists>)"
      ]
     },
     "metadata": {},
     "execution_count": 11
    },
    {
     "output_type": "display_data",
     "data": {
      "text/plain": "<Figure size 432x288 with 1 Axes>",
      "image/svg+xml": "<?xml version=\"1.0\" encoding=\"utf-8\" standalone=\"no\"?>\r\n<!DOCTYPE svg PUBLIC \"-//W3C//DTD SVG 1.1//EN\"\r\n  \"http://www.w3.org/Graphics/SVG/1.1/DTD/svg11.dtd\">\r\n<svg height=\"248.518125pt\" version=\"1.1\" viewBox=\"0 0 378.465625 248.518125\" width=\"378.465625pt\" xmlns=\"http://www.w3.org/2000/svg\" xmlns:xlink=\"http://www.w3.org/1999/xlink\">\r\n <metadata>\r\n  <rdf:RDF xmlns:cc=\"http://creativecommons.org/ns#\" xmlns:dc=\"http://purl.org/dc/elements/1.1/\" xmlns:rdf=\"http://www.w3.org/1999/02/22-rdf-syntax-ns#\">\r\n   <cc:Work>\r\n    <dc:type rdf:resource=\"http://purl.org/dc/dcmitype/StillImage\"/>\r\n    <dc:date>2021-07-20T21:19:40.294879</dc:date>\r\n    <dc:format>image/svg+xml</dc:format>\r\n    <dc:creator>\r\n     <cc:Agent>\r\n      <dc:title>Matplotlib v3.4.2, https://matplotlib.org/</dc:title>\r\n     </cc:Agent>\r\n    </dc:creator>\r\n   </cc:Work>\r\n  </rdf:RDF>\r\n </metadata>\r\n <defs>\r\n  <style type=\"text/css\">*{stroke-linecap:butt;stroke-linejoin:round;}</style>\r\n </defs>\r\n <g id=\"figure_1\">\r\n  <g id=\"patch_1\">\r\n   <path d=\"M 0 248.518125 \r\nL 378.465625 248.518125 \r\nL 378.465625 0 \r\nL 0 0 \r\nz\r\n\" style=\"fill:none;\"/>\r\n  </g>\r\n  <g id=\"axes_1\">\r\n   <g id=\"patch_2\">\r\n    <path d=\"M 36.465625 224.64 \r\nL 371.265625 224.64 \r\nL 371.265625 7.2 \r\nL 36.465625 7.2 \r\nz\r\n\" style=\"fill:#ffffff;\"/>\r\n   </g>\r\n   <g id=\"patch_3\">\r\n    <path clip-path=\"url(#p72732ee15e)\" d=\"M 51.683807 224.64 \r\nL 82.12017 224.64 \r\nL 82.12017 69.325714 \r\nL 51.683807 69.325714 \r\nz\r\n\" style=\"fill:#1f77b4;\"/>\r\n   </g>\r\n   <g id=\"patch_4\">\r\n    <path clip-path=\"url(#p72732ee15e)\" d=\"M 82.12017 224.64 \r\nL 112.556534 224.64 \r\nL 112.556534 17.554286 \r\nL 82.12017 17.554286 \r\nz\r\n\" style=\"fill:#1f77b4;\"/>\r\n   </g>\r\n   <g id=\"patch_5\">\r\n    <path clip-path=\"url(#p72732ee15e)\" d=\"M 112.556534 224.64 \r\nL 142.992898 224.64 \r\nL 142.992898 38.262857 \r\nL 112.556534 38.262857 \r\nz\r\n\" style=\"fill:#1f77b4;\"/>\r\n   </g>\r\n   <g id=\"patch_6\">\r\n    <path clip-path=\"url(#p72732ee15e)\" d=\"M 142.992898 224.64 \r\nL 173.429261 224.64 \r\nL 173.429261 110.742857 \r\nL 142.992898 110.742857 \r\nz\r\n\" style=\"fill:#1f77b4;\"/>\r\n   </g>\r\n   <g id=\"patch_7\">\r\n    <path clip-path=\"url(#p72732ee15e)\" d=\"M 173.429261 224.64 \r\nL 203.865625 224.64 \r\nL 203.865625 203.931429 \r\nL 173.429261 203.931429 \r\nz\r\n\" style=\"fill:#1f77b4;\"/>\r\n   </g>\r\n   <g id=\"patch_8\">\r\n    <path clip-path=\"url(#p72732ee15e)\" d=\"M 203.865625 224.64 \r\nL 234.301989 224.64 \r\nL 234.301989 162.514286 \r\nL 203.865625 162.514286 \r\nz\r\n\" style=\"fill:#1f77b4;\"/>\r\n   </g>\r\n   <g id=\"patch_9\">\r\n    <path clip-path=\"url(#p72732ee15e)\" d=\"M 234.301989 224.64 \r\nL 264.738352 224.64 \r\nL 264.738352 193.577143 \r\nL 234.301989 193.577143 \r\nz\r\n\" style=\"fill:#1f77b4;\"/>\r\n   </g>\r\n   <g id=\"patch_10\">\r\n    <path clip-path=\"url(#p72732ee15e)\" d=\"M 264.738352 224.64 \r\nL 295.174716 224.64 \r\nL 295.174716 193.577143 \r\nL 264.738352 193.577143 \r\nz\r\n\" style=\"fill:#1f77b4;\"/>\r\n   </g>\r\n   <g id=\"patch_11\">\r\n    <path clip-path=\"url(#p72732ee15e)\" d=\"M 295.174716 224.64 \r\nL 325.61108 224.64 \r\nL 325.61108 172.868571 \r\nL 295.174716 172.868571 \r\nz\r\n\" style=\"fill:#1f77b4;\"/>\r\n   </g>\r\n   <g id=\"patch_12\">\r\n    <path clip-path=\"url(#p72732ee15e)\" d=\"M 325.61108 224.64 \r\nL 356.047443 224.64 \r\nL 356.047443 193.577143 \r\nL 325.61108 193.577143 \r\nz\r\n\" style=\"fill:#1f77b4;\"/>\r\n   </g>\r\n   <g id=\"matplotlib.axis_1\">\r\n    <g id=\"xtick_1\">\r\n     <g id=\"line2d_1\">\r\n      <defs>\r\n       <path d=\"M 0 0 \r\nL 0 3.5 \r\n\" id=\"mee45ddc9e0\" style=\"stroke:#000000;stroke-width:0.8;\"/>\r\n      </defs>\r\n      <g>\r\n       <use style=\"stroke:#000000;stroke-width:0.8;\" x=\"51.683807\" xlink:href=\"#mee45ddc9e0\" y=\"224.64\"/>\r\n      </g>\r\n     </g>\r\n     <g id=\"text_1\">\r\n      <!-- 28 -->\r\n      <g transform=\"translate(45.321307 239.238437)scale(0.1 -0.1)\">\r\n       <defs>\r\n        <path d=\"M 1228 531 \r\nL 3431 531 \r\nL 3431 0 \r\nL 469 0 \r\nL 469 531 \r\nQ 828 903 1448 1529 \r\nQ 2069 2156 2228 2338 \r\nQ 2531 2678 2651 2914 \r\nQ 2772 3150 2772 3378 \r\nQ 2772 3750 2511 3984 \r\nQ 2250 4219 1831 4219 \r\nQ 1534 4219 1204 4116 \r\nQ 875 4013 500 3803 \r\nL 500 4441 \r\nQ 881 4594 1212 4672 \r\nQ 1544 4750 1819 4750 \r\nQ 2544 4750 2975 4387 \r\nQ 3406 4025 3406 3419 \r\nQ 3406 3131 3298 2873 \r\nQ 3191 2616 2906 2266 \r\nQ 2828 2175 2409 1742 \r\nQ 1991 1309 1228 531 \r\nz\r\n\" id=\"DejaVuSans-32\" transform=\"scale(0.015625)\"/>\r\n        <path d=\"M 2034 2216 \r\nQ 1584 2216 1326 1975 \r\nQ 1069 1734 1069 1313 \r\nQ 1069 891 1326 650 \r\nQ 1584 409 2034 409 \r\nQ 2484 409 2743 651 \r\nQ 3003 894 3003 1313 \r\nQ 3003 1734 2745 1975 \r\nQ 2488 2216 2034 2216 \r\nz\r\nM 1403 2484 \r\nQ 997 2584 770 2862 \r\nQ 544 3141 544 3541 \r\nQ 544 4100 942 4425 \r\nQ 1341 4750 2034 4750 \r\nQ 2731 4750 3128 4425 \r\nQ 3525 4100 3525 3541 \r\nQ 3525 3141 3298 2862 \r\nQ 3072 2584 2669 2484 \r\nQ 3125 2378 3379 2068 \r\nQ 3634 1759 3634 1313 \r\nQ 3634 634 3220 271 \r\nQ 2806 -91 2034 -91 \r\nQ 1263 -91 848 271 \r\nQ 434 634 434 1313 \r\nQ 434 1759 690 2068 \r\nQ 947 2378 1403 2484 \r\nz\r\nM 1172 3481 \r\nQ 1172 3119 1398 2916 \r\nQ 1625 2713 2034 2713 \r\nQ 2441 2713 2670 2916 \r\nQ 2900 3119 2900 3481 \r\nQ 2900 3844 2670 4047 \r\nQ 2441 4250 2034 4250 \r\nQ 1625 4250 1398 4047 \r\nQ 1172 3844 1172 3481 \r\nz\r\n\" id=\"DejaVuSans-38\" transform=\"scale(0.015625)\"/>\r\n       </defs>\r\n       <use xlink:href=\"#DejaVuSans-32\"/>\r\n       <use x=\"63.623047\" xlink:href=\"#DejaVuSans-38\"/>\r\n      </g>\r\n     </g>\r\n    </g>\r\n    <g id=\"xtick_2\">\r\n     <g id=\"line2d_2\">\r\n      <g>\r\n       <use style=\"stroke:#000000;stroke-width:0.8;\" x=\"62.553937\" xlink:href=\"#mee45ddc9e0\" y=\"224.64\"/>\r\n      </g>\r\n     </g>\r\n     <g id=\"text_2\">\r\n      <!-- 31 -->\r\n      <g transform=\"translate(56.191437 239.238437)scale(0.1 -0.1)\">\r\n       <defs>\r\n        <path d=\"M 2597 2516 \r\nQ 3050 2419 3304 2112 \r\nQ 3559 1806 3559 1356 \r\nQ 3559 666 3084 287 \r\nQ 2609 -91 1734 -91 \r\nQ 1441 -91 1130 -33 \r\nQ 819 25 488 141 \r\nL 488 750 \r\nQ 750 597 1062 519 \r\nQ 1375 441 1716 441 \r\nQ 2309 441 2620 675 \r\nQ 2931 909 2931 1356 \r\nQ 2931 1769 2642 2001 \r\nQ 2353 2234 1838 2234 \r\nL 1294 2234 \r\nL 1294 2753 \r\nL 1863 2753 \r\nQ 2328 2753 2575 2939 \r\nQ 2822 3125 2822 3475 \r\nQ 2822 3834 2567 4026 \r\nQ 2313 4219 1838 4219 \r\nQ 1578 4219 1281 4162 \r\nQ 984 4106 628 3988 \r\nL 628 4550 \r\nQ 988 4650 1302 4700 \r\nQ 1616 4750 1894 4750 \r\nQ 2613 4750 3031 4423 \r\nQ 3450 4097 3450 3541 \r\nQ 3450 3153 3228 2886 \r\nQ 3006 2619 2597 2516 \r\nz\r\n\" id=\"DejaVuSans-33\" transform=\"scale(0.015625)\"/>\r\n        <path d=\"M 794 531 \r\nL 1825 531 \r\nL 1825 4091 \r\nL 703 3866 \r\nL 703 4441 \r\nL 1819 4666 \r\nL 2450 4666 \r\nL 2450 531 \r\nL 3481 531 \r\nL 3481 0 \r\nL 794 0 \r\nL 794 531 \r\nz\r\n\" id=\"DejaVuSans-31\" transform=\"scale(0.015625)\"/>\r\n       </defs>\r\n       <use xlink:href=\"#DejaVuSans-33\"/>\r\n       <use x=\"63.623047\" xlink:href=\"#DejaVuSans-31\"/>\r\n      </g>\r\n     </g>\r\n    </g>\r\n    <g id=\"xtick_3\">\r\n     <g id=\"line2d_3\">\r\n      <g>\r\n       <use style=\"stroke:#000000;stroke-width:0.8;\" x=\"73.424067\" xlink:href=\"#mee45ddc9e0\" y=\"224.64\"/>\r\n      </g>\r\n     </g>\r\n     <g id=\"text_3\">\r\n      <!-- 27 -->\r\n      <g transform=\"translate(67.061567 239.238437)scale(0.1 -0.1)\">\r\n       <defs>\r\n        <path d=\"M 525 4666 \r\nL 3525 4666 \r\nL 3525 4397 \r\nL 1831 0 \r\nL 1172 0 \r\nL 2766 4134 \r\nL 525 4134 \r\nL 525 4666 \r\nz\r\n\" id=\"DejaVuSans-37\" transform=\"scale(0.015625)\"/>\r\n       </defs>\r\n       <use xlink:href=\"#DejaVuSans-32\"/>\r\n       <use x=\"63.623047\" xlink:href=\"#DejaVuSans-37\"/>\r\n      </g>\r\n     </g>\r\n    </g>\r\n    <g id=\"xtick_4\">\r\n     <g id=\"line2d_4\">\r\n      <g>\r\n       <use style=\"stroke:#000000;stroke-width:0.8;\" x=\"84.294196\" xlink:href=\"#mee45ddc9e0\" y=\"224.64\"/>\r\n      </g>\r\n     </g>\r\n     <g id=\"text_4\">\r\n      <!-- 30 -->\r\n      <g transform=\"translate(77.931696 239.238437)scale(0.1 -0.1)\">\r\n       <defs>\r\n        <path d=\"M 2034 4250 \r\nQ 1547 4250 1301 3770 \r\nQ 1056 3291 1056 2328 \r\nQ 1056 1369 1301 889 \r\nQ 1547 409 2034 409 \r\nQ 2525 409 2770 889 \r\nQ 3016 1369 3016 2328 \r\nQ 3016 3291 2770 3770 \r\nQ 2525 4250 2034 4250 \r\nz\r\nM 2034 4750 \r\nQ 2819 4750 3233 4129 \r\nQ 3647 3509 3647 2328 \r\nQ 3647 1150 3233 529 \r\nQ 2819 -91 2034 -91 \r\nQ 1250 -91 836 529 \r\nQ 422 1150 422 2328 \r\nQ 422 3509 836 4129 \r\nQ 1250 4750 2034 4750 \r\nz\r\n\" id=\"DejaVuSans-30\" transform=\"scale(0.015625)\"/>\r\n       </defs>\r\n       <use xlink:href=\"#DejaVuSans-33\"/>\r\n       <use x=\"63.623047\" xlink:href=\"#DejaVuSans-30\"/>\r\n      </g>\r\n     </g>\r\n    </g>\r\n    <g id=\"xtick_5\">\r\n     <g id=\"line2d_5\">\r\n      <g>\r\n       <use style=\"stroke:#000000;stroke-width:0.8;\" x=\"95.164326\" xlink:href=\"#mee45ddc9e0\" y=\"224.64\"/>\r\n      </g>\r\n     </g>\r\n     <g id=\"text_5\">\r\n      <!-- 23 -->\r\n      <g transform=\"translate(88.801826 239.238437)scale(0.1 -0.1)\">\r\n       <use xlink:href=\"#DejaVuSans-32\"/>\r\n       <use x=\"63.623047\" xlink:href=\"#DejaVuSans-33\"/>\r\n      </g>\r\n     </g>\r\n    </g>\r\n    <g id=\"xtick_6\">\r\n     <g id=\"line2d_6\">\r\n      <g>\r\n       <use style=\"stroke:#000000;stroke-width:0.8;\" x=\"106.034456\" xlink:href=\"#mee45ddc9e0\" y=\"224.64\"/>\r\n      </g>\r\n     </g>\r\n     <g id=\"text_6\">\r\n      <!-- 29 -->\r\n      <g transform=\"translate(99.671956 239.238437)scale(0.1 -0.1)\">\r\n       <defs>\r\n        <path d=\"M 703 97 \r\nL 703 672 \r\nQ 941 559 1184 500 \r\nQ 1428 441 1663 441 \r\nQ 2288 441 2617 861 \r\nQ 2947 1281 2994 2138 \r\nQ 2813 1869 2534 1725 \r\nQ 2256 1581 1919 1581 \r\nQ 1219 1581 811 2004 \r\nQ 403 2428 403 3163 \r\nQ 403 3881 828 4315 \r\nQ 1253 4750 1959 4750 \r\nQ 2769 4750 3195 4129 \r\nQ 3622 3509 3622 2328 \r\nQ 3622 1225 3098 567 \r\nQ 2575 -91 1691 -91 \r\nQ 1453 -91 1209 -44 \r\nQ 966 3 703 97 \r\nz\r\nM 1959 2075 \r\nQ 2384 2075 2632 2365 \r\nQ 2881 2656 2881 3163 \r\nQ 2881 3666 2632 3958 \r\nQ 2384 4250 1959 4250 \r\nQ 1534 4250 1286 3958 \r\nQ 1038 3666 1038 3163 \r\nQ 1038 2656 1286 2365 \r\nQ 1534 2075 1959 2075 \r\nz\r\n\" id=\"DejaVuSans-39\" transform=\"scale(0.015625)\"/>\r\n       </defs>\r\n       <use xlink:href=\"#DejaVuSans-32\"/>\r\n       <use x=\"63.623047\" xlink:href=\"#DejaVuSans-39\"/>\r\n      </g>\r\n     </g>\r\n    </g>\r\n    <g id=\"xtick_7\">\r\n     <g id=\"line2d_7\">\r\n      <g>\r\n       <use style=\"stroke:#000000;stroke-width:0.8;\" x=\"116.904586\" xlink:href=\"#mee45ddc9e0\" y=\"224.64\"/>\r\n      </g>\r\n     </g>\r\n     <g id=\"text_7\">\r\n      <!-- 25 -->\r\n      <g transform=\"translate(110.542086 239.238437)scale(0.1 -0.1)\">\r\n       <defs>\r\n        <path d=\"M 691 4666 \r\nL 3169 4666 \r\nL 3169 4134 \r\nL 1269 4134 \r\nL 1269 2991 \r\nQ 1406 3038 1543 3061 \r\nQ 1681 3084 1819 3084 \r\nQ 2600 3084 3056 2656 \r\nQ 3513 2228 3513 1497 \r\nQ 3513 744 3044 326 \r\nQ 2575 -91 1722 -91 \r\nQ 1428 -91 1123 -41 \r\nQ 819 9 494 109 \r\nL 494 744 \r\nQ 775 591 1075 516 \r\nQ 1375 441 1709 441 \r\nQ 2250 441 2565 725 \r\nQ 2881 1009 2881 1497 \r\nQ 2881 1984 2565 2268 \r\nQ 2250 2553 1709 2553 \r\nQ 1456 2553 1204 2497 \r\nQ 953 2441 691 2322 \r\nL 691 4666 \r\nz\r\n\" id=\"DejaVuSans-35\" transform=\"scale(0.015625)\"/>\r\n       </defs>\r\n       <use xlink:href=\"#DejaVuSans-32\"/>\r\n       <use x=\"63.623047\" xlink:href=\"#DejaVuSans-35\"/>\r\n      </g>\r\n     </g>\r\n    </g>\r\n    <g id=\"xtick_8\">\r\n     <g id=\"line2d_8\">\r\n      <g>\r\n       <use style=\"stroke:#000000;stroke-width:0.8;\" x=\"127.774716\" xlink:href=\"#mee45ddc9e0\" y=\"224.64\"/>\r\n      </g>\r\n     </g>\r\n     <g id=\"text_8\">\r\n      <!-- 22 -->\r\n      <g transform=\"translate(121.412216 239.238437)scale(0.1 -0.1)\">\r\n       <use xlink:href=\"#DejaVuSans-32\"/>\r\n       <use x=\"63.623047\" xlink:href=\"#DejaVuSans-32\"/>\r\n      </g>\r\n     </g>\r\n    </g>\r\n    <g id=\"xtick_9\">\r\n     <g id=\"line2d_9\">\r\n      <g>\r\n       <use style=\"stroke:#000000;stroke-width:0.8;\" x=\"138.644846\" xlink:href=\"#mee45ddc9e0\" y=\"224.64\"/>\r\n      </g>\r\n     </g>\r\n     <g id=\"text_9\">\r\n      <!-- 33 -->\r\n      <g transform=\"translate(132.282346 239.238437)scale(0.1 -0.1)\">\r\n       <use xlink:href=\"#DejaVuSans-33\"/>\r\n       <use x=\"63.623047\" xlink:href=\"#DejaVuSans-33\"/>\r\n      </g>\r\n     </g>\r\n    </g>\r\n    <g id=\"xtick_10\">\r\n     <g id=\"line2d_10\">\r\n      <g>\r\n       <use style=\"stroke:#000000;stroke-width:0.8;\" x=\"149.514976\" xlink:href=\"#mee45ddc9e0\" y=\"224.64\"/>\r\n      </g>\r\n     </g>\r\n     <g id=\"text_10\">\r\n      <!-- 26 -->\r\n      <g transform=\"translate(143.152476 239.238437)scale(0.1 -0.1)\">\r\n       <defs>\r\n        <path d=\"M 2113 2584 \r\nQ 1688 2584 1439 2293 \r\nQ 1191 2003 1191 1497 \r\nQ 1191 994 1439 701 \r\nQ 1688 409 2113 409 \r\nQ 2538 409 2786 701 \r\nQ 3034 994 3034 1497 \r\nQ 3034 2003 2786 2293 \r\nQ 2538 2584 2113 2584 \r\nz\r\nM 3366 4563 \r\nL 3366 3988 \r\nQ 3128 4100 2886 4159 \r\nQ 2644 4219 2406 4219 \r\nQ 1781 4219 1451 3797 \r\nQ 1122 3375 1075 2522 \r\nQ 1259 2794 1537 2939 \r\nQ 1816 3084 2150 3084 \r\nQ 2853 3084 3261 2657 \r\nQ 3669 2231 3669 1497 \r\nQ 3669 778 3244 343 \r\nQ 2819 -91 2113 -91 \r\nQ 1303 -91 875 529 \r\nQ 447 1150 447 2328 \r\nQ 447 3434 972 4092 \r\nQ 1497 4750 2381 4750 \r\nQ 2619 4750 2861 4703 \r\nQ 3103 4656 3366 4563 \r\nz\r\n\" id=\"DejaVuSans-36\" transform=\"scale(0.015625)\"/>\r\n       </defs>\r\n       <use xlink:href=\"#DejaVuSans-32\"/>\r\n       <use x=\"63.623047\" xlink:href=\"#DejaVuSans-36\"/>\r\n      </g>\r\n     </g>\r\n    </g>\r\n    <g id=\"xtick_11\">\r\n     <g id=\"line2d_11\">\r\n      <g>\r\n       <use style=\"stroke:#000000;stroke-width:0.8;\" x=\"160.385106\" xlink:href=\"#mee45ddc9e0\" y=\"224.64\"/>\r\n      </g>\r\n     </g>\r\n     <g id=\"text_11\">\r\n      <!-- 20 -->\r\n      <g transform=\"translate(154.022606 239.238437)scale(0.1 -0.1)\">\r\n       <use xlink:href=\"#DejaVuSans-32\"/>\r\n       <use x=\"63.623047\" xlink:href=\"#DejaVuSans-30\"/>\r\n      </g>\r\n     </g>\r\n    </g>\r\n    <g id=\"xtick_12\">\r\n     <g id=\"line2d_12\">\r\n      <g>\r\n       <use style=\"stroke:#000000;stroke-width:0.8;\" x=\"171.255235\" xlink:href=\"#mee45ddc9e0\" y=\"224.64\"/>\r\n      </g>\r\n     </g>\r\n     <g id=\"text_12\">\r\n      <!-- 36 -->\r\n      <g transform=\"translate(164.892735 239.238437)scale(0.1 -0.1)\">\r\n       <use xlink:href=\"#DejaVuSans-33\"/>\r\n       <use x=\"63.623047\" xlink:href=\"#DejaVuSans-36\"/>\r\n      </g>\r\n     </g>\r\n    </g>\r\n    <g id=\"xtick_13\">\r\n     <g id=\"line2d_13\">\r\n      <g>\r\n       <use style=\"stroke:#000000;stroke-width:0.8;\" x=\"182.125365\" xlink:href=\"#mee45ddc9e0\" y=\"224.64\"/>\r\n      </g>\r\n     </g>\r\n     <g id=\"text_13\">\r\n      <!-- 21 -->\r\n      <g transform=\"translate(175.762865 239.238437)scale(0.1 -0.1)\">\r\n       <use xlink:href=\"#DejaVuSans-32\"/>\r\n       <use x=\"63.623047\" xlink:href=\"#DejaVuSans-31\"/>\r\n      </g>\r\n     </g>\r\n    </g>\r\n    <g id=\"xtick_14\">\r\n     <g id=\"line2d_14\">\r\n      <g>\r\n       <use style=\"stroke:#000000;stroke-width:0.8;\" x=\"192.995495\" xlink:href=\"#mee45ddc9e0\" y=\"224.64\"/>\r\n      </g>\r\n     </g>\r\n     <g id=\"text_14\">\r\n      <!-- 45 -->\r\n      <g transform=\"translate(186.632995 239.238437)scale(0.1 -0.1)\">\r\n       <defs>\r\n        <path d=\"M 2419 4116 \r\nL 825 1625 \r\nL 2419 1625 \r\nL 2419 4116 \r\nz\r\nM 2253 4666 \r\nL 3047 4666 \r\nL 3047 1625 \r\nL 3713 1625 \r\nL 3713 1100 \r\nL 3047 1100 \r\nL 3047 0 \r\nL 2419 0 \r\nL 2419 1100 \r\nL 313 1100 \r\nL 313 1709 \r\nL 2253 4666 \r\nz\r\n\" id=\"DejaVuSans-34\" transform=\"scale(0.015625)\"/>\r\n       </defs>\r\n       <use xlink:href=\"#DejaVuSans-34\"/>\r\n       <use x=\"63.623047\" xlink:href=\"#DejaVuSans-35\"/>\r\n      </g>\r\n     </g>\r\n    </g>\r\n    <g id=\"xtick_15\">\r\n     <g id=\"line2d_15\">\r\n      <g>\r\n       <use style=\"stroke:#000000;stroke-width:0.8;\" x=\"203.865625\" xlink:href=\"#mee45ddc9e0\" y=\"224.64\"/>\r\n      </g>\r\n     </g>\r\n     <g id=\"text_15\">\r\n      <!-- 24 -->\r\n      <g transform=\"translate(197.503125 239.238437)scale(0.1 -0.1)\">\r\n       <use xlink:href=\"#DejaVuSans-32\"/>\r\n       <use x=\"63.623047\" xlink:href=\"#DejaVuSans-34\"/>\r\n      </g>\r\n     </g>\r\n    </g>\r\n    <g id=\"xtick_16\">\r\n     <g id=\"line2d_16\">\r\n      <g>\r\n       <use style=\"stroke:#000000;stroke-width:0.8;\" x=\"214.735755\" xlink:href=\"#mee45ddc9e0\" y=\"224.64\"/>\r\n      </g>\r\n     </g>\r\n     <g id=\"text_16\">\r\n      <!-- 55 -->\r\n      <g transform=\"translate(208.373255 239.238437)scale(0.1 -0.1)\">\r\n       <use xlink:href=\"#DejaVuSans-35\"/>\r\n       <use x=\"63.623047\" xlink:href=\"#DejaVuSans-35\"/>\r\n      </g>\r\n     </g>\r\n    </g>\r\n    <g id=\"xtick_17\">\r\n     <g id=\"line2d_17\">\r\n      <g>\r\n       <use style=\"stroke:#000000;stroke-width:0.8;\" x=\"225.605885\" xlink:href=\"#mee45ddc9e0\" y=\"224.64\"/>\r\n      </g>\r\n     </g>\r\n     <g id=\"text_17\">\r\n      <!-- 54 -->\r\n      <g transform=\"translate(219.243385 239.238437)scale(0.1 -0.1)\">\r\n       <use xlink:href=\"#DejaVuSans-35\"/>\r\n       <use x=\"63.623047\" xlink:href=\"#DejaVuSans-34\"/>\r\n      </g>\r\n     </g>\r\n    </g>\r\n    <g id=\"xtick_18\">\r\n     <g id=\"line2d_18\">\r\n      <g>\r\n       <use style=\"stroke:#000000;stroke-width:0.8;\" x=\"236.476015\" xlink:href=\"#mee45ddc9e0\" y=\"224.64\"/>\r\n      </g>\r\n     </g>\r\n     <g id=\"text_18\">\r\n      <!-- 18 -->\r\n      <g transform=\"translate(230.113515 239.238437)scale(0.1 -0.1)\">\r\n       <use xlink:href=\"#DejaVuSans-31\"/>\r\n       <use x=\"63.623047\" xlink:href=\"#DejaVuSans-38\"/>\r\n      </g>\r\n     </g>\r\n    </g>\r\n    <g id=\"xtick_19\">\r\n     <g id=\"line2d_19\">\r\n      <g>\r\n       <use style=\"stroke:#000000;stroke-width:0.8;\" x=\"247.346144\" xlink:href=\"#mee45ddc9e0\" y=\"224.64\"/>\r\n      </g>\r\n     </g>\r\n     <g id=\"text_19\">\r\n      <!-- 19 -->\r\n      <g transform=\"translate(240.983644 239.238437)scale(0.1 -0.1)\">\r\n       <use xlink:href=\"#DejaVuSans-31\"/>\r\n       <use x=\"63.623047\" xlink:href=\"#DejaVuSans-39\"/>\r\n      </g>\r\n     </g>\r\n    </g>\r\n    <g id=\"xtick_20\">\r\n     <g id=\"line2d_20\">\r\n      <g>\r\n       <use style=\"stroke:#000000;stroke-width:0.8;\" x=\"258.216274\" xlink:href=\"#mee45ddc9e0\" y=\"224.64\"/>\r\n      </g>\r\n     </g>\r\n     <g id=\"text_20\">\r\n      <!-- 41 -->\r\n      <g transform=\"translate(251.853774 239.238437)scale(0.1 -0.1)\">\r\n       <use xlink:href=\"#DejaVuSans-34\"/>\r\n       <use x=\"63.623047\" xlink:href=\"#DejaVuSans-31\"/>\r\n      </g>\r\n     </g>\r\n    </g>\r\n    <g id=\"xtick_21\">\r\n     <g id=\"line2d_21\">\r\n      <g>\r\n       <use style=\"stroke:#000000;stroke-width:0.8;\" x=\"269.086404\" xlink:href=\"#mee45ddc9e0\" y=\"224.64\"/>\r\n      </g>\r\n     </g>\r\n     <g id=\"text_21\">\r\n      <!-- 61 -->\r\n      <g transform=\"translate(262.723904 239.238437)scale(0.1 -0.1)\">\r\n       <use xlink:href=\"#DejaVuSans-36\"/>\r\n       <use x=\"63.623047\" xlink:href=\"#DejaVuSans-31\"/>\r\n      </g>\r\n     </g>\r\n    </g>\r\n    <g id=\"xtick_22\">\r\n     <g id=\"line2d_22\">\r\n      <g>\r\n       <use style=\"stroke:#000000;stroke-width:0.8;\" x=\"279.956534\" xlink:href=\"#mee45ddc9e0\" y=\"224.64\"/>\r\n      </g>\r\n     </g>\r\n     <g id=\"text_22\">\r\n      <!-- 38 -->\r\n      <g transform=\"translate(273.594034 239.238437)scale(0.1 -0.1)\">\r\n       <use xlink:href=\"#DejaVuSans-33\"/>\r\n       <use x=\"63.623047\" xlink:href=\"#DejaVuSans-38\"/>\r\n      </g>\r\n     </g>\r\n    </g>\r\n    <g id=\"xtick_23\">\r\n     <g id=\"line2d_23\">\r\n      <g>\r\n       <use style=\"stroke:#000000;stroke-width:0.8;\" x=\"290.826664\" xlink:href=\"#mee45ddc9e0\" y=\"224.64\"/>\r\n      </g>\r\n     </g>\r\n     <g id=\"text_23\">\r\n      <!-- 52 -->\r\n      <g transform=\"translate(284.464164 239.238437)scale(0.1 -0.1)\">\r\n       <use xlink:href=\"#DejaVuSans-35\"/>\r\n       <use x=\"63.623047\" xlink:href=\"#DejaVuSans-32\"/>\r\n      </g>\r\n     </g>\r\n    </g>\r\n    <g id=\"xtick_24\">\r\n     <g id=\"line2d_24\">\r\n      <g>\r\n       <use style=\"stroke:#000000;stroke-width:0.8;\" x=\"301.696794\" xlink:href=\"#mee45ddc9e0\" y=\"224.64\"/>\r\n      </g>\r\n     </g>\r\n     <g id=\"text_24\">\r\n      <!-- 32 -->\r\n      <g transform=\"translate(295.334294 239.238437)scale(0.1 -0.1)\">\r\n       <use xlink:href=\"#DejaVuSans-33\"/>\r\n       <use x=\"63.623047\" xlink:href=\"#DejaVuSans-32\"/>\r\n      </g>\r\n     </g>\r\n    </g>\r\n    <g id=\"xtick_25\">\r\n     <g id=\"line2d_25\">\r\n      <g>\r\n       <use style=\"stroke:#000000;stroke-width:0.8;\" x=\"312.566924\" xlink:href=\"#mee45ddc9e0\" y=\"224.64\"/>\r\n      </g>\r\n     </g>\r\n     <g id=\"text_25\">\r\n      <!-- 37 -->\r\n      <g transform=\"translate(306.204424 239.238437)scale(0.1 -0.1)\">\r\n       <use xlink:href=\"#DejaVuSans-33\"/>\r\n       <use x=\"63.623047\" xlink:href=\"#DejaVuSans-37\"/>\r\n      </g>\r\n     </g>\r\n    </g>\r\n    <g id=\"xtick_26\">\r\n     <g id=\"line2d_26\">\r\n      <g>\r\n       <use style=\"stroke:#000000;stroke-width:0.8;\" x=\"323.437054\" xlink:href=\"#mee45ddc9e0\" y=\"224.64\"/>\r\n      </g>\r\n     </g>\r\n     <g id=\"text_26\">\r\n      <!-- 50 -->\r\n      <g transform=\"translate(317.074554 239.238437)scale(0.1 -0.1)\">\r\n       <use xlink:href=\"#DejaVuSans-35\"/>\r\n       <use x=\"63.623047\" xlink:href=\"#DejaVuSans-30\"/>\r\n      </g>\r\n     </g>\r\n    </g>\r\n    <g id=\"xtick_27\">\r\n     <g id=\"line2d_27\">\r\n      <g>\r\n       <use style=\"stroke:#000000;stroke-width:0.8;\" x=\"334.307183\" xlink:href=\"#mee45ddc9e0\" y=\"224.64\"/>\r\n      </g>\r\n     </g>\r\n     <g id=\"text_27\">\r\n      <!-- 59 -->\r\n      <g transform=\"translate(327.944683 239.238437)scale(0.1 -0.1)\">\r\n       <use xlink:href=\"#DejaVuSans-35\"/>\r\n       <use x=\"63.623047\" xlink:href=\"#DejaVuSans-39\"/>\r\n      </g>\r\n     </g>\r\n    </g>\r\n    <g id=\"xtick_28\">\r\n     <g id=\"line2d_28\">\r\n      <g>\r\n       <use style=\"stroke:#000000;stroke-width:0.8;\" x=\"345.177313\" xlink:href=\"#mee45ddc9e0\" y=\"224.64\"/>\r\n      </g>\r\n     </g>\r\n     <g id=\"text_28\">\r\n      <!-- 46 -->\r\n      <g transform=\"translate(338.814813 239.238437)scale(0.1 -0.1)\">\r\n       <use xlink:href=\"#DejaVuSans-34\"/>\r\n       <use x=\"63.623047\" xlink:href=\"#DejaVuSans-36\"/>\r\n      </g>\r\n     </g>\r\n    </g>\r\n    <g id=\"xtick_29\">\r\n     <g id=\"line2d_29\">\r\n      <g>\r\n       <use style=\"stroke:#000000;stroke-width:0.8;\" x=\"356.047443\" xlink:href=\"#mee45ddc9e0\" y=\"224.64\"/>\r\n      </g>\r\n     </g>\r\n     <g id=\"text_29\">\r\n      <!-- 44 -->\r\n      <g transform=\"translate(349.684943 239.238437)scale(0.1 -0.1)\">\r\n       <use xlink:href=\"#DejaVuSans-34\"/>\r\n       <use x=\"63.623047\" xlink:href=\"#DejaVuSans-34\"/>\r\n      </g>\r\n     </g>\r\n    </g>\r\n   </g>\r\n   <g id=\"matplotlib.axis_2\">\r\n    <g id=\"ytick_1\">\r\n     <g id=\"line2d_30\">\r\n      <defs>\r\n       <path d=\"M 0 0 \r\nL -3.5 0 \r\n\" id=\"m520c97e5ca\" style=\"stroke:#000000;stroke-width:0.8;\"/>\r\n      </defs>\r\n      <g>\r\n       <use style=\"stroke:#000000;stroke-width:0.8;\" x=\"36.465625\" xlink:href=\"#m520c97e5ca\" y=\"224.64\"/>\r\n      </g>\r\n     </g>\r\n     <g id=\"text_30\">\r\n      <!-- 0.0 -->\r\n      <g transform=\"translate(13.5625 228.439219)scale(0.1 -0.1)\">\r\n       <defs>\r\n        <path d=\"M 684 794 \r\nL 1344 794 \r\nL 1344 0 \r\nL 684 0 \r\nL 684 794 \r\nz\r\n\" id=\"DejaVuSans-2e\" transform=\"scale(0.015625)\"/>\r\n       </defs>\r\n       <use xlink:href=\"#DejaVuSans-30\"/>\r\n       <use x=\"63.623047\" xlink:href=\"#DejaVuSans-2e\"/>\r\n       <use x=\"95.410156\" xlink:href=\"#DejaVuSans-30\"/>\r\n      </g>\r\n     </g>\r\n    </g>\r\n    <g id=\"ytick_2\">\r\n     <g id=\"line2d_31\">\r\n      <g>\r\n       <use style=\"stroke:#000000;stroke-width:0.8;\" x=\"36.465625\" xlink:href=\"#m520c97e5ca\" y=\"198.754286\"/>\r\n      </g>\r\n     </g>\r\n     <g id=\"text_31\">\r\n      <!-- 2.5 -->\r\n      <g transform=\"translate(13.5625 202.553504)scale(0.1 -0.1)\">\r\n       <use xlink:href=\"#DejaVuSans-32\"/>\r\n       <use x=\"63.623047\" xlink:href=\"#DejaVuSans-2e\"/>\r\n       <use x=\"95.410156\" xlink:href=\"#DejaVuSans-35\"/>\r\n      </g>\r\n     </g>\r\n    </g>\r\n    <g id=\"ytick_3\">\r\n     <g id=\"line2d_32\">\r\n      <g>\r\n       <use style=\"stroke:#000000;stroke-width:0.8;\" x=\"36.465625\" xlink:href=\"#m520c97e5ca\" y=\"172.868571\"/>\r\n      </g>\r\n     </g>\r\n     <g id=\"text_32\">\r\n      <!-- 5.0 -->\r\n      <g transform=\"translate(13.5625 176.66779)scale(0.1 -0.1)\">\r\n       <use xlink:href=\"#DejaVuSans-35\"/>\r\n       <use x=\"63.623047\" xlink:href=\"#DejaVuSans-2e\"/>\r\n       <use x=\"95.410156\" xlink:href=\"#DejaVuSans-30\"/>\r\n      </g>\r\n     </g>\r\n    </g>\r\n    <g id=\"ytick_4\">\r\n     <g id=\"line2d_33\">\r\n      <g>\r\n       <use style=\"stroke:#000000;stroke-width:0.8;\" x=\"36.465625\" xlink:href=\"#m520c97e5ca\" y=\"146.982857\"/>\r\n      </g>\r\n     </g>\r\n     <g id=\"text_33\">\r\n      <!-- 7.5 -->\r\n      <g transform=\"translate(13.5625 150.782076)scale(0.1 -0.1)\">\r\n       <use xlink:href=\"#DejaVuSans-37\"/>\r\n       <use x=\"63.623047\" xlink:href=\"#DejaVuSans-2e\"/>\r\n       <use x=\"95.410156\" xlink:href=\"#DejaVuSans-35\"/>\r\n      </g>\r\n     </g>\r\n    </g>\r\n    <g id=\"ytick_5\">\r\n     <g id=\"line2d_34\">\r\n      <g>\r\n       <use style=\"stroke:#000000;stroke-width:0.8;\" x=\"36.465625\" xlink:href=\"#m520c97e5ca\" y=\"121.097143\"/>\r\n      </g>\r\n     </g>\r\n     <g id=\"text_34\">\r\n      <!-- 10.0 -->\r\n      <g transform=\"translate(7.2 124.896362)scale(0.1 -0.1)\">\r\n       <use xlink:href=\"#DejaVuSans-31\"/>\r\n       <use x=\"63.623047\" xlink:href=\"#DejaVuSans-30\"/>\r\n       <use x=\"127.246094\" xlink:href=\"#DejaVuSans-2e\"/>\r\n       <use x=\"159.033203\" xlink:href=\"#DejaVuSans-30\"/>\r\n      </g>\r\n     </g>\r\n    </g>\r\n    <g id=\"ytick_6\">\r\n     <g id=\"line2d_35\">\r\n      <g>\r\n       <use style=\"stroke:#000000;stroke-width:0.8;\" x=\"36.465625\" xlink:href=\"#m520c97e5ca\" y=\"95.211429\"/>\r\n      </g>\r\n     </g>\r\n     <g id=\"text_35\">\r\n      <!-- 12.5 -->\r\n      <g transform=\"translate(7.2 99.010647)scale(0.1 -0.1)\">\r\n       <use xlink:href=\"#DejaVuSans-31\"/>\r\n       <use x=\"63.623047\" xlink:href=\"#DejaVuSans-32\"/>\r\n       <use x=\"127.246094\" xlink:href=\"#DejaVuSans-2e\"/>\r\n       <use x=\"159.033203\" xlink:href=\"#DejaVuSans-35\"/>\r\n      </g>\r\n     </g>\r\n    </g>\r\n    <g id=\"ytick_7\">\r\n     <g id=\"line2d_36\">\r\n      <g>\r\n       <use style=\"stroke:#000000;stroke-width:0.8;\" x=\"36.465625\" xlink:href=\"#m520c97e5ca\" y=\"69.325714\"/>\r\n      </g>\r\n     </g>\r\n     <g id=\"text_36\">\r\n      <!-- 15.0 -->\r\n      <g transform=\"translate(7.2 73.124933)scale(0.1 -0.1)\">\r\n       <use xlink:href=\"#DejaVuSans-31\"/>\r\n       <use x=\"63.623047\" xlink:href=\"#DejaVuSans-35\"/>\r\n       <use x=\"127.246094\" xlink:href=\"#DejaVuSans-2e\"/>\r\n       <use x=\"159.033203\" xlink:href=\"#DejaVuSans-30\"/>\r\n      </g>\r\n     </g>\r\n    </g>\r\n    <g id=\"ytick_8\">\r\n     <g id=\"line2d_37\">\r\n      <g>\r\n       <use style=\"stroke:#000000;stroke-width:0.8;\" x=\"36.465625\" xlink:href=\"#m520c97e5ca\" y=\"43.44\"/>\r\n      </g>\r\n     </g>\r\n     <g id=\"text_37\">\r\n      <!-- 17.5 -->\r\n      <g transform=\"translate(7.2 47.239219)scale(0.1 -0.1)\">\r\n       <use xlink:href=\"#DejaVuSans-31\"/>\r\n       <use x=\"63.623047\" xlink:href=\"#DejaVuSans-37\"/>\r\n       <use x=\"127.246094\" xlink:href=\"#DejaVuSans-2e\"/>\r\n       <use x=\"159.033203\" xlink:href=\"#DejaVuSans-35\"/>\r\n      </g>\r\n     </g>\r\n    </g>\r\n    <g id=\"ytick_9\">\r\n     <g id=\"line2d_38\">\r\n      <g>\r\n       <use style=\"stroke:#000000;stroke-width:0.8;\" x=\"36.465625\" xlink:href=\"#m520c97e5ca\" y=\"17.554286\"/>\r\n      </g>\r\n     </g>\r\n     <g id=\"text_38\">\r\n      <!-- 20.0 -->\r\n      <g transform=\"translate(7.2 21.353504)scale(0.1 -0.1)\">\r\n       <use xlink:href=\"#DejaVuSans-32\"/>\r\n       <use x=\"63.623047\" xlink:href=\"#DejaVuSans-30\"/>\r\n       <use x=\"127.246094\" xlink:href=\"#DejaVuSans-2e\"/>\r\n       <use x=\"159.033203\" xlink:href=\"#DejaVuSans-30\"/>\r\n      </g>\r\n     </g>\r\n    </g>\r\n   </g>\r\n   <g id=\"patch_13\">\r\n    <path d=\"M 36.465625 224.64 \r\nL 36.465625 7.2 \r\n\" style=\"fill:none;stroke:#000000;stroke-linecap:square;stroke-linejoin:miter;stroke-width:0.8;\"/>\r\n   </g>\r\n   <g id=\"patch_14\">\r\n    <path d=\"M 371.265625 224.64 \r\nL 371.265625 7.2 \r\n\" style=\"fill:none;stroke:#000000;stroke-linecap:square;stroke-linejoin:miter;stroke-width:0.8;\"/>\r\n   </g>\r\n   <g id=\"patch_15\">\r\n    <path d=\"M 36.465625 224.64 \r\nL 371.265625 224.64 \r\n\" style=\"fill:none;stroke:#000000;stroke-linecap:square;stroke-linejoin:miter;stroke-width:0.8;\"/>\r\n   </g>\r\n   <g id=\"patch_16\">\r\n    <path d=\"M 36.465625 7.2 \r\nL 371.265625 7.2 \r\n\" style=\"fill:none;stroke:#000000;stroke-linecap:square;stroke-linejoin:miter;stroke-width:0.8;\"/>\r\n   </g>\r\n  </g>\r\n </g>\r\n <defs>\r\n  <clipPath id=\"p72732ee15e\">\r\n   <rect height=\"217.44\" width=\"334.8\" x=\"36.465625\" y=\"7.2\"/>\r\n  </clipPath>\r\n </defs>\r\n</svg>\r\n",
      "image/png": "[encoded data removed]"
     },
     "metadata": {
      "needs_background": "light"
     }
    }
   ],
   "source": [
    "plt.hist(data['Age'],bins=10)"
   ]
  },
  {
   "cell_type": "code",
   "execution_count": 12,
   "metadata": {},
   "outputs": [],
   "source": [
    "data['Age'] = data['Age'].astype(int)"
   ]
  },
  {
   "cell_type": "code",
   "execution_count": 13,
   "metadata": {},
   "outputs": [
    {
     "output_type": "execute_result",
     "data": {
      "text/plain": [
       "   Age     Gender Sexual_orientation                            School  \\\n",
       "0   28  Masculino      Heterossexual                      Licenciatura   \n",
       "1   31  Masculino      Heterossexual  Ensino secundário ou equivalente   \n",
       "2   27   Feminino      Heterossexual                          Mestrado   \n",
       "3   28  Masculino      Heterossexual                          Mestrado   \n",
       "4   27  Masculino      Heterossexual                      Licenciatura   \n",
       "\n",
       "         Religion             Income  Personal_Sincerity  Personal_Loyalty  \\\n",
       "0            Ateu  1600 - 2000 euros                   6                 7   \n",
       "1        Católico  1000 - 1300 euros                   7                 7   \n",
       "2        Católico  1000 - 1300 euros                   6                 8   \n",
       "3            Ateu  1600 - 2000 euros                   8                 8   \n",
       "4  Pastafarinismo   800 - 1000 euros                   6                 7   \n",
       "\n",
       "   Personal_Self_confidence  Personal_Braveness  ...  \\\n",
       "0                         4                   5  ...   \n",
       "1                         4                   5  ...   \n",
       "2                         4                   6  ...   \n",
       "3                         8                   8  ...   \n",
       "4                         5                   5  ...   \n",
       "\n",
       "   Relationship_Forgiveness  Relationship_Gentleness  Relationship_Affection  \\\n",
       "0                       6.0                      6.0                     5.0   \n",
       "1                       NaN                      NaN                     NaN   \n",
       "2                       5.0                      6.0                     6.0   \n",
       "3                       6.0                      6.0                     6.0   \n",
       "4                       NaN                      NaN                     NaN   \n",
       "\n",
       "   Relationship_Appreciation  Relationship_Validation  Relationship_Freedom  \\\n",
       "0                        5.0                      4.0                   5.0   \n",
       "1                        NaN                      NaN                   NaN   \n",
       "2                        6.0                      6.0                   6.0   \n",
       "3                        6.0                      6.0                   6.0   \n",
       "4                        NaN                      NaN                   NaN   \n",
       "\n",
       "   Relationship_Alone                                 Relationship_type  ID  \\\n",
       "0                 5.0  Casamento/Relacionamento monogâmico ou exclusivo   0   \n",
       "1                 NaN                                               NaN   1   \n",
       "2                 6.0  Casamento/Relacionamento monogâmico ou exclusivo   2   \n",
       "3                 4.0  Casamento/Relacionamento monogâmico ou exclusivo   3   \n",
       "4                 NaN                                               NaN   4   \n",
       "\n",
       "   Age_nm  \n",
       "0  25-30s  \n",
       "1  30-35s  \n",
       "2  25-30s  \n",
       "3  25-30s  \n",
       "4  25-30s  \n",
       "\n",
       "[5 rows x 103 columns]"
      ],
      "text/html": "<div>\n<style scoped>\n    .dataframe tbody tr th:only-of-type {\n        vertical-align: middle;\n    }\n\n    .dataframe tbody tr th {\n        vertical-align: top;\n    }\n\n    .dataframe thead th {\n        text-align: right;\n    }\n</style>\n<table border=\"1\" class=\"dataframe\">\n  <thead>\n    <tr style=\"text-align: right;\">\n      <th></th>\n      <th>Age</th>\n      <th>Gender</th>\n      <th>Sexual_orientation</th>\n      <th>School</th>\n      <th>Religion</th>\n      <th>Income</th>\n      <th>Personal_Sincerity</th>\n      <th>Personal_Loyalty</th>\n      <th>Personal_Self_confidence</th>\n      <th>Personal_Braveness</th>\n      <th>...</th>\n      <th>Relationship_Forgiveness</th>\n      <th>Relationship_Gentleness</th>\n      <th>Relationship_Affection</th>\n      <th>Relationship_Appreciation</th>\n      <th>Relationship_Validation</th>\n      <th>Relationship_Freedom</th>\n      <th>Relationship_Alone</th>\n      <th>Relationship_type</th>\n      <th>ID</th>\n      <th>Age_nm</th>\n    </tr>\n  </thead>\n  <tbody>\n    <tr>\n      <th>0</th>\n      <td>28</td>\n      <td>Masculino</td>\n      <td>Heterossexual</td>\n      <td>Licenciatura</td>\n      <td>Ateu</td>\n      <td>1600 - 2000 euros</td>\n      <td>6</td>\n      <td>7</td>\n      <td>4</td>\n      <td>5</td>\n      <td>...</td>\n      <td>6.0</td>\n      <td>6.0</td>\n      <td>5.0</td>\n      <td>5.0</td>\n      <td>4.0</td>\n      <td>5.0</td>\n      <td>5.0</td>\n      <td>Casamento/Relacionamento monogâmico ou exclusivo</td>\n      <td>0</td>\n      <td>25-30s</td>\n    </tr>\n    <tr>\n      <th>1</th>\n      <td>31</td>\n      <td>Masculino</td>\n      <td>Heterossexual</td>\n      <td>Ensino secundário ou equivalente</td>\n      <td>Católico</td>\n      <td>1000 - 1300 euros</td>\n      <td>7</td>\n      <td>7</td>\n      <td>4</td>\n      <td>5</td>\n      <td>...</td>\n      <td>NaN</td>\n      <td>NaN</td>\n      <td>NaN</td>\n      <td>NaN</td>\n      <td>NaN</td>\n      <td>NaN</td>\n      <td>NaN</td>\n      <td>NaN</td>\n      <td>1</td>\n      <td>30-35s</td>\n    </tr>\n    <tr>\n      <th>2</th>\n      <td>27</td>\n      <td>Feminino</td>\n      <td>Heterossexual</td>\n      <td>Mestrado</td>\n      <td>Católico</td>\n      <td>1000 - 1300 euros</td>\n      <td>6</td>\n      <td>8</td>\n      <td>4</td>\n      <td>6</td>\n      <td>...</td>\n      <td>5.0</td>\n      <td>6.0</td>\n      <td>6.0</td>\n      <td>6.0</td>\n      <td>6.0</td>\n      <td>6.0</td>\n      <td>6.0</td>\n      <td>Casamento/Relacionamento monogâmico ou exclusivo</td>\n      <td>2</td>\n      <td>25-30s</td>\n    </tr>\n    <tr>\n      <th>3</th>\n      <td>28</td>\n      <td>Masculino</td>\n      <td>Heterossexual</td>\n      <td>Mestrado</td>\n      <td>Ateu</td>\n      <td>1600 - 2000 euros</td>\n      <td>8</td>\n      <td>8</td>\n      <td>8</td>\n      <td>8</td>\n      <td>...</td>\n      <td>6.0</td>\n      <td>6.0</td>\n      <td>6.0</td>\n      <td>6.0</td>\n      <td>6.0</td>\n      <td>6.0</td>\n      <td>4.0</td>\n      <td>Casamento/Relacionamento monogâmico ou exclusivo</td>\n      <td>3</td>\n      <td>25-30s</td>\n    </tr>\n    <tr>\n      <th>4</th>\n      <td>27</td>\n      <td>Masculino</td>\n      <td>Heterossexual</td>\n      <td>Licenciatura</td>\n      <td>Pastafarinismo</td>\n      <td>800 - 1000 euros</td>\n      <td>6</td>\n      <td>7</td>\n      <td>5</td>\n      <td>5</td>\n      <td>...</td>\n      <td>NaN</td>\n      <td>NaN</td>\n      <td>NaN</td>\n      <td>NaN</td>\n      <td>NaN</td>\n      <td>NaN</td>\n      <td>NaN</td>\n      <td>NaN</td>\n      <td>4</td>\n      <td>25-30s</td>\n    </tr>\n  </tbody>\n</table>\n<p>5 rows × 103 columns</p>\n</div>"
     },
     "metadata": {},
     "execution_count": 13
    }
   ],
   "source": [
    "# create a list of our conditions\n",
    "conditions = [\n",
    "    (data['Age'] <= 20),                              ## 18-20s\n",
    "    ((data['Age'] <= 25) & (data['Age'] > 20)),       ## 20-25s\n",
    "    ((data['Age'] <= 30) & (data['Age'] > 25)),       ## 25-30s\n",
    "    ((data['Age'] <= 35) & (data['Age'] > 30)),       ## 30-35s\n",
    "    ((data['Age'] <= 40) & (data['Age'] > 35)),       ## 35-40s\n",
    "    ((data['Age'] <= 45) & (data['Age'] > 40)),       ## 40-45s\n",
    "    ((data['Age'] <= 50) & (data['Age'] > 45)),       ## 45-50s\n",
    "    ((data['Age'] <= 55) & (data['Age'] > 50)),       ## 50-55s\n",
    "    ((data['Age'] <= 60) & (data['Age'] > 55)),       ## 55-60s\n",
    "    ((data['Age'] <= 65) & (data['Age'] > 60)),       ## 60-65s\n",
    "    (data['Age'] > 65)]                               ## 65s\n",
    "\n",
    "# create a list of the values we want to assign for each condition\n",
    "values = ['18-20s','20-25s','25-30s','30-35s','35-40s','40-45s','45-50s','50-55s','55-60s','60-65s','65s']\n",
    "\n",
    "# create a new column and use np.select to assign values to it using our lists as arguments\n",
    "data['Age_nm'] = np.select(conditions, values)\n",
    "\n",
    "# display updated DataFrame\n",
    "data.head()"
   ]
  },
  {
   "source": [
    "## Gender"
   ],
   "cell_type": "markdown",
   "metadata": {}
  },
  {
   "cell_type": "code",
   "execution_count": 14,
   "metadata": {},
   "outputs": [],
   "source": [
    "#Gender"
   ]
  },
  {
   "cell_type": "code",
   "execution_count": 15,
   "metadata": {},
   "outputs": [
    {
     "output_type": "execute_result",
     "data": {
      "text/plain": [
       "array(['Masculino', 'Feminino'], dtype=object)"
      ]
     },
     "metadata": {},
     "execution_count": 15
    }
   ],
   "source": [
    "data['Gender'].unique()  ## check unique values"
   ]
  },
  {
   "cell_type": "code",
   "execution_count": 16,
   "metadata": {},
   "outputs": [],
   "source": [
    "data['Gender'] = data['Gender'].replace('Masculino','Male')    ## uniform answers\n",
    "data['Gender'] = data['Gender'].replace('Feminino','Female')\n",
    "data['Gender'] = data['Gender'].replace('Não binário','Non-binary')\n",
    "data['Gender'] = data['Gender'].replace('Prefiro não responder','Prefer not to disclose')"
   ]
  },
  {
   "cell_type": "code",
   "execution_count": 17,
   "metadata": {},
   "outputs": [
    {
     "output_type": "execute_result",
     "data": {
      "text/plain": [
       "array(['Male', 'Female'], dtype=object)"
      ]
     },
     "metadata": {},
     "execution_count": 17
    }
   ],
   "source": [
    "data['Gender'].unique()  ## check changes made"
   ]
  },
  {
   "source": [
    "## Sexual Orientation"
   ],
   "cell_type": "markdown",
   "metadata": {}
  },
  {
   "cell_type": "code",
   "execution_count": 18,
   "metadata": {},
   "outputs": [],
   "source": [
    "## Sexual orientation"
   ]
  },
  {
   "cell_type": "code",
   "execution_count": 19,
   "metadata": {},
   "outputs": [
    {
     "output_type": "execute_result",
     "data": {
      "text/plain": [
       "array(['Heterossexual', 'Homossexual', 'Prefiro não responder'],\n",
       "      dtype=object)"
      ]
     },
     "metadata": {},
     "execution_count": 19
    }
   ],
   "source": [
    "data['Sexual_orientation'].unique()  ## check unique values"
   ]
  },
  {
   "cell_type": "code",
   "execution_count": 20,
   "metadata": {},
   "outputs": [],
   "source": [
    "data['Sexual_orientation'] = data['Sexual_orientation'].replace('Heterossexual','Heterosexual')    ## uniform answers\n",
    "data['Sexual_orientation'] = data['Sexual_orientation'].replace('Homossexual','Homosexual')\n",
    "data['Sexual_orientation'] = data['Sexual_orientation'].replace('Bissexual','Bisexual')\n",
    "data['Sexual_orientation'] = data['Sexual_orientation'].replace('Prefiro não responder','Prefer not to disclose')"
   ]
  },
  {
   "cell_type": "code",
   "execution_count": 21,
   "metadata": {},
   "outputs": [
    {
     "output_type": "execute_result",
     "data": {
      "text/plain": [
       "array(['Heterosexual', 'Homosexual', 'Prefer not to disclose'],\n",
       "      dtype=object)"
      ]
     },
     "metadata": {},
     "execution_count": 21
    }
   ],
   "source": [
    "data['Sexual_orientation'].unique()  ## check changes made"
   ]
  },
  {
   "source": [
    "## School"
   ],
   "cell_type": "markdown",
   "metadata": {}
  },
  {
   "cell_type": "code",
   "execution_count": 22,
   "metadata": {},
   "outputs": [],
   "source": [
    "## School"
   ]
  },
  {
   "cell_type": "code",
   "execution_count": 23,
   "metadata": {},
   "outputs": [
    {
     "output_type": "execute_result",
     "data": {
      "text/plain": [
       "array(['Licenciatura', 'Ensino secundário ou equivalente', 'Mestrado',\n",
       "       'Doutoramento',\n",
       "       'Qualificação de nível pós-secundário não superior',\n",
       "       'Qualificação de nível secundário (técnico/vocacional)'],\n",
       "      dtype=object)"
      ]
     },
     "metadata": {},
     "execution_count": 23
    }
   ],
   "source": [
    "data['School'].unique()  ## check unique values"
   ]
  },
  {
   "cell_type": "code",
   "execution_count": 24,
   "metadata": {},
   "outputs": [],
   "source": [
    "data['School'] = data['School'].replace('Ensino básico','Basic school') ## uniform answers\n",
    "data['School'] = data['School'].replace('Ensino secundário ou equivalente','High school') \n",
    "data['School'] = data['School'].replace('Qualificação de nível secundário (técnico/vocacional)','Technical/vocational') \n",
    "data['School'] = data['School'].replace('Qualificação de nível pós-secundário não superior','Associate') \n",
    "data['School'] = data['School'].replace('Licenciatura','Bachelor')\n",
    "data['School'] = data['School'].replace('Mestrado','Master')\n",
    "data['School'] = data['School'].replace('Doutoramento','Doctorate')"
   ]
  },
  {
   "cell_type": "code",
   "execution_count": 25,
   "metadata": {},
   "outputs": [
    {
     "output_type": "execute_result",
     "data": {
      "text/plain": [
       "array(['Bachelor', 'High school', 'Master', 'Doctorate', 'Associate',\n",
       "       'Technical/vocational'], dtype=object)"
      ]
     },
     "metadata": {},
     "execution_count": 25
    }
   ],
   "source": [
    "data['School'].unique()  ## check changes made"
   ]
  },
  {
   "cell_type": "code",
   "execution_count": 26,
   "metadata": {},
   "outputs": [
    {
     "output_type": "execute_result",
     "data": {
      "text/plain": [
       "   Age  Gender Sexual_orientation       School        Religion  \\\n",
       "0   28    Male       Heterosexual     Bachelor            Ateu   \n",
       "1   31    Male       Heterosexual  High school        Católico   \n",
       "2   27  Female       Heterosexual       Master        Católico   \n",
       "3   28    Male       Heterosexual       Master            Ateu   \n",
       "4   27    Male       Heterosexual     Bachelor  Pastafarinismo   \n",
       "\n",
       "              Income  Personal_Sincerity  Personal_Loyalty  \\\n",
       "0  1600 - 2000 euros                   6                 7   \n",
       "1  1000 - 1300 euros                   7                 7   \n",
       "2  1000 - 1300 euros                   6                 8   \n",
       "3  1600 - 2000 euros                   8                 8   \n",
       "4   800 - 1000 euros                   6                 7   \n",
       "\n",
       "   Personal_Self_confidence  Personal_Braveness  ...  Relationship_Gentleness  \\\n",
       "0                         4                   5  ...                      6.0   \n",
       "1                         4                   5  ...                      NaN   \n",
       "2                         4                   6  ...                      6.0   \n",
       "3                         8                   8  ...                      6.0   \n",
       "4                         5                   5  ...                      NaN   \n",
       "\n",
       "   Relationship_Affection  Relationship_Appreciation  Relationship_Validation  \\\n",
       "0                     5.0                        5.0                      4.0   \n",
       "1                     NaN                        NaN                      NaN   \n",
       "2                     6.0                        6.0                      6.0   \n",
       "3                     6.0                        6.0                      6.0   \n",
       "4                     NaN                        NaN                      NaN   \n",
       "\n",
       "   Relationship_Freedom  Relationship_Alone  \\\n",
       "0                   5.0                 5.0   \n",
       "1                   NaN                 NaN   \n",
       "2                   6.0                 6.0   \n",
       "3                   6.0                 4.0   \n",
       "4                   NaN                 NaN   \n",
       "\n",
       "                                  Relationship_type  ID  Age_nm  School_nm  \n",
       "0  Casamento/Relacionamento monogâmico ou exclusivo   0  25-30s          4  \n",
       "1                                               NaN   1  30-35s          1  \n",
       "2  Casamento/Relacionamento monogâmico ou exclusivo   2  25-30s          5  \n",
       "3  Casamento/Relacionamento monogâmico ou exclusivo   3  25-30s          5  \n",
       "4                                               NaN   4  25-30s          4  \n",
       "\n",
       "[5 rows x 104 columns]"
      ],
      "text/html": "<div>\n<style scoped>\n    .dataframe tbody tr th:only-of-type {\n        vertical-align: middle;\n    }\n\n    .dataframe tbody tr th {\n        vertical-align: top;\n    }\n\n    .dataframe thead th {\n        text-align: right;\n    }\n</style>\n<table border=\"1\" class=\"dataframe\">\n  <thead>\n    <tr style=\"text-align: right;\">\n      <th></th>\n      <th>Age</th>\n      <th>Gender</th>\n      <th>Sexual_orientation</th>\n      <th>School</th>\n      <th>Religion</th>\n      <th>Income</th>\n      <th>Personal_Sincerity</th>\n      <th>Personal_Loyalty</th>\n      <th>Personal_Self_confidence</th>\n      <th>Personal_Braveness</th>\n      <th>...</th>\n      <th>Relationship_Gentleness</th>\n      <th>Relationship_Affection</th>\n      <th>Relationship_Appreciation</th>\n      <th>Relationship_Validation</th>\n      <th>Relationship_Freedom</th>\n      <th>Relationship_Alone</th>\n      <th>Relationship_type</th>\n      <th>ID</th>\n      <th>Age_nm</th>\n      <th>School_nm</th>\n    </tr>\n  </thead>\n  <tbody>\n    <tr>\n      <th>0</th>\n      <td>28</td>\n      <td>Male</td>\n      <td>Heterosexual</td>\n      <td>Bachelor</td>\n      <td>Ateu</td>\n      <td>1600 - 2000 euros</td>\n      <td>6</td>\n      <td>7</td>\n      <td>4</td>\n      <td>5</td>\n      <td>...</td>\n      <td>6.0</td>\n      <td>5.0</td>\n      <td>5.0</td>\n      <td>4.0</td>\n      <td>5.0</td>\n      <td>5.0</td>\n      <td>Casamento/Relacionamento monogâmico ou exclusivo</td>\n      <td>0</td>\n      <td>25-30s</td>\n      <td>4</td>\n    </tr>\n    <tr>\n      <th>1</th>\n      <td>31</td>\n      <td>Male</td>\n      <td>Heterosexual</td>\n      <td>High school</td>\n      <td>Católico</td>\n      <td>1000 - 1300 euros</td>\n      <td>7</td>\n      <td>7</td>\n      <td>4</td>\n      <td>5</td>\n      <td>...</td>\n      <td>NaN</td>\n      <td>NaN</td>\n      <td>NaN</td>\n      <td>NaN</td>\n      <td>NaN</td>\n      <td>NaN</td>\n      <td>NaN</td>\n      <td>1</td>\n      <td>30-35s</td>\n      <td>1</td>\n    </tr>\n    <tr>\n      <th>2</th>\n      <td>27</td>\n      <td>Female</td>\n      <td>Heterosexual</td>\n      <td>Master</td>\n      <td>Católico</td>\n      <td>1000 - 1300 euros</td>\n      <td>6</td>\n      <td>8</td>\n      <td>4</td>\n      <td>6</td>\n      <td>...</td>\n      <td>6.0</td>\n      <td>6.0</td>\n      <td>6.0</td>\n      <td>6.0</td>\n      <td>6.0</td>\n      <td>6.0</td>\n      <td>Casamento/Relacionamento monogâmico ou exclusivo</td>\n      <td>2</td>\n      <td>25-30s</td>\n      <td>5</td>\n    </tr>\n    <tr>\n      <th>3</th>\n      <td>28</td>\n      <td>Male</td>\n      <td>Heterosexual</td>\n      <td>Master</td>\n      <td>Ateu</td>\n      <td>1600 - 2000 euros</td>\n      <td>8</td>\n      <td>8</td>\n      <td>8</td>\n      <td>8</td>\n      <td>...</td>\n      <td>6.0</td>\n      <td>6.0</td>\n      <td>6.0</td>\n      <td>6.0</td>\n      <td>6.0</td>\n      <td>4.0</td>\n      <td>Casamento/Relacionamento monogâmico ou exclusivo</td>\n      <td>3</td>\n      <td>25-30s</td>\n      <td>5</td>\n    </tr>\n    <tr>\n      <th>4</th>\n      <td>27</td>\n      <td>Male</td>\n      <td>Heterosexual</td>\n      <td>Bachelor</td>\n      <td>Pastafarinismo</td>\n      <td>800 - 1000 euros</td>\n      <td>6</td>\n      <td>7</td>\n      <td>5</td>\n      <td>5</td>\n      <td>...</td>\n      <td>NaN</td>\n      <td>NaN</td>\n      <td>NaN</td>\n      <td>NaN</td>\n      <td>NaN</td>\n      <td>NaN</td>\n      <td>NaN</td>\n      <td>4</td>\n      <td>25-30s</td>\n      <td>4</td>\n    </tr>\n  </tbody>\n</table>\n<p>5 rows × 104 columns</p>\n</div>"
     },
     "metadata": {},
     "execution_count": 26
    }
   ],
   "source": [
    "# create a list of our conditions\n",
    "conditions = [\n",
    "    (data['School'] == 'Basic school'),          ## Basic school will be 0\n",
    "    (data['School'] == 'High school'),           ## High school will be 1\n",
    "    (data['School'] == 'Technical/vocational'),  ## Technical/vocational will be 2\n",
    "    (data['School'] == 'Associate'),             ## Associate will be 3\n",
    "    (data['School'] == 'Bachelor'),              ## Bachelor will be 4\n",
    "    (data['School'] == 'Master'),                ## Master will be 5\n",
    "    (data['School'] == 'Doctorate')]             ## Doctorate will be 6\n",
    "\n",
    "# create a list of the values we want to assign for each condition\n",
    "values = [0, 1, 2, 3, 4, 5, 6]\n",
    "\n",
    "# create a new column and use np.select to assign values to it using our lists as arguments\n",
    "data['School_nm'] = np.select(conditions, values)\n",
    "\n",
    "# display updated DataFrame\n",
    "data.head()"
   ]
  },
  {
   "source": [
    "## Religion"
   ],
   "cell_type": "markdown",
   "metadata": {}
  },
  {
   "cell_type": "code",
   "execution_count": 27,
   "metadata": {},
   "outputs": [],
   "source": [
    "## Religion"
   ]
  },
  {
   "cell_type": "code",
   "execution_count": 28,
   "metadata": {},
   "outputs": [
    {
     "output_type": "execute_result",
     "data": {
      "text/plain": [
       "array(['Ateu', 'Católico', 'Pastafarinismo', 'Agnóstico', 'Não sei',\n",
       "       'Muçulmano'], dtype=object)"
      ]
     },
     "metadata": {},
     "execution_count": 28
    }
   ],
   "source": [
    "data['Religion'].unique()  ## check unique values"
   ]
  },
  {
   "cell_type": "code",
   "execution_count": 29,
   "metadata": {},
   "outputs": [],
   "source": [
    "data['Religion'] = data['Religion'].replace('Católico','Christian')\n",
    "data['Religion'] = data['Religion'].replace('Muçulmano','Muslim')\n",
    "data['Religion'] = data['Religion'].replace('Budista','Buddhist')\n",
    "data['Religion'] = data['Religion'].replace('Ateu','Atheist')    ## uniform answers\n",
    "data['Religion'] = data['Religion'].replace('Agnóstico','Agnostic')\n",
    "data['Religion'] = data['Religion'].replace('Não sei','Don’t know')\n",
    "data['Religion'] = data['Religion'].replace('Pastafarinismo','Pastafarianism')"
   ]
  },
  {
   "cell_type": "code",
   "execution_count": 30,
   "metadata": {},
   "outputs": [
    {
     "output_type": "execute_result",
     "data": {
      "text/plain": [
       "array(['Atheist', 'Christian', 'Pastafarianism', 'Agnostic', 'Don’t know',\n",
       "       'Muslim'], dtype=object)"
      ]
     },
     "metadata": {},
     "execution_count": 30
    }
   ],
   "source": [
    "data['Religion'].unique()  ## check changes made"
   ]
  },
  {
   "source": [
    "## Income"
   ],
   "cell_type": "markdown",
   "metadata": {}
  },
  {
   "cell_type": "code",
   "execution_count": 31,
   "metadata": {},
   "outputs": [],
   "source": [
    "## Income"
   ]
  },
  {
   "cell_type": "code",
   "execution_count": 32,
   "metadata": {},
   "outputs": [
    {
     "output_type": "execute_result",
     "data": {
      "text/plain": [
       "array(['1600 - 2000 euros', '1000 - 1300 euros', '800 - 1000 euros',\n",
       "       'Mais de 3000 euros', '1300 - 1600 euros', 'Menos de 800 euros',\n",
       "       '2000 - 3000 euros'], dtype=object)"
      ]
     },
     "metadata": {},
     "execution_count": 32
    }
   ],
   "source": [
    "data['Income'].unique()  ## check unique values"
   ]
  },
  {
   "cell_type": "code",
   "execution_count": 33,
   "metadata": {},
   "outputs": [],
   "source": [
    "data['Income'] = data['Income'].replace('Mais de 3000 euros','More than 3000 euros')    ## uniform answers\n",
    "data['Income'] = data['Income'].replace('Menos de 800 euros','Less than 800 euros')"
   ]
  },
  {
   "cell_type": "code",
   "execution_count": 34,
   "metadata": {},
   "outputs": [
    {
     "output_type": "execute_result",
     "data": {
      "text/plain": [
       "array(['1600 - 2000 euros', '1000 - 1300 euros', '800 - 1000 euros',\n",
       "       'More than 3000 euros', '1300 - 1600 euros', 'Less than 800 euros',\n",
       "       '2000 - 3000 euros'], dtype=object)"
      ]
     },
     "metadata": {},
     "execution_count": 34
    }
   ],
   "source": [
    "data['Income'].unique()  ## check changes made"
   ]
  },
  {
   "cell_type": "code",
   "execution_count": 35,
   "metadata": {},
   "outputs": [
    {
     "output_type": "execute_result",
     "data": {
      "text/plain": [
       "   Age  Gender Sexual_orientation       School        Religion  \\\n",
       "0   28    Male       Heterosexual     Bachelor         Atheist   \n",
       "1   31    Male       Heterosexual  High school       Christian   \n",
       "2   27  Female       Heterosexual       Master       Christian   \n",
       "3   28    Male       Heterosexual       Master         Atheist   \n",
       "4   27    Male       Heterosexual     Bachelor  Pastafarianism   \n",
       "\n",
       "              Income  Personal_Sincerity  Personal_Loyalty  \\\n",
       "0  1600 - 2000 euros                   6                 7   \n",
       "1  1000 - 1300 euros                   7                 7   \n",
       "2  1000 - 1300 euros                   6                 8   \n",
       "3  1600 - 2000 euros                   8                 8   \n",
       "4   800 - 1000 euros                   6                 7   \n",
       "\n",
       "   Personal_Self_confidence  Personal_Braveness  ...  Relationship_Affection  \\\n",
       "0                         4                   5  ...                     5.0   \n",
       "1                         4                   5  ...                     NaN   \n",
       "2                         4                   6  ...                     6.0   \n",
       "3                         8                   8  ...                     6.0   \n",
       "4                         5                   5  ...                     NaN   \n",
       "\n",
       "   Relationship_Appreciation  Relationship_Validation  Relationship_Freedom  \\\n",
       "0                        5.0                      4.0                   5.0   \n",
       "1                        NaN                      NaN                   NaN   \n",
       "2                        6.0                      6.0                   6.0   \n",
       "3                        6.0                      6.0                   6.0   \n",
       "4                        NaN                      NaN                   NaN   \n",
       "\n",
       "   Relationship_Alone                                 Relationship_type  ID  \\\n",
       "0                 5.0  Casamento/Relacionamento monogâmico ou exclusivo   0   \n",
       "1                 NaN                                               NaN   1   \n",
       "2                 6.0  Casamento/Relacionamento monogâmico ou exclusivo   2   \n",
       "3                 4.0  Casamento/Relacionamento monogâmico ou exclusivo   3   \n",
       "4                 NaN                                               NaN   4   \n",
       "\n",
       "   Age_nm  School_nm  Income_nm  \n",
       "0  25-30s          4          4  \n",
       "1  30-35s          1          2  \n",
       "2  25-30s          5          2  \n",
       "3  25-30s          5          4  \n",
       "4  25-30s          4          1  \n",
       "\n",
       "[5 rows x 105 columns]"
      ],
      "text/html": "<div>\n<style scoped>\n    .dataframe tbody tr th:only-of-type {\n        vertical-align: middle;\n    }\n\n    .dataframe tbody tr th {\n        vertical-align: top;\n    }\n\n    .dataframe thead th {\n        text-align: right;\n    }\n</style>\n<table border=\"1\" class=\"dataframe\">\n  <thead>\n    <tr style=\"text-align: right;\">\n      <th></th>\n      <th>Age</th>\n      <th>Gender</th>\n      <th>Sexual_orientation</th>\n      <th>School</th>\n      <th>Religion</th>\n      <th>Income</th>\n      <th>Personal_Sincerity</th>\n      <th>Personal_Loyalty</th>\n      <th>Personal_Self_confidence</th>\n      <th>Personal_Braveness</th>\n      <th>...</th>\n      <th>Relationship_Affection</th>\n      <th>Relationship_Appreciation</th>\n      <th>Relationship_Validation</th>\n      <th>Relationship_Freedom</th>\n      <th>Relationship_Alone</th>\n      <th>Relationship_type</th>\n      <th>ID</th>\n      <th>Age_nm</th>\n      <th>School_nm</th>\n      <th>Income_nm</th>\n    </tr>\n  </thead>\n  <tbody>\n    <tr>\n      <th>0</th>\n      <td>28</td>\n      <td>Male</td>\n      <td>Heterosexual</td>\n      <td>Bachelor</td>\n      <td>Atheist</td>\n      <td>1600 - 2000 euros</td>\n      <td>6</td>\n      <td>7</td>\n      <td>4</td>\n      <td>5</td>\n      <td>...</td>\n      <td>5.0</td>\n      <td>5.0</td>\n      <td>4.0</td>\n      <td>5.0</td>\n      <td>5.0</td>\n      <td>Casamento/Relacionamento monogâmico ou exclusivo</td>\n      <td>0</td>\n      <td>25-30s</td>\n      <td>4</td>\n      <td>4</td>\n    </tr>\n    <tr>\n      <th>1</th>\n      <td>31</td>\n      <td>Male</td>\n      <td>Heterosexual</td>\n      <td>High school</td>\n      <td>Christian</td>\n      <td>1000 - 1300 euros</td>\n      <td>7</td>\n      <td>7</td>\n      <td>4</td>\n      <td>5</td>\n      <td>...</td>\n      <td>NaN</td>\n      <td>NaN</td>\n      <td>NaN</td>\n      <td>NaN</td>\n      <td>NaN</td>\n      <td>NaN</td>\n      <td>1</td>\n      <td>30-35s</td>\n      <td>1</td>\n      <td>2</td>\n    </tr>\n    <tr>\n      <th>2</th>\n      <td>27</td>\n      <td>Female</td>\n      <td>Heterosexual</td>\n      <td>Master</td>\n      <td>Christian</td>\n      <td>1000 - 1300 euros</td>\n      <td>6</td>\n      <td>8</td>\n      <td>4</td>\n      <td>6</td>\n      <td>...</td>\n      <td>6.0</td>\n      <td>6.0</td>\n      <td>6.0</td>\n      <td>6.0</td>\n      <td>6.0</td>\n      <td>Casamento/Relacionamento monogâmico ou exclusivo</td>\n      <td>2</td>\n      <td>25-30s</td>\n      <td>5</td>\n      <td>2</td>\n    </tr>\n    <tr>\n      <th>3</th>\n      <td>28</td>\n      <td>Male</td>\n      <td>Heterosexual</td>\n      <td>Master</td>\n      <td>Atheist</td>\n      <td>1600 - 2000 euros</td>\n      <td>8</td>\n      <td>8</td>\n      <td>8</td>\n      <td>8</td>\n      <td>...</td>\n      <td>6.0</td>\n      <td>6.0</td>\n      <td>6.0</td>\n      <td>6.0</td>\n      <td>4.0</td>\n      <td>Casamento/Relacionamento monogâmico ou exclusivo</td>\n      <td>3</td>\n      <td>25-30s</td>\n      <td>5</td>\n      <td>4</td>\n    </tr>\n    <tr>\n      <th>4</th>\n      <td>27</td>\n      <td>Male</td>\n      <td>Heterosexual</td>\n      <td>Bachelor</td>\n      <td>Pastafarianism</td>\n      <td>800 - 1000 euros</td>\n      <td>6</td>\n      <td>7</td>\n      <td>5</td>\n      <td>5</td>\n      <td>...</td>\n      <td>NaN</td>\n      <td>NaN</td>\n      <td>NaN</td>\n      <td>NaN</td>\n      <td>NaN</td>\n      <td>NaN</td>\n      <td>4</td>\n      <td>25-30s</td>\n      <td>4</td>\n      <td>1</td>\n    </tr>\n  </tbody>\n</table>\n<p>5 rows × 105 columns</p>\n</div>"
     },
     "metadata": {},
     "execution_count": 35
    }
   ],
   "source": [
    "# create a list of our conditions\n",
    "conditions = [\n",
    "    (data['Income'] == 'Less than 800 euros'),   ## Less than 800 euros will be 0\n",
    "    (data['Income'] == '800 - 1000 euros'),      ## 800 - 1000 euros will be 1\n",
    "    (data['Income'] == '1000 - 1300 euros'),     ## 1000 - 1300 euros will be 2\n",
    "    (data['Income'] == '1300 - 1600 euros'),     ## 1300 - 1600 euros will be 3\n",
    "    (data['Income'] == '1600 - 2000 euros'),     ## 1600 - 2000 euros will be 4\n",
    "    (data['Income'] == '2000 - 3000 euros'),     ## 2000 - 3000 euros will be 5\n",
    "    (data['Income'] == 'More than 3000 euros')]  ## More than 3000 euros will be 6\n",
    "\n",
    "# create a list of the values we want to assign for each condition\n",
    "values = [0, 1, 2, 3, 4, 5, 6]\n",
    "\n",
    "# create a new column and use np.select to assign values to it using our lists as arguments\n",
    "data['Income_nm'] = np.select(conditions, values)\n",
    "\n",
    "# display updated DataFrame\n",
    "data.head()"
   ]
  },
  {
   "source": [
    "## Relationship"
   ],
   "cell_type": "markdown",
   "metadata": {}
  },
  {
   "cell_type": "code",
   "execution_count": 36,
   "metadata": {},
   "outputs": [],
   "source": [
    "## Relationship"
   ]
  },
  {
   "cell_type": "code",
   "execution_count": 37,
   "metadata": {},
   "outputs": [
    {
     "output_type": "execute_result",
     "data": {
      "text/plain": [
       "array(['Sim', 'Não'], dtype=object)"
      ]
     },
     "metadata": {},
     "execution_count": 37
    }
   ],
   "source": [
    "data['Relationship'].unique()  ## check unique values"
   ]
  },
  {
   "cell_type": "code",
   "execution_count": 38,
   "metadata": {},
   "outputs": [],
   "source": [
    "data['Relationship'] = data['Relationship'].replace('Não','No')    ## uniform answers\n",
    "data['Relationship'] = data['Relationship'].replace('Sim','Yes')"
   ]
  },
  {
   "cell_type": "code",
   "execution_count": 39,
   "metadata": {},
   "outputs": [
    {
     "output_type": "execute_result",
     "data": {
      "text/plain": [
       "array(['Yes', 'No'], dtype=object)"
      ]
     },
     "metadata": {},
     "execution_count": 39
    }
   ],
   "source": [
    "data['Relationship'].unique()  ## check changes made"
   ]
  },
  {
   "source": [
    "## Kids"
   ],
   "cell_type": "markdown",
   "metadata": {}
  },
  {
   "cell_type": "code",
   "execution_count": 40,
   "metadata": {},
   "outputs": [],
   "source": [
    "## Kids"
   ]
  },
  {
   "cell_type": "code",
   "execution_count": 41,
   "metadata": {},
   "outputs": [
    {
     "output_type": "execute_result",
     "data": {
      "text/plain": [
       "array(['Não', nan, 'Sim'], dtype=object)"
      ]
     },
     "metadata": {},
     "execution_count": 41
    }
   ],
   "source": [
    "data['Kids'].unique()  ## check unique values"
   ]
  },
  {
   "cell_type": "code",
   "execution_count": 42,
   "metadata": {},
   "outputs": [],
   "source": [
    "data['Kids'] = data['Kids'].replace('Não','No')    ## uniform answers\n",
    "data['Kids'] = data['Kids'].replace('Sim','Yes')"
   ]
  },
  {
   "cell_type": "code",
   "execution_count": 43,
   "metadata": {},
   "outputs": [
    {
     "output_type": "execute_result",
     "data": {
      "text/plain": [
       "array(['No', nan, 'Yes'], dtype=object)"
      ]
     },
     "metadata": {},
     "execution_count": 43
    }
   ],
   "source": [
    "data['Kids'].unique()  ## check changes made"
   ]
  },
  {
   "source": [
    "## Relationship type"
   ],
   "cell_type": "markdown",
   "metadata": {}
  },
  {
   "cell_type": "code",
   "execution_count": 44,
   "metadata": {},
   "outputs": [],
   "source": [
    "## Relationship type"
   ]
  },
  {
   "cell_type": "code",
   "execution_count": 45,
   "metadata": {},
   "outputs": [
    {
     "output_type": "execute_result",
     "data": {
      "text/plain": [
       "array(['Casamento/Relacionamento monogâmico ou exclusivo', nan,\n",
       "       'Relacionamento aberto ou poliamoroso'], dtype=object)"
      ]
     },
     "metadata": {},
     "execution_count": 45
    }
   ],
   "source": [
    "data['Relationship_type'].unique()  ## check unique values"
   ]
  },
  {
   "cell_type": "code",
   "execution_count": 46,
   "metadata": {},
   "outputs": [],
   "source": [
    "data['Relationship_type'] = data['Relationship_type'].replace('Casamento/Relacionamento monogâmico ou exclusivo','Monogamous')    ## uniform answers\n",
    "data['Relationship_type'] = data['Relationship_type'].replace('Relacionamento aberto ou poliamoroso','Open')"
   ]
  },
  {
   "cell_type": "code",
   "execution_count": 47,
   "metadata": {},
   "outputs": [
    {
     "output_type": "execute_result",
     "data": {
      "text/plain": [
       "array(['Monogamous', nan, 'Open'], dtype=object)"
      ]
     },
     "metadata": {},
     "execution_count": 47
    }
   ],
   "source": [
    "data['Relationship_type'].unique()  ## check changes made"
   ]
  },
  {
   "source": [
    "## Time together"
   ],
   "cell_type": "markdown",
   "metadata": {}
  },
  {
   "cell_type": "code",
   "execution_count": 48,
   "metadata": {},
   "outputs": [],
   "source": [
    "## Time together"
   ]
  },
  {
   "cell_type": "code",
   "execution_count": 49,
   "metadata": {},
   "outputs": [],
   "source": [
    "import re"
   ]
  },
  {
   "cell_type": "code",
   "execution_count": 50,
   "metadata": {},
   "outputs": [
    {
     "output_type": "execute_result",
     "data": {
      "text/plain": [
       "array(['18 meses', nan, '10 meses', '0,9', '6 meses', '4 anos', '1 ano',\n",
       "       '5 anos', '3', '3 anos', '4', '6', '6 anos', '6 meses.', '12 anos',\n",
       "       '12', '8 anos', '11 anos', '22 anos', '10 anos', '32 anos',\n",
       "       '13 anos', '28 anos', '13', '2 meses', '2 anos e 7 meses',\n",
       "       '2.5 anos', '1 ano e 8 meses', '32', '7 meses ', '21',\n",
       "       '2 anos e meio', '11', '27', '19 anos', '8', '18 anos', '2 anos ',\n",
       "       '12anos', '7 anos', '7 anos ', '4,5', '5 anos e alguns meses ',\n",
       "       '23', '4 anos ', '2 anos', '9 anos', '30', '11 meses', '14', '24'],\n",
       "      dtype=object)"
      ]
     },
     "metadata": {},
     "execution_count": 50
    }
   ],
   "source": [
    "data['Time_together'].unique()  ## check unique values"
   ]
  },
  {
   "cell_type": "code",
   "execution_count": 51,
   "metadata": {},
   "outputs": [],
   "source": [
    "def time_change(row):\n",
    "    times = str(row['Time_together'])\n",
    "    time_cle = re.sub('(\\s)*(anos)','',times)\n",
    "    return time_cle\n",
    "\n",
    "data['Time_together'] = data.apply(time_change, axis=1)"
   ]
  },
  {
   "cell_type": "code",
   "execution_count": 52,
   "metadata": {},
   "outputs": [
    {
     "output_type": "execute_result",
     "data": {
      "text/plain": [
       "array(['18 meses', 'nan', '10 meses', '0,9', '6 meses', '4', '1 ano', '5',\n",
       "       '3', '6', '6 meses.', '12', '8', '11', '22', '10', '32', '13',\n",
       "       '28', '2 meses', '2 e 7 meses', '2.5', '1 ano e 8 meses',\n",
       "       '7 meses ', '21', '2 e meio', '27', '19', '18', '2 ', '7', '7 ',\n",
       "       '4,5', '5 e alguns meses ', '23', '4 ', '2', '9', '30', '11 meses',\n",
       "       '14', '24'], dtype=object)"
      ]
     },
     "metadata": {},
     "execution_count": 52
    }
   ],
   "source": [
    "data['Time_together'].unique()  ## check unique values"
   ]
  },
  {
   "cell_type": "code",
   "execution_count": 53,
   "metadata": {},
   "outputs": [],
   "source": [
    "data['Time_together'] = data['Time_together'].replace('18 meses','1,5')\n",
    "data['Time_together'] = data['Time_together'].replace('10 meses','0,83')\n",
    "data['Time_together'] = data['Time_together'].replace('6 meses','0,5')\n",
    "data['Time_together'] = data['Time_together'].replace('1 ano','1')\n",
    "data['Time_together'] = data['Time_together'].replace('2 meses','0,17')\n",
    "data['Time_together'] = data['Time_together'].replace('1 ano e 8 meses','1,67')\n",
    "data['Time_together'] = data['Time_together'].replace('7 meses ','0,58')\n",
    "data['Time_together'] = data['Time_together'].replace('7 ','7')\n",
    "data['Time_together'] = data['Time_together'].replace('2 e meio','2,5')\n",
    "data['Time_together'] = data['Time_together'].replace('5 e alguns meses ','5')\n",
    "data['Time_together'] = data['Time_together'].replace('11 meses','0,92')\n",
    "data['Time_together'] = data['Time_together'].replace('6 meses.','0,5')"
   ]
  },
  {
   "cell_type": "code",
   "execution_count": 54,
   "metadata": {},
   "outputs": [],
   "source": [
    "data['Time_together'] = data['Time_together'].replace('2 e 7 meses','2,58')\n",
    "data['Time_together'] = data['Time_together'].replace('2.5','2,5')"
   ]
  },
  {
   "cell_type": "code",
   "execution_count": 55,
   "metadata": {},
   "outputs": [],
   "source": [
    "def time_changes(row):\n",
    "    times = str(row['Time_together'])\n",
    "    time_cl = re.sub(',','.',times)\n",
    "    return time_cl\n",
    "\n",
    "data['Time_together'] = data.apply(time_changes, axis=1)"
   ]
  },
  {
   "cell_type": "code",
   "execution_count": 56,
   "metadata": {},
   "outputs": [],
   "source": [
    "data['Time_together'] = data['Time_together'].replace('4 ','4')\n",
    "data['Time_together'] = data['Time_together'].replace('2 ','2')"
   ]
  },
  {
   "cell_type": "code",
   "execution_count": 57,
   "metadata": {},
   "outputs": [
    {
     "output_type": "execute_result",
     "data": {
      "text/plain": [
       "array(['1.5', 'nan', '0.83', '0.9', '0.5', '4', '1', '5', '3', '6', '12',\n",
       "       '8', '11', '22', '10', '32', '13', '28', '0.17', '2.58', '2.5',\n",
       "       '1.67', '0.58', '21', '27', '19', '18', '2', '7', '4.5', '23', '9',\n",
       "       '30', '0.92', '14', '24'], dtype=object)"
      ]
     },
     "metadata": {},
     "execution_count": 57
    }
   ],
   "source": [
    "data['Time_together'].unique()"
   ]
  },
  {
   "source": [
    "## Other"
   ],
   "cell_type": "markdown",
   "metadata": {}
  },
  {
   "cell_type": "code",
   "execution_count": 58,
   "metadata": {},
   "outputs": [],
   "source": [
    "## Other"
   ]
  },
  {
   "cell_type": "code",
   "execution_count": 59,
   "metadata": {},
   "outputs": [],
   "source": [
    "## Create a relationship score column"
   ]
  },
  {
   "cell_type": "code",
   "execution_count": 60,
   "metadata": {},
   "outputs": [],
   "source": [
    "data['Relationship_score'] = data['Relationship_Respect'] + data['Relationship_Vulnerability'] + data['Relationship_Trust'] + data['Relationship_Honesty'] + data['Relationship_Kindness'] + data['Relationship_Boundaries'] + data['Relationship_Commitment'] + data['Relationship_Thoughtfulness'] + data['Relationship_Forgiveness'] + data['Relationship_Gentleness'] + data['Relationship_Affection'] + data['Relationship_Appreciation'] + data['Relationship_Validation'] + data['Relationship_Freedom'] + data['Relationship_Alone']"
   ]
  },
  {
   "cell_type": "code",
   "execution_count": 61,
   "metadata": {},
   "outputs": [],
   "source": [
    "## difference between me and opposite sex in single\n",
    "## difference between me and partner values in relationship"
   ]
  },
  {
   "cell_type": "code",
   "execution_count": 62,
   "metadata": {},
   "outputs": [
    {
     "output_type": "execute_result",
     "data": {
      "text/plain": [
       "   Age  Gender Sexual_orientation       School        Religion  \\\n",
       "0   28    Male       Heterosexual     Bachelor         Atheist   \n",
       "1   31    Male       Heterosexual  High school       Christian   \n",
       "2   27  Female       Heterosexual       Master       Christian   \n",
       "3   28    Male       Heterosexual       Master         Atheist   \n",
       "4   27    Male       Heterosexual     Bachelor  Pastafarianism   \n",
       "\n",
       "              Income  Personal_Sincerity  Personal_Loyalty  \\\n",
       "0  1600 - 2000 euros                   6                 7   \n",
       "1  1000 - 1300 euros                   7                 7   \n",
       "2  1000 - 1300 euros                   6                 8   \n",
       "3  1600 - 2000 euros                   8                 8   \n",
       "4   800 - 1000 euros                   6                 7   \n",
       "\n",
       "   Personal_Self_confidence  Personal_Braveness  ...  Money_dif  \\\n",
       "0                         4                   5  ...       -1.0   \n",
       "1                         4                   5  ...        4.0   \n",
       "2                         4                   6  ...        0.0   \n",
       "3                         8                   8  ...        1.0   \n",
       "4                         5                   5  ...        0.0   \n",
       "\n",
       "   Attractiveness_dif  Intelligence_dif  Charisma_dif  Spirituality_dif  \\\n",
       "0                 0.0              -2.0          -1.0               0.0   \n",
       "1                 0.0              -1.0           0.0               0.0   \n",
       "2                 0.0               0.0           0.0               5.0   \n",
       "3                 1.0               0.0          -1.0              -8.0   \n",
       "4                -2.0               3.0          -1.0               0.0   \n",
       "\n",
       "   Generosity_dif  Kindness_dif  Adventurous_dif  Fun_dif  Energetic_dif  \n",
       "0             1.0           1.0              1.0      1.0            0.0  \n",
       "1             0.0           0.0              2.0      1.0            1.0  \n",
       "2             1.0           0.0             -2.0      0.0            0.0  \n",
       "3            -2.0          -3.0              0.0     -2.0            0.0  \n",
       "4             1.0           1.0              2.0     -1.0            1.0  \n",
       "\n",
       "[5 rows x 121 columns]"
      ],
      "text/html": "<div>\n<style scoped>\n    .dataframe tbody tr th:only-of-type {\n        vertical-align: middle;\n    }\n\n    .dataframe tbody tr th {\n        vertical-align: top;\n    }\n\n    .dataframe thead th {\n        text-align: right;\n    }\n</style>\n<table border=\"1\" class=\"dataframe\">\n  <thead>\n    <tr style=\"text-align: right;\">\n      <th></th>\n      <th>Age</th>\n      <th>Gender</th>\n      <th>Sexual_orientation</th>\n      <th>School</th>\n      <th>Religion</th>\n      <th>Income</th>\n      <th>Personal_Sincerity</th>\n      <th>Personal_Loyalty</th>\n      <th>Personal_Self_confidence</th>\n      <th>Personal_Braveness</th>\n      <th>...</th>\n      <th>Money_dif</th>\n      <th>Attractiveness_dif</th>\n      <th>Intelligence_dif</th>\n      <th>Charisma_dif</th>\n      <th>Spirituality_dif</th>\n      <th>Generosity_dif</th>\n      <th>Kindness_dif</th>\n      <th>Adventurous_dif</th>\n      <th>Fun_dif</th>\n      <th>Energetic_dif</th>\n    </tr>\n  </thead>\n  <tbody>\n    <tr>\n      <th>0</th>\n      <td>28</td>\n      <td>Male</td>\n      <td>Heterosexual</td>\n      <td>Bachelor</td>\n      <td>Atheist</td>\n      <td>1600 - 2000 euros</td>\n      <td>6</td>\n      <td>7</td>\n      <td>4</td>\n      <td>5</td>\n      <td>...</td>\n      <td>-1.0</td>\n      <td>0.0</td>\n      <td>-2.0</td>\n      <td>-1.0</td>\n      <td>0.0</td>\n      <td>1.0</td>\n      <td>1.0</td>\n      <td>1.0</td>\n      <td>1.0</td>\n      <td>0.0</td>\n    </tr>\n    <tr>\n      <th>1</th>\n      <td>31</td>\n      <td>Male</td>\n      <td>Heterosexual</td>\n      <td>High school</td>\n      <td>Christian</td>\n      <td>1000 - 1300 euros</td>\n      <td>7</td>\n      <td>7</td>\n      <td>4</td>\n      <td>5</td>\n      <td>...</td>\n      <td>4.0</td>\n      <td>0.0</td>\n      <td>-1.0</td>\n      <td>0.0</td>\n      <td>0.0</td>\n      <td>0.0</td>\n      <td>0.0</td>\n      <td>2.0</td>\n      <td>1.0</td>\n      <td>1.0</td>\n    </tr>\n    <tr>\n      <th>2</th>\n      <td>27</td>\n      <td>Female</td>\n      <td>Heterosexual</td>\n      <td>Master</td>\n      <td>Christian</td>\n      <td>1000 - 1300 euros</td>\n      <td>6</td>\n      <td>8</td>\n      <td>4</td>\n      <td>6</td>\n      <td>...</td>\n      <td>0.0</td>\n      <td>0.0</td>\n      <td>0.0</td>\n      <td>0.0</td>\n      <td>5.0</td>\n      <td>1.0</td>\n      <td>0.0</td>\n      <td>-2.0</td>\n      <td>0.0</td>\n      <td>0.0</td>\n    </tr>\n    <tr>\n      <th>3</th>\n      <td>28</td>\n      <td>Male</td>\n      <td>Heterosexual</td>\n      <td>Master</td>\n      <td>Atheist</td>\n      <td>1600 - 2000 euros</td>\n      <td>8</td>\n      <td>8</td>\n      <td>8</td>\n      <td>8</td>\n      <td>...</td>\n      <td>1.0</td>\n      <td>1.0</td>\n      <td>0.0</td>\n      <td>-1.0</td>\n      <td>-8.0</td>\n      <td>-2.0</td>\n      <td>-3.0</td>\n      <td>0.0</td>\n      <td>-2.0</td>\n      <td>0.0</td>\n    </tr>\n    <tr>\n      <th>4</th>\n      <td>27</td>\n      <td>Male</td>\n      <td>Heterosexual</td>\n      <td>Bachelor</td>\n      <td>Pastafarianism</td>\n      <td>800 - 1000 euros</td>\n      <td>6</td>\n      <td>7</td>\n      <td>5</td>\n      <td>5</td>\n      <td>...</td>\n      <td>0.0</td>\n      <td>-2.0</td>\n      <td>3.0</td>\n      <td>-1.0</td>\n      <td>0.0</td>\n      <td>1.0</td>\n      <td>1.0</td>\n      <td>2.0</td>\n      <td>-1.0</td>\n      <td>1.0</td>\n    </tr>\n  </tbody>\n</table>\n<p>5 rows × 121 columns</p>\n</div>"
     },
     "metadata": {},
     "execution_count": 62
    }
   ],
   "source": [
    "# create a list of our conditions\n",
    "conditions = [(data['Relationship'] == 'Yes'),(data['Relationship'] == 'No')]\n",
    "\n",
    "# create a list of the values we want to assign for each condition\n",
    "val_Sincerity = [(data['Personal_Sincerity'] - data['Partner_values_Sincerity']),(data['Personal_Sincerity'] - data['Opposite_sex_Sincerity'])]\n",
    "val_Loyalty = [(data['Personal_Loyalty'] - data['Partner_values_Loyalty']),(data['Personal_Loyalty'] - data['Opposite_sex_Loyalty'])]\n",
    "val_Self = [(data['Personal_Self_confidence'] - data['Partner_values_Self_confidence']),(data['Personal_Self_confidence'] - data['Opposite_sex_Self_confidence'])]\n",
    "val_Braveness = [(data['Personal_Braveness'] - data['Partner_values_Braveness']),(data['Personal_Braveness'] - data['Opposite_sex_Braveness'])]\n",
    "val_Optimism = [(data['Personal_Optimism'] - data['Partner_values_Optimism']),(data['Personal_Optimism'] - data['Opposite_sex_Optimism'])]\n",
    "val_Money = [(data['Personal_Money'] - data['Partner_values_Money']),(data['Personal_Money'] - data['Opposite_sex_Money'])]\n",
    "val_Attractiveness = [(data['Personal_Attractiveness'] - data['Partner_values_Attractiveness']),(data['Personal_Attractiveness'] - data['Opposite_sex_Attractiveness'])]\n",
    "val_Intelligence = [(data['Personal_Intelligence'] - data['Partner_values_Intelligence']),(data['Personal_Intelligence'] - data['Opposite_sex_Intelligence'])]\n",
    "val_Charisma = [(data['Personal_Charisma'] - data['Partner_values_Charisma']),(data['Personal_Charisma'] - data['Opposite_sex_Charisma'])]\n",
    "val_Spirituality = [(data['Personal_Spirituality'] - data['Partner_values_Spirituality']),(data['Personal_Spirituality'] - data['Opposite_sex_Spirituality'])]\n",
    "val_Generosity = [(data['Personal_Generosity'] - data['Partner_values_Generosity']),(data['Personal_Generosity'] - data['Opposite_sex_Generosity'])]\n",
    "val_Kindness = [(data['Personal_Kindness'] - data['Partner_values_Kindness']),(data['Personal_Kindness'] - data['Opposite_sex_Kindness'])]\n",
    "val_Adventurous = [(data['Personal_Adventurous'] - data['Partner_values_Adventurous']),(data['Personal_Adventurous'] - data['Opposite_sex_Adventurous'])]\n",
    "val_Fun = [(data['Personal_Fun'] - data['Partner_values_Fun']),(data['Personal_Fun'] - data['Opposite_sex_Fun'])]\n",
    "val_Energetic = [(data['Personal_Energetic'] - data['Partner_values_Energetic']),(data['Personal_Energetic'] - data['Opposite_sex_Energetic'])]\n",
    "\n",
    "# create a new column and use np.select to assign values to it using our lists as arguments\n",
    "data['Sincerity_dif'] = np.select(conditions, val_Sincerity)\n",
    "data['Loyalty_dif'] = np.select(conditions, val_Loyalty)\n",
    "data['Self_dif'] = np.select(conditions, val_Self)\n",
    "data['Braveness_dif'] = np.select(conditions, val_Braveness)\n",
    "data['Optimism_dif'] = np.select(conditions, val_Optimism)\n",
    "data['Money_dif'] = np.select(conditions, val_Money)\n",
    "data['Attractiveness_dif'] = np.select(conditions, val_Attractiveness)\n",
    "data['Intelligence_dif'] = np.select(conditions, val_Intelligence)\n",
    "data['Charisma_dif'] = np.select(conditions, val_Charisma)\n",
    "data['Spirituality_dif'] = np.select(conditions, val_Spirituality)\n",
    "data['Generosity_dif'] = np.select(conditions, val_Generosity)\n",
    "data['Kindness_dif'] = np.select(conditions, val_Kindness)\n",
    "data['Adventurous_dif'] = np.select(conditions, val_Adventurous)\n",
    "data['Fun_dif'] = np.select(conditions, val_Fun)\n",
    "data['Energetic_dif'] = np.select(conditions, val_Energetic)\n",
    "\n",
    "# display updated DataFrame\n",
    "data.head()"
   ]
  },
  {
   "cell_type": "code",
   "execution_count": 63,
   "metadata": {},
   "outputs": [
    {
     "output_type": "execute_result",
     "data": {
      "text/plain": [
       "   Age  Gender Sexual_orientation       School        Religion  \\\n",
       "0   28    Male       Heterosexual     Bachelor         Atheist   \n",
       "1   31    Male       Heterosexual  High school       Christian   \n",
       "2   27  Female       Heterosexual       Master       Christian   \n",
       "3   28    Male       Heterosexual       Master         Atheist   \n",
       "4   27    Male       Heterosexual     Bachelor  Pastafarianism   \n",
       "\n",
       "              Income  Personal_Sincerity  Personal_Loyalty  \\\n",
       "0  1600 - 2000 euros                   6                 7   \n",
       "1  1000 - 1300 euros                   7                 7   \n",
       "2  1000 - 1300 euros                   6                 8   \n",
       "3  1600 - 2000 euros                   8                 8   \n",
       "4   800 - 1000 euros                   6                 7   \n",
       "\n",
       "   Personal_Self_confidence  Personal_Braveness  ...  Money_val  \\\n",
       "0                         4                   5  ...        0.0   \n",
       "1                         4                   5  ...       None   \n",
       "2                         4                   6  ...        5.0   \n",
       "3                         8                   8  ...        2.0   \n",
       "4                         5                   5  ...       None   \n",
       "\n",
       "   Attractiveness_val  Intelligence_val  Charisma_val  Spirituality_val  \\\n",
       "0                 2.0              -1.0           2.0               1.0   \n",
       "1                None              None          None              None   \n",
       "2                 3.0               2.0          -2.0              -1.0   \n",
       "3                 3.0               1.0           0.0              -5.0   \n",
       "4                None              None          None              None   \n",
       "\n",
       "   Generosity_val  Kindness_val  Adventurous_val  Fun_val  Energetic_val  \n",
       "0             1.0           1.0              2.0      2.0            2.0  \n",
       "1            None          None             None     None           None  \n",
       "2             0.0          -1.0             -1.0     -1.0           -1.0  \n",
       "3             0.0           0.0              0.0      0.0           -4.0  \n",
       "4            None          None             None     None           None  \n",
       "\n",
       "[5 rows x 136 columns]"
      ],
      "text/html": "<div>\n<style scoped>\n    .dataframe tbody tr th:only-of-type {\n        vertical-align: middle;\n    }\n\n    .dataframe tbody tr th {\n        vertical-align: top;\n    }\n\n    .dataframe thead th {\n        text-align: right;\n    }\n</style>\n<table border=\"1\" class=\"dataframe\">\n  <thead>\n    <tr style=\"text-align: right;\">\n      <th></th>\n      <th>Age</th>\n      <th>Gender</th>\n      <th>Sexual_orientation</th>\n      <th>School</th>\n      <th>Religion</th>\n      <th>Income</th>\n      <th>Personal_Sincerity</th>\n      <th>Personal_Loyalty</th>\n      <th>Personal_Self_confidence</th>\n      <th>Personal_Braveness</th>\n      <th>...</th>\n      <th>Money_val</th>\n      <th>Attractiveness_val</th>\n      <th>Intelligence_val</th>\n      <th>Charisma_val</th>\n      <th>Spirituality_val</th>\n      <th>Generosity_val</th>\n      <th>Kindness_val</th>\n      <th>Adventurous_val</th>\n      <th>Fun_val</th>\n      <th>Energetic_val</th>\n    </tr>\n  </thead>\n  <tbody>\n    <tr>\n      <th>0</th>\n      <td>28</td>\n      <td>Male</td>\n      <td>Heterosexual</td>\n      <td>Bachelor</td>\n      <td>Atheist</td>\n      <td>1600 - 2000 euros</td>\n      <td>6</td>\n      <td>7</td>\n      <td>4</td>\n      <td>5</td>\n      <td>...</td>\n      <td>0.0</td>\n      <td>2.0</td>\n      <td>-1.0</td>\n      <td>2.0</td>\n      <td>1.0</td>\n      <td>1.0</td>\n      <td>1.0</td>\n      <td>2.0</td>\n      <td>2.0</td>\n      <td>2.0</td>\n    </tr>\n    <tr>\n      <th>1</th>\n      <td>31</td>\n      <td>Male</td>\n      <td>Heterosexual</td>\n      <td>High school</td>\n      <td>Christian</td>\n      <td>1000 - 1300 euros</td>\n      <td>7</td>\n      <td>7</td>\n      <td>4</td>\n      <td>5</td>\n      <td>...</td>\n      <td>None</td>\n      <td>None</td>\n      <td>None</td>\n      <td>None</td>\n      <td>None</td>\n      <td>None</td>\n      <td>None</td>\n      <td>None</td>\n      <td>None</td>\n      <td>None</td>\n    </tr>\n    <tr>\n      <th>2</th>\n      <td>27</td>\n      <td>Female</td>\n      <td>Heterosexual</td>\n      <td>Master</td>\n      <td>Christian</td>\n      <td>1000 - 1300 euros</td>\n      <td>6</td>\n      <td>8</td>\n      <td>4</td>\n      <td>6</td>\n      <td>...</td>\n      <td>5.0</td>\n      <td>3.0</td>\n      <td>2.0</td>\n      <td>-2.0</td>\n      <td>-1.0</td>\n      <td>0.0</td>\n      <td>-1.0</td>\n      <td>-1.0</td>\n      <td>-1.0</td>\n      <td>-1.0</td>\n    </tr>\n    <tr>\n      <th>3</th>\n      <td>28</td>\n      <td>Male</td>\n      <td>Heterosexual</td>\n      <td>Master</td>\n      <td>Atheist</td>\n      <td>1600 - 2000 euros</td>\n      <td>8</td>\n      <td>8</td>\n      <td>8</td>\n      <td>8</td>\n      <td>...</td>\n      <td>2.0</td>\n      <td>3.0</td>\n      <td>1.0</td>\n      <td>0.0</td>\n      <td>-5.0</td>\n      <td>0.0</td>\n      <td>0.0</td>\n      <td>0.0</td>\n      <td>0.0</td>\n      <td>-4.0</td>\n    </tr>\n    <tr>\n      <th>4</th>\n      <td>27</td>\n      <td>Male</td>\n      <td>Heterosexual</td>\n      <td>Bachelor</td>\n      <td>Pastafarianism</td>\n      <td>800 - 1000 euros</td>\n      <td>6</td>\n      <td>7</td>\n      <td>5</td>\n      <td>5</td>\n      <td>...</td>\n      <td>None</td>\n      <td>None</td>\n      <td>None</td>\n      <td>None</td>\n      <td>None</td>\n      <td>None</td>\n      <td>None</td>\n      <td>None</td>\n      <td>None</td>\n      <td>None</td>\n    </tr>\n  </tbody>\n</table>\n<p>5 rows × 136 columns</p>\n</div>"
     },
     "metadata": {},
     "execution_count": 63
    }
   ],
   "source": [
    "# create a list of our conditions\n",
    "conditions = [(data['Relationship'] == 'Yes'),(data['Relationship'] == 'No')]\n",
    "\n",
    "# create a list of the values we want to assign for each condition\n",
    "par_val_Sincerity = [(data['Partner_Sincerity'] - data['Partner_values_Sincerity']),None]\n",
    "par_val_Loyalty = [(data['Partner_Loyalty'] - data['Partner_values_Loyalty']),None]\n",
    "par_val_Self = [(data['Partner_Self_confidence'] - data['Partner_values_Self_confidence']),None]\n",
    "par_val_Braveness = [(data['Partner_Braveness'] - data['Partner_values_Braveness']),None]\n",
    "par_val_Optimism = [(data['Partner_Optimism'] - data['Partner_values_Optimism']),None]\n",
    "par_val_Money = [(data['Partner_Money'] - data['Partner_values_Money']),None]\n",
    "par_val_Attractiveness = [(data['Partner_Attractiveness'] - data['Partner_values_Attractiveness']),None]\n",
    "par_val_Intelligence = [(data['Partner_Intelligence'] - data['Partner_values_Intelligence']),None]\n",
    "par_val_Charisma = [(data['Partner_Charisma'] - data['Partner_values_Charisma']),None]\n",
    "par_val_Spirituality = [(data['Partner_Spirituality'] - data['Partner_values_Spirituality']),None]\n",
    "par_val_Generosity = [(data['Partner_Generosity'] - data['Partner_values_Generosity']),None]\n",
    "par_val_Kindness = [(data['Partner_Kindness'] - data['Partner_values_Kindness']),None]\n",
    "par_val_Adventurous = [(data['Partner_Adventurous'] - data['Partner_values_Adventurous']),None]\n",
    "par_val_Fun = [(data['Partner_Fun'] - data['Partner_values_Fun']),None]\n",
    "par_val_Energetic = [(data['Partner_Energetic'] - data['Partner_values_Energetic']),None]\n",
    "\n",
    "# create a new column and use np.select to assign values to it using our lists as arguments\n",
    "data['Sincerity_val'] = np.select(conditions, par_val_Sincerity)\n",
    "data['Loyalty_val'] = np.select(conditions, par_val_Loyalty)\n",
    "data['Self_val'] = np.select(conditions, par_val_Self)\n",
    "data['Braveness_val'] = np.select(conditions, par_val_Braveness)\n",
    "data['Optimism_val'] = np.select(conditions, par_val_Optimism)\n",
    "data['Money_val'] = np.select(conditions, par_val_Money)\n",
    "data['Attractiveness_val'] = np.select(conditions, par_val_Attractiveness)\n",
    "data['Intelligence_val'] = np.select(conditions, par_val_Intelligence)\n",
    "data['Charisma_val'] = np.select(conditions, par_val_Charisma)\n",
    "data['Spirituality_val'] = np.select(conditions, par_val_Spirituality)\n",
    "data['Generosity_val'] = np.select(conditions, par_val_Generosity)\n",
    "data['Kindness_val'] = np.select(conditions, par_val_Kindness)\n",
    "data['Adventurous_val'] = np.select(conditions, par_val_Adventurous)\n",
    "data['Fun_val'] = np.select(conditions, par_val_Fun)\n",
    "data['Energetic_val'] = np.select(conditions, par_val_Energetic)\n",
    "\n",
    "# display updated DataFrame\n",
    "data.head()"
   ]
  },
  {
   "cell_type": "code",
   "execution_count": null,
   "metadata": {},
   "outputs": [],
   "source": []
  },
  {
   "source": [
    "## Export data into a new CSV File"
   ],
   "cell_type": "markdown",
   "metadata": {}
  },
  {
   "cell_type": "code",
   "execution_count": 64,
   "metadata": {},
   "outputs": [],
   "source": [
    "data.to_csv('survey_results.csv',sep = ',',index=False)"
   ]
  },
  {
   "cell_type": "code",
   "execution_count": null,
   "metadata": {},
   "outputs": [],
   "source": []
  }
 ],
 "metadata": {
  "interpreter": {
   "hash": "f01b1a26c0677924dfb9bb3c0adc99f4a4ad3f1a3781fcda47cbcaac5b4f6244"
  },
  "kernelspec": {
   "name": "python3",
   "display_name": "Python 3.8.8 64-bit ('Ironhack': conda)"
  },
  "language_info": {
   "codemirror_mode": {
    "name": "ipython",
    "version": 3
   },
   "file_extension": ".py",
   "mimetype": "text/x-python",
   "name": "python",
   "nbconvert_exporter": "python",
   "pygments_lexer": "ipython3",
   "version": "3.8.8"
  }
 },
 "nbformat": 4,
 "nbformat_minor": 2
}