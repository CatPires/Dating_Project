{
 "cells": [
  {
   "source": [
    "# CSV cleaning\n",
    "\n",
    "## Import CSV File"
   ],
   "cell_type": "markdown",
   "metadata": {}
  },
  {
   "cell_type": "code",
   "execution_count": 1,
   "metadata": {},
   "outputs": [],
   "source": [
    "import pandas as pd   ## libraries\n",
    "import numpy as np "
   ]
  },
  {
   "cell_type": "code",
   "execution_count": 2,
   "metadata": {},
   "outputs": [
    {
     "output_type": "execute_result",
     "data": {
      "text/plain": [
       "                    Timestamp Idade: Qual é o teu género?  \\\n",
       "0  2021/07/12 11:01:16 pm CET     28            Masculino   \n",
       "1  2021/07/12 11:03:44 pm CET     31            Masculino   \n",
       "2  2021/07/12 11:04:04 pm CET     27             Feminino   \n",
       "3  2021/07/12 11:04:34 pm CET     28            Masculino   \n",
       "4  2021/07/12 11:12:31 pm CET     27            Masculino   \n",
       "\n",
       "  Com que orientação sexual mais te identificas?  \\\n",
       "0                                  Heterossexual   \n",
       "1                                  Heterossexual   \n",
       "2                                  Heterossexual   \n",
       "3                                  Heterossexual   \n",
       "4                                  Heterossexual   \n",
       "\n",
       "  Qual o nível de escolaridade mais elevado que concluíste?  \\\n",
       "0                                       Licenciatura          \n",
       "1                   Ensino secundário ou equivalente          \n",
       "2                                           Mestrado          \n",
       "3                                           Mestrado          \n",
       "4                                       Licenciatura          \n",
       "\n",
       "  Qual é a tua religião, se aplicável?  \\\n",
       "0                                 Ateu   \n",
       "1                             Católico   \n",
       "2                             Católico   \n",
       "3                                 Ateu   \n",
       "4                       Pastafarinismo   \n",
       "\n",
       "  Qual é o teu salário médio bruto mensal?   \\\n",
       "0                         1600 - 2000 euros   \n",
       "1                         1000 - 1300 euros   \n",
       "2                         1000 - 1300 euros   \n",
       "3                         1600 - 2000 euros   \n",
       "4                          800 - 1000 euros   \n",
       "\n",
       "   Numa escala de 0 (discordo totalmente) a 8 (concordo totalmente), qual das seguintes características consideras ter:  [Sinceridade]  \\\n",
       "0                                                  6                                                                                     \n",
       "1                                                  7                                                                                     \n",
       "2                                                  6                                                                                     \n",
       "3                                                  8                                                                                     \n",
       "4                                                  6                                                                                     \n",
       "\n",
       "   Numa escala de 0 (discordo totalmente) a 8 (concordo totalmente), qual das seguintes características consideras ter:  [Lealdade]  \\\n",
       "0                                                  7                                                                                  \n",
       "1                                                  7                                                                                  \n",
       "2                                                  8                                                                                  \n",
       "3                                                  8                                                                                  \n",
       "4                                                  7                                                                                  \n",
       "\n",
       "   Numa escala de 0 (discordo totalmente) a 8 (concordo totalmente), qual das seguintes características consideras ter:  [Auto-confiança]  \\\n",
       "0                                                  4                                                                                        \n",
       "1                                                  4                                                                                        \n",
       "2                                                  4                                                                                        \n",
       "3                                                  8                                                                                        \n",
       "4                                                  5                                                                                        \n",
       "\n",
       "   ...  \\\n",
       "0  ...   \n",
       "1  ...   \n",
       "2  ...   \n",
       "3  ...   \n",
       "4  ...   \n",
       "\n",
       "   Numa escala de 1 (discordo totalmente) a 6 (concordo totalmente), qual das seguintes frases consideras que descrevem a tua relação? [Estão totalmente comprometidos um com o outro]  \\\n",
       "0                                                6.0                                                                                                                                     \n",
       "1                                                NaN                                                                                                                                     \n",
       "2                                                6.0                                                                                                                                     \n",
       "3                                                6.0                                                                                                                                     \n",
       "4                                                NaN                                                                                                                                     \n",
       "\n",
       "   Numa escala de 1 (discordo totalmente) a 6 (concordo totalmente), qual das seguintes frases consideras que descrevem a tua relação? [São atenciosos com o outro]  \\\n",
       "0                                                5.0                                                                                                                  \n",
       "1                                                NaN                                                                                                                  \n",
       "2                                                6.0                                                                                                                  \n",
       "3                                                6.0                                                                                                                  \n",
       "4                                                NaN                                                                                                                  \n",
       "\n",
       "   Numa escala de 1 (discordo totalmente) a 6 (concordo totalmente), qual das seguintes frases consideras que descrevem a tua relação? [Perdoam-se mutuamente]  \\\n",
       "0                                                6.0                                                                                                             \n",
       "1                                                NaN                                                                                                             \n",
       "2                                                5.0                                                                                                             \n",
       "3                                                6.0                                                                                                             \n",
       "4                                                NaN                                                                                                             \n",
       "\n",
       "   Numa escala de 1 (discordo totalmente) a 6 (concordo totalmente), qual das seguintes frases consideras que descrevem a tua relação? [São gentis um com o outro]  \\\n",
       "0                                                6.0                                                                                                                 \n",
       "1                                                NaN                                                                                                                 \n",
       "2                                                6.0                                                                                                                 \n",
       "3                                                6.0                                                                                                                 \n",
       "4                                                NaN                                                                                                                 \n",
       "\n",
       "   Numa escala de 1 (discordo totalmente) a 6 (concordo totalmente), qual das seguintes frases consideras que descrevem a tua relação? [Existe carinho e afeto espontâneo]  \\\n",
       "0                                                5.0                                                                                                                         \n",
       "1                                                NaN                                                                                                                         \n",
       "2                                                6.0                                                                                                                         \n",
       "3                                                6.0                                                                                                                         \n",
       "4                                                NaN                                                                                                                         \n",
       "\n",
       "   Numa escala de 1 (discordo totalmente) a 6 (concordo totalmente), qual das seguintes frases consideras que descrevem a tua relação? [Apreciam-se mutuamente de forma consistente]  \\\n",
       "0                                                5.0                                                                                                                                   \n",
       "1                                                NaN                                                                                                                                   \n",
       "2                                                6.0                                                                                                                                   \n",
       "3                                                6.0                                                                                                                                   \n",
       "4                                                NaN                                                                                                                                   \n",
       "\n",
       "   Numa escala de 1 (discordo totalmente) a 6 (concordo totalmente), qual das seguintes frases consideras que descrevem a tua relação? [Sentem-se validados pelo outro]  \\\n",
       "0                                                4.0                                                                                                                      \n",
       "1                                                NaN                                                                                                                      \n",
       "2                                                6.0                                                                                                                      \n",
       "3                                                6.0                                                                                                                      \n",
       "4                                                NaN                                                                                                                      \n",
       "\n",
       "   Numa escala de 1 (discordo totalmente) a 6 (concordo totalmente), qual das seguintes frases consideras que descrevem a tua relação? [Sentem liberdade para serem vocês mesmos]  \\\n",
       "0                                                5.0                                                                                                                                \n",
       "1                                                NaN                                                                                                                                \n",
       "2                                                6.0                                                                                                                                \n",
       "3                                                6.0                                                                                                                                \n",
       "4                                                NaN                                                                                                                                \n",
       "\n",
       "   Numa escala de 1 (discordo totalmente) a 6 (concordo totalmente), qual das seguintes frases consideras que descrevem a tua relação? [Ambos aproveitam tempo separados]  \\\n",
       "0                                                5.0                                                                                                                        \n",
       "1                                                NaN                                                                                                                        \n",
       "2                                                6.0                                                                                                                        \n",
       "3                                                4.0                                                                                                                        \n",
       "4                                                NaN                                                                                                                        \n",
       "\n",
       "                   Como descreverias a tua relação?  \n",
       "0  Casamento/Relacionamento monogâmico ou exclusivo  \n",
       "1                                               NaN  \n",
       "2  Casamento/Relacionamento monogâmico ou exclusivo  \n",
       "3  Casamento/Relacionamento monogâmico ou exclusivo  \n",
       "4                                               NaN  \n",
       "\n",
       "[5 rows x 102 columns]"
      ],
      "text/html": "<div>\n<style scoped>\n    .dataframe tbody tr th:only-of-type {\n        vertical-align: middle;\n    }\n\n    .dataframe tbody tr th {\n        vertical-align: top;\n    }\n\n    .dataframe thead th {\n        text-align: right;\n    }\n</style>\n<table border=\"1\" class=\"dataframe\">\n  <thead>\n    <tr style=\"text-align: right;\">\n      <th></th>\n      <th>Timestamp</th>\n      <th>Idade:</th>\n      <th>Qual é o teu género?</th>\n      <th>Com que orientação sexual mais te identificas?</th>\n      <th>Qual o nível de escolaridade mais elevado que concluíste?</th>\n      <th>Qual é a tua religião, se aplicável?</th>\n      <th>Qual é o teu salário médio bruto mensal?</th>\n      <th>Numa escala de 0 (discordo totalmente) a 8 (concordo totalmente), qual das seguintes características consideras ter:  [Sinceridade]</th>\n      <th>Numa escala de 0 (discordo totalmente) a 8 (concordo totalmente), qual das seguintes características consideras ter:  [Lealdade]</th>\n      <th>Numa escala de 0 (discordo totalmente) a 8 (concordo totalmente), qual das seguintes características consideras ter:  [Auto-confiança]</th>\n      <th>...</th>\n      <th>Numa escala de 1 (discordo totalmente) a 6 (concordo totalmente), qual das seguintes frases consideras que descrevem a tua relação? [Estão totalmente comprometidos um com o outro]</th>\n      <th>Numa escala de 1 (discordo totalmente) a 6 (concordo totalmente), qual das seguintes frases consideras que descrevem a tua relação? [São atenciosos com o outro]</th>\n      <th>Numa escala de 1 (discordo totalmente) a 6 (concordo totalmente), qual das seguintes frases consideras que descrevem a tua relação? [Perdoam-se mutuamente]</th>\n      <th>Numa escala de 1 (discordo totalmente) a 6 (concordo totalmente), qual das seguintes frases consideras que descrevem a tua relação? [São gentis um com o outro]</th>\n      <th>Numa escala de 1 (discordo totalmente) a 6 (concordo totalmente), qual das seguintes frases consideras que descrevem a tua relação? [Existe carinho e afeto espontâneo]</th>\n      <th>Numa escala de 1 (discordo totalmente) a 6 (concordo totalmente), qual das seguintes frases consideras que descrevem a tua relação? [Apreciam-se mutuamente de forma consistente]</th>\n      <th>Numa escala de 1 (discordo totalmente) a 6 (concordo totalmente), qual das seguintes frases consideras que descrevem a tua relação? [Sentem-se validados pelo outro]</th>\n      <th>Numa escala de 1 (discordo totalmente) a 6 (concordo totalmente), qual das seguintes frases consideras que descrevem a tua relação? [Sentem liberdade para serem vocês mesmos]</th>\n      <th>Numa escala de 1 (discordo totalmente) a 6 (concordo totalmente), qual das seguintes frases consideras que descrevem a tua relação? [Ambos aproveitam tempo separados]</th>\n      <th>Como descreverias a tua relação?</th>\n    </tr>\n  </thead>\n  <tbody>\n    <tr>\n      <th>0</th>\n      <td>2021/07/12 11:01:16 pm CET</td>\n      <td>28</td>\n      <td>Masculino</td>\n      <td>Heterossexual</td>\n      <td>Licenciatura</td>\n      <td>Ateu</td>\n      <td>1600 - 2000 euros</td>\n      <td>6</td>\n      <td>7</td>\n      <td>4</td>\n      <td>...</td>\n      <td>6.0</td>\n      <td>5.0</td>\n      <td>6.0</td>\n      <td>6.0</td>\n      <td>5.0</td>\n      <td>5.0</td>\n      <td>4.0</td>\n      <td>5.0</td>\n      <td>5.0</td>\n      <td>Casamento/Relacionamento monogâmico ou exclusivo</td>\n    </tr>\n    <tr>\n      <th>1</th>\n      <td>2021/07/12 11:03:44 pm CET</td>\n      <td>31</td>\n      <td>Masculino</td>\n      <td>Heterossexual</td>\n      <td>Ensino secundário ou equivalente</td>\n      <td>Católico</td>\n      <td>1000 - 1300 euros</td>\n      <td>7</td>\n      <td>7</td>\n      <td>4</td>\n      <td>...</td>\n      <td>NaN</td>\n      <td>NaN</td>\n      <td>NaN</td>\n      <td>NaN</td>\n      <td>NaN</td>\n      <td>NaN</td>\n      <td>NaN</td>\n      <td>NaN</td>\n      <td>NaN</td>\n      <td>NaN</td>\n    </tr>\n    <tr>\n      <th>2</th>\n      <td>2021/07/12 11:04:04 pm CET</td>\n      <td>27</td>\n      <td>Feminino</td>\n      <td>Heterossexual</td>\n      <td>Mestrado</td>\n      <td>Católico</td>\n      <td>1000 - 1300 euros</td>\n      <td>6</td>\n      <td>8</td>\n      <td>4</td>\n      <td>...</td>\n      <td>6.0</td>\n      <td>6.0</td>\n      <td>5.0</td>\n      <td>6.0</td>\n      <td>6.0</td>\n      <td>6.0</td>\n      <td>6.0</td>\n      <td>6.0</td>\n      <td>6.0</td>\n      <td>Casamento/Relacionamento monogâmico ou exclusivo</td>\n    </tr>\n    <tr>\n      <th>3</th>\n      <td>2021/07/12 11:04:34 pm CET</td>\n      <td>28</td>\n      <td>Masculino</td>\n      <td>Heterossexual</td>\n      <td>Mestrado</td>\n      <td>Ateu</td>\n      <td>1600 - 2000 euros</td>\n      <td>8</td>\n      <td>8</td>\n      <td>8</td>\n      <td>...</td>\n      <td>6.0</td>\n      <td>6.0</td>\n      <td>6.0</td>\n      <td>6.0</td>\n      <td>6.0</td>\n      <td>6.0</td>\n      <td>6.0</td>\n      <td>6.0</td>\n      <td>4.0</td>\n      <td>Casamento/Relacionamento monogâmico ou exclusivo</td>\n    </tr>\n    <tr>\n      <th>4</th>\n      <td>2021/07/12 11:12:31 pm CET</td>\n      <td>27</td>\n      <td>Masculino</td>\n      <td>Heterossexual</td>\n      <td>Licenciatura</td>\n      <td>Pastafarinismo</td>\n      <td>800 - 1000 euros</td>\n      <td>6</td>\n      <td>7</td>\n      <td>5</td>\n      <td>...</td>\n      <td>NaN</td>\n      <td>NaN</td>\n      <td>NaN</td>\n      <td>NaN</td>\n      <td>NaN</td>\n      <td>NaN</td>\n      <td>NaN</td>\n      <td>NaN</td>\n      <td>NaN</td>\n      <td>NaN</td>\n    </tr>\n  </tbody>\n</table>\n<p>5 rows × 102 columns</p>\n</div>"
     },
     "metadata": {},
     "execution_count": 2
    }
   ],
   "source": [
    "data = pd.read_csv('Relacionamentos_prov.csv')  ## import csv file with the answers\n",
    "data.head(5)"
   ]
  },
  {
   "cell_type": "code",
   "execution_count": 3,
   "metadata": {},
   "outputs": [
    {
     "output_type": "execute_result",
     "data": {
      "text/plain": [
       "['Timestamp',\n",
       " 'Idade:',\n",
       " 'Qual é o teu género?',\n",
       " 'Com que orientação sexual mais te identificas?',\n",
       " 'Qual o nível de escolaridade mais elevado que concluíste?',\n",
       " 'Qual é a tua religião, se aplicável?',\n",
       " 'Qual é o teu salário médio bruto mensal? ',\n",
       " 'Numa escala de 0 (discordo totalmente) a 8 (concordo totalmente), qual das seguintes características consideras ter:  [Sinceridade]',\n",
       " 'Numa escala de 0 (discordo totalmente) a 8 (concordo totalmente), qual das seguintes características consideras ter:  [Lealdade]',\n",
       " 'Numa escala de 0 (discordo totalmente) a 8 (concordo totalmente), qual das seguintes características consideras ter:  [Auto-confiança]',\n",
       " 'Numa escala de 0 (discordo totalmente) a 8 (concordo totalmente), qual das seguintes características consideras ter:  [Coragem]',\n",
       " 'Numa escala de 0 (discordo totalmente) a 8 (concordo totalmente), qual das seguintes características consideras ter:  [Optimismo]',\n",
       " 'Numa escala de 0 (discordo totalmente) a 8 (concordo totalmente), qual das seguintes características consideras ter:  [Riqueza]',\n",
       " 'Numa escala de 0 (discordo totalmente) a 8 (concordo totalmente), qual das seguintes características consideras ter:  [Beleza]',\n",
       " 'Numa escala de 0 (discordo totalmente) a 8 (concordo totalmente), qual das seguintes características consideras ter:  [Inteligência]',\n",
       " 'Numa escala de 0 (discordo totalmente) a 8 (concordo totalmente), qual das seguintes características consideras ter:  [Carisma]',\n",
       " 'Numa escala de 0 (discordo totalmente) a 8 (concordo totalmente), qual das seguintes características consideras ter:  [Espiritualidade]',\n",
       " 'Numa escala de 0 (discordo totalmente) a 8 (concordo totalmente), qual das seguintes características consideras ter:  [Generosidade]',\n",
       " 'Numa escala de 0 (discordo totalmente) a 8 (concordo totalmente), qual das seguintes características consideras ter:  [Bondade]',\n",
       " 'Numa escala de 0 (discordo totalmente) a 8 (concordo totalmente), qual das seguintes características consideras ter:  [Aventureiro/a]',\n",
       " 'Numa escala de 0 (discordo totalmente) a 8 (concordo totalmente), qual das seguintes características consideras ter:  [Divertido/a]',\n",
       " 'Numa escala de 0 (discordo totalmente) a 8 (concordo totalmente), qual das seguintes características consideras ter:  [Energético/a]',\n",
       " 'Encontra-se atualmente num relacionamento?',\n",
       " 'Numa escala de 0 (discordo totalmente) a 8 (concordo totalmente), qual das seguintes características procuras num futuro parceiro?  [Sinceridade]',\n",
       " 'Numa escala de 0 (discordo totalmente) a 8 (concordo totalmente), qual das seguintes características procuras num futuro parceiro?  [Lealdade]',\n",
       " 'Numa escala de 0 (discordo totalmente) a 8 (concordo totalmente), qual das seguintes características procuras num futuro parceiro?  [Auto-confiança]',\n",
       " 'Numa escala de 0 (discordo totalmente) a 8 (concordo totalmente), qual das seguintes características procuras num futuro parceiro?  [Coragem]',\n",
       " 'Numa escala de 0 (discordo totalmente) a 8 (concordo totalmente), qual das seguintes características procuras num futuro parceiro?  [Optimismo]',\n",
       " 'Numa escala de 0 (discordo totalmente) a 8 (concordo totalmente), qual das seguintes características procuras num futuro parceiro?  [Riqueza]',\n",
       " 'Numa escala de 0 (discordo totalmente) a 8 (concordo totalmente), qual das seguintes características procuras num futuro parceiro?  [Beleza]',\n",
       " 'Numa escala de 0 (discordo totalmente) a 8 (concordo totalmente), qual das seguintes características procuras num futuro parceiro?  [Inteligência]',\n",
       " 'Numa escala de 0 (discordo totalmente) a 8 (concordo totalmente), qual das seguintes características procuras num futuro parceiro?  [Carisma]',\n",
       " 'Numa escala de 0 (discordo totalmente) a 8 (concordo totalmente), qual das seguintes características procuras num futuro parceiro?  [Espiritualidade]',\n",
       " 'Numa escala de 0 (discordo totalmente) a 8 (concordo totalmente), qual das seguintes características procuras num futuro parceiro?  [Generosidade]',\n",
       " 'Numa escala de 0 (discordo totalmente) a 8 (concordo totalmente), qual das seguintes características procuras num futuro parceiro?  [Bondade]',\n",
       " 'Numa escala de 0 (discordo totalmente) a 8 (concordo totalmente), qual das seguintes características procuras num futuro parceiro?  [Aventureiro/a]',\n",
       " 'Numa escala de 0 (discordo totalmente) a 8 (concordo totalmente), qual das seguintes características procuras num futuro parceiro?  [Divertido/a]',\n",
       " 'Numa escala de 0 (discordo totalmente) a 8 (concordo totalmente), qual das seguintes características procuras num futuro parceiro?  [Energético/a]',\n",
       " 'Numa escala de 0 (discordo totalmente) a 8 (concordo totalmente), qual das seguintes características consideras que o sexo contrário procura num parceiro/a? [Sinceridade]',\n",
       " 'Numa escala de 0 (discordo totalmente) a 8 (concordo totalmente), qual das seguintes características consideras que o sexo contrário procura num parceiro/a? [Lealdade]',\n",
       " 'Numa escala de 0 (discordo totalmente) a 8 (concordo totalmente), qual das seguintes características consideras que o sexo contrário procura num parceiro/a? [Auto-confiança]',\n",
       " 'Numa escala de 0 (discordo totalmente) a 8 (concordo totalmente), qual das seguintes características consideras que o sexo contrário procura num parceiro/a? [Coragem]',\n",
       " 'Numa escala de 0 (discordo totalmente) a 8 (concordo totalmente), qual das seguintes características consideras que o sexo contrário procura num parceiro/a? [Optimismo]',\n",
       " 'Numa escala de 0 (discordo totalmente) a 8 (concordo totalmente), qual das seguintes características consideras que o sexo contrário procura num parceiro/a? [Riqueza]',\n",
       " 'Numa escala de 0 (discordo totalmente) a 8 (concordo totalmente), qual das seguintes características consideras que o sexo contrário procura num parceiro/a? [Beleza]',\n",
       " 'Numa escala de 0 (discordo totalmente) a 8 (concordo totalmente), qual das seguintes características consideras que o sexo contrário procura num parceiro/a? [Inteligência]',\n",
       " 'Numa escala de 0 (discordo totalmente) a 8 (concordo totalmente), qual das seguintes características consideras que o sexo contrário procura num parceiro/a? [Carisma]',\n",
       " 'Numa escala de 0 (discordo totalmente) a 8 (concordo totalmente), qual das seguintes características consideras que o sexo contrário procura num parceiro/a? [Espiritualidade]',\n",
       " 'Numa escala de 0 (discordo totalmente) a 8 (concordo totalmente), qual das seguintes características consideras que o sexo contrário procura num parceiro/a? [Generosidade]',\n",
       " 'Numa escala de 0 (discordo totalmente) a 8 (concordo totalmente), qual das seguintes características consideras que o sexo contrário procura num parceiro/a? [Bondade]',\n",
       " 'Numa escala de 0 (discordo totalmente) a 8 (concordo totalmente), qual das seguintes características consideras que o sexo contrário procura num parceiro/a? [Aventureiro/a]',\n",
       " 'Numa escala de 0 (discordo totalmente) a 8 (concordo totalmente), qual das seguintes características consideras que o sexo contrário procura num parceiro/a? [Divertido/a]',\n",
       " 'Numa escala de 0 (discordo totalmente) a 8 (concordo totalmente), qual das seguintes características consideras que o sexo contrário procura num parceiro/a? [Energético/a]',\n",
       " 'Numa escala de 1 a 6 como classificas a tua relação?',\n",
       " 'Há quanto tempo se encontram juntos?',\n",
       " 'Tem filhos?',\n",
       " 'Numa escala de 0 (discordo totalmente) a 8 (concordo totalmente), qual das seguintes características consideras que o teu parceiro/a possui? [Sinceridade]',\n",
       " 'Numa escala de 0 (discordo totalmente) a 8 (concordo totalmente), qual das seguintes características consideras que o teu parceiro/a possui? [Lealdade]',\n",
       " 'Numa escala de 0 (discordo totalmente) a 8 (concordo totalmente), qual das seguintes características consideras que o teu parceiro/a possui? [Auto-confiança]',\n",
       " 'Numa escala de 0 (discordo totalmente) a 8 (concordo totalmente), qual das seguintes características consideras que o teu parceiro/a possui? [Coragem]',\n",
       " 'Numa escala de 0 (discordo totalmente) a 8 (concordo totalmente), qual das seguintes características consideras que o teu parceiro/a possui? [Optimismo]',\n",
       " 'Numa escala de 0 (discordo totalmente) a 8 (concordo totalmente), qual das seguintes características consideras que o teu parceiro/a possui? [Riqueza]',\n",
       " 'Numa escala de 0 (discordo totalmente) a 8 (concordo totalmente), qual das seguintes características consideras que o teu parceiro/a possui? [Beleza]',\n",
       " 'Numa escala de 0 (discordo totalmente) a 8 (concordo totalmente), qual das seguintes características consideras que o teu parceiro/a possui? [Inteligência]',\n",
       " 'Numa escala de 0 (discordo totalmente) a 8 (concordo totalmente), qual das seguintes características consideras que o teu parceiro/a possui? [Carisma]',\n",
       " 'Numa escala de 0 (discordo totalmente) a 8 (concordo totalmente), qual das seguintes características consideras que o teu parceiro/a possui? [Espiritualidade]',\n",
       " 'Numa escala de 0 (discordo totalmente) a 8 (concordo totalmente), qual das seguintes características consideras que o teu parceiro/a possui? [Generosidade]',\n",
       " 'Numa escala de 0 (discordo totalmente) a 8 (concordo totalmente), qual das seguintes características consideras que o teu parceiro/a possui? [Bondade]',\n",
       " 'Numa escala de 0 (discordo totalmente) a 8 (concordo totalmente), qual das seguintes características consideras que o teu parceiro/a possui? [Aventureiro/a]',\n",
       " 'Numa escala de 0 (discordo totalmente) a 8 (concordo totalmente), qual das seguintes características consideras que o teu parceiro/a possui? [Divertido/a]',\n",
       " 'Numa escala de 0 (discordo totalmente) a 8 (concordo totalmente), qual das seguintes características consideras que o teu parceiro/a possui? [Energético/a]',\n",
       " 'Numa escala de 0 (discordo totalmente) a 8 (concordo totalmente), qual das seguintes características consideras que o teu parceiro/a valoriza? [Sinceridade]',\n",
       " 'Numa escala de 0 (discordo totalmente) a 8 (concordo totalmente), qual das seguintes características consideras que o teu parceiro/a valoriza? [Lealdade]',\n",
       " 'Numa escala de 0 (discordo totalmente) a 8 (concordo totalmente), qual das seguintes características consideras que o teu parceiro/a valoriza? [Auto-confiança]',\n",
       " 'Numa escala de 0 (discordo totalmente) a 8 (concordo totalmente), qual das seguintes características consideras que o teu parceiro/a valoriza? [Coragem]',\n",
       " 'Numa escala de 0 (discordo totalmente) a 8 (concordo totalmente), qual das seguintes características consideras que o teu parceiro/a valoriza? [Optimismo]',\n",
       " 'Numa escala de 0 (discordo totalmente) a 8 (concordo totalmente), qual das seguintes características consideras que o teu parceiro/a valoriza? [Riqueza]',\n",
       " 'Numa escala de 0 (discordo totalmente) a 8 (concordo totalmente), qual das seguintes características consideras que o teu parceiro/a valoriza? [Beleza]',\n",
       " 'Numa escala de 0 (discordo totalmente) a 8 (concordo totalmente), qual das seguintes características consideras que o teu parceiro/a valoriza? [Inteligência]',\n",
       " 'Numa escala de 0 (discordo totalmente) a 8 (concordo totalmente), qual das seguintes características consideras que o teu parceiro/a valoriza? [Carisma]',\n",
       " 'Numa escala de 0 (discordo totalmente) a 8 (concordo totalmente), qual das seguintes características consideras que o teu parceiro/a valoriza? [Espiritualidade]',\n",
       " 'Numa escala de 0 (discordo totalmente) a 8 (concordo totalmente), qual das seguintes características consideras que o teu parceiro/a valoriza? [Generosidade]',\n",
       " 'Numa escala de 0 (discordo totalmente) a 8 (concordo totalmente), qual das seguintes características consideras que o teu parceiro/a valoriza? [Bondade]',\n",
       " 'Numa escala de 0 (discordo totalmente) a 8 (concordo totalmente), qual das seguintes características consideras que o teu parceiro/a valoriza? [Aventureiro/a]',\n",
       " 'Numa escala de 0 (discordo totalmente) a 8 (concordo totalmente), qual das seguintes características consideras que o teu parceiro/a valoriza? [Divertido/a]',\n",
       " 'Numa escala de 0 (discordo totalmente) a 8 (concordo totalmente), qual das seguintes características consideras que o teu parceiro/a valoriza? [Energético/a]',\n",
       " 'Numa escala de 1 (discordo totalmente) a 6 (concordo totalmente), qual das seguintes frases consideras que descrevem a tua relação? [Respeitam-se mutuamente]',\n",
       " 'Numa escala de 1 (discordo totalmente) a 6 (concordo totalmente), qual das seguintes frases consideras que descrevem a tua relação? [Permitem-se ser vulneráveis um com o outro]',\n",
       " 'Numa escala de 1 (discordo totalmente) a 6 (concordo totalmente), qual das seguintes frases consideras que descrevem a tua relação? [Tem total confiança um no outro]',\n",
       " 'Numa escala de 1 (discordo totalmente) a 6 (concordo totalmente), qual das seguintes frases consideras que descrevem a tua relação? [Mantém uma honestidade inabalável um com o outro]',\n",
       " 'Numa escala de 1 (discordo totalmente) a 6 (concordo totalmente), qual das seguintes frases consideras que descrevem a tua relação? [Ambos dão prioridade à gentileza]',\n",
       " 'Numa escala de 1 (discordo totalmente) a 6 (concordo totalmente), qual das seguintes frases consideras que descrevem a tua relação? [Respeitam os limites um do outro]',\n",
       " 'Numa escala de 1 (discordo totalmente) a 6 (concordo totalmente), qual das seguintes frases consideras que descrevem a tua relação? [Estão totalmente comprometidos um com o outro]',\n",
       " 'Numa escala de 1 (discordo totalmente) a 6 (concordo totalmente), qual das seguintes frases consideras que descrevem a tua relação? [São atenciosos com o outro]',\n",
       " 'Numa escala de 1 (discordo totalmente) a 6 (concordo totalmente), qual das seguintes frases consideras que descrevem a tua relação? [Perdoam-se mutuamente]',\n",
       " 'Numa escala de 1 (discordo totalmente) a 6 (concordo totalmente), qual das seguintes frases consideras que descrevem a tua relação? [São gentis um com o outro]',\n",
       " 'Numa escala de 1 (discordo totalmente) a 6 (concordo totalmente), qual das seguintes frases consideras que descrevem a tua relação? [Existe carinho e afeto espontâneo]',\n",
       " 'Numa escala de 1 (discordo totalmente) a 6 (concordo totalmente), qual das seguintes frases consideras que descrevem a tua relação? [Apreciam-se mutuamente de forma consistente]',\n",
       " 'Numa escala de 1 (discordo totalmente) a 6 (concordo totalmente), qual das seguintes frases consideras que descrevem a tua relação? [Sentem-se validados pelo outro]',\n",
       " 'Numa escala de 1 (discordo totalmente) a 6 (concordo totalmente), qual das seguintes frases consideras que descrevem a tua relação? [Sentem liberdade para serem vocês mesmos]',\n",
       " 'Numa escala de 1 (discordo totalmente) a 6 (concordo totalmente), qual das seguintes frases consideras que descrevem a tua relação? [Ambos aproveitam tempo separados]',\n",
       " 'Como descreverias a tua relação?']"
      ]
     },
     "metadata": {},
     "execution_count": 3
    }
   ],
   "source": [
    "list(data.columns)    ## check the column names"
   ]
  },
  {
   "source": [
    "## Change column names"
   ],
   "cell_type": "markdown",
   "metadata": {}
  },
  {
   "cell_type": "code",
   "execution_count": 4,
   "metadata": {},
   "outputs": [],
   "source": [
    "## change column names + translate to English\n",
    "\n",
    "data.columns = ['Timestamp','Age','Gender','Sexual orientation','School','Religion','Income','Personal[Sincerity]','Personal[Loyalty]','Personal[Self-confidence]','Personal[Braveness]','Personal[Optimism]','Personal[Money]','Personal[Attractiveness]','Personal[Intelligence]','Personal[Charisma]','Personal[Spirituality]','Personal[Generosity]','Personal[Kindness]','Personal[Adventurous]','Personal[Fun]','Personal[Energetic]','Relationship','Future Partner[Sincerity]','Future Partner[Loyalty]','Future Partner[Self-confidence]','Future Partner[Braveness]','Future Partner[Optimism]','Future Partner[Money]','Future Partner[Attractiveness]','Future Partner[Intelligence]','Future Partner[Charisma]','Future Partner[Spirituality]','Future Partner[Generosity]','Future Partner[Kindness]','Future Partner[Adventurous]','Future Partner[Fun]','Future Partner[Energetic]','Opposite sex[Sincerity]','Opposite sex[Loyalty]','Opposite sex[Self-confidence]','Opposite sex[Braveness]','Opposite sex[Optimism]','Opposite sex[Money]','Opposite sex[Attractiveness]','Opposite sex[Intelligence]','Opposite sex[Charisma]','Opposite sex[Spirituality]','Opposite sex[Generosity]','Opposite sex[Kindness]','Opposite sex[Adventurous]','Opposite sex[Fun]','Opposite sex[Energetic]','Relationship rate','Time together','Kids','Partner[Sincerity]','Partner[Loyalty]','Partner[Self-confidence]','Partner[Braveness]','Partner[Optimism]','Partner[Money]','Partner[Attractiveness]','Partner[Intelligence]', 'Partner[Charisma]','Partner[Spirituality]','Partner[Generosity]','Partner[Kindness]','Partner[Adventurous]','Partner[Fun]','Partner[Energetic]', 'Partner values[Sincerity]','Partner values[Loyalty]','Partner values[Self-confidence]','Partner values[Braveness]','Partner values[Optimism]','Partner values[Money]','Partner values[Attractiveness]','Partner values[Intelligence]','Partner values[Charisma]','Partner values[Spirituality]','Partner values[Generosity]','Partner values[Kindness]','Partner values[Adventurous]','Partner values[Fun]','Partner values[Energetic]','Relationship[Respect]','Relationship[Vulnerability]','Relationship[Trust]','Relationship[Honesty]','Relationship[Kindness]','Relationship[Boundaries]','Relationship[Commitment]','Relationship[Thoughtfulness]','Relationship[Forgiveness]','Relationship[Gentleness]','Relationship[Affection]','Relationship[Appreciation]','Relationship[Validation]','Relationship[Freedom]','Relationship[Alone]','Relationship type']   "
   ]
  },
  {
   "source": [
    "## Check the data"
   ],
   "cell_type": "markdown",
   "metadata": {}
  },
  {
   "cell_type": "code",
   "execution_count": 5,
   "metadata": {},
   "outputs": [
    {
     "output_type": "execute_result",
     "data": {
      "text/plain": [
       "       Personal[Sincerity]  Personal[Loyalty]  Personal[Self-confidence]  \\\n",
       "count            50.000000          50.000000                  50.000000   \n",
       "mean              6.560000           7.180000                   5.000000   \n",
       "std               1.372619           1.466497                   1.603567   \n",
       "min               2.000000           1.000000                   0.000000   \n",
       "25%               6.000000           7.000000                   4.000000   \n",
       "50%               7.000000           8.000000                   5.000000   \n",
       "75%               7.000000           8.000000                   6.000000   \n",
       "max               8.000000           8.000000                   8.000000   \n",
       "\n",
       "       Personal[Braveness]  Personal[Optimism]  Personal[Money]  \\\n",
       "count            50.000000           50.000000         50.00000   \n",
       "mean              5.320000            5.720000          4.06000   \n",
       "std               1.448997            1.818723          1.81164   \n",
       "min               1.000000            1.000000          0.00000   \n",
       "25%               5.000000            5.000000          3.00000   \n",
       "50%               6.000000            6.000000          4.00000   \n",
       "75%               6.000000            7.000000          5.00000   \n",
       "max               8.000000            8.000000          7.00000   \n",
       "\n",
       "       Personal[Attractiveness]  Personal[Intelligence]  Personal[Charisma]  \\\n",
       "count                 50.000000               50.000000           50.000000   \n",
       "mean                   4.540000                6.020000            5.460000   \n",
       "std                    1.716784                1.491336            1.501156   \n",
       "min                    0.000000                2.000000            1.000000   \n",
       "25%                    4.000000                6.000000            5.000000   \n",
       "50%                    5.000000                6.000000            6.000000   \n",
       "75%                    6.000000                7.000000            6.000000   \n",
       "max                    7.000000                8.000000            8.000000   \n",
       "\n",
       "       Personal[Spirituality]  ...  Relationship[Boundaries]  \\\n",
       "count               50.000000  ...                 35.000000   \n",
       "mean                 3.920000  ...                  5.314286   \n",
       "std                  2.319747  ...                  0.795998   \n",
       "min                  0.000000  ...                  3.000000   \n",
       "25%                  2.000000  ...                  5.000000   \n",
       "50%                  4.000000  ...                  5.000000   \n",
       "75%                  6.000000  ...                  6.000000   \n",
       "max                  8.000000  ...                  6.000000   \n",
       "\n",
       "       Relationship[Commitment]  Relationship[Thoughtfulness]  \\\n",
       "count                 35.000000                     35.000000   \n",
       "mean                   5.657143                      5.600000   \n",
       "std                    0.639064                      0.553066   \n",
       "min                    4.000000                      4.000000   \n",
       "25%                    5.500000                      5.000000   \n",
       "50%                    6.000000                      6.000000   \n",
       "75%                    6.000000                      6.000000   \n",
       "max                    6.000000                      6.000000   \n",
       "\n",
       "       Relationship[Forgiveness]  Relationship[Gentleness]  \\\n",
       "count                  35.000000                 35.000000   \n",
       "mean                    5.485714                  5.600000   \n",
       "std                     0.817868                  0.603909   \n",
       "min                     3.000000                  4.000000   \n",
       "25%                     5.000000                  5.000000   \n",
       "50%                     6.000000                  6.000000   \n",
       "75%                     6.000000                  6.000000   \n",
       "max                     6.000000                  6.000000   \n",
       "\n",
       "       Relationship[Affection]  Relationship[Appreciation]  \\\n",
       "count                35.000000                   35.000000   \n",
       "mean                  5.685714                    5.542857   \n",
       "std                   0.529785                    0.610827   \n",
       "min                   4.000000                    4.000000   \n",
       "25%                   5.000000                    5.000000   \n",
       "50%                   6.000000                    6.000000   \n",
       "75%                   6.000000                    6.000000   \n",
       "max                   6.000000                    6.000000   \n",
       "\n",
       "       Relationship[Validation]  Relationship[Freedom]  Relationship[Alone]  \n",
       "count                 35.000000              35.000000            35.000000  \n",
       "mean                   5.485714               5.571429             5.314286  \n",
       "std                    0.701739               0.698137             0.795998  \n",
       "min                    4.000000               4.000000             4.000000  \n",
       "25%                    5.000000               5.000000             5.000000  \n",
       "50%                    6.000000               6.000000             6.000000  \n",
       "75%                    6.000000               6.000000             6.000000  \n",
       "max                    6.000000               6.000000             6.000000  \n",
       "\n",
       "[8 rows x 91 columns]"
      ],
      "text/html": "<div>\n<style scoped>\n    .dataframe tbody tr th:only-of-type {\n        vertical-align: middle;\n    }\n\n    .dataframe tbody tr th {\n        vertical-align: top;\n    }\n\n    .dataframe thead th {\n        text-align: right;\n    }\n</style>\n<table border=\"1\" class=\"dataframe\">\n  <thead>\n    <tr style=\"text-align: right;\">\n      <th></th>\n      <th>Personal[Sincerity]</th>\n      <th>Personal[Loyalty]</th>\n      <th>Personal[Self-confidence]</th>\n      <th>Personal[Braveness]</th>\n      <th>Personal[Optimism]</th>\n      <th>Personal[Money]</th>\n      <th>Personal[Attractiveness]</th>\n      <th>Personal[Intelligence]</th>\n      <th>Personal[Charisma]</th>\n      <th>Personal[Spirituality]</th>\n      <th>...</th>\n      <th>Relationship[Boundaries]</th>\n      <th>Relationship[Commitment]</th>\n      <th>Relationship[Thoughtfulness]</th>\n      <th>Relationship[Forgiveness]</th>\n      <th>Relationship[Gentleness]</th>\n      <th>Relationship[Affection]</th>\n      <th>Relationship[Appreciation]</th>\n      <th>Relationship[Validation]</th>\n      <th>Relationship[Freedom]</th>\n      <th>Relationship[Alone]</th>\n    </tr>\n  </thead>\n  <tbody>\n    <tr>\n      <th>count</th>\n      <td>50.000000</td>\n      <td>50.000000</td>\n      <td>50.000000</td>\n      <td>50.000000</td>\n      <td>50.000000</td>\n      <td>50.00000</td>\n      <td>50.000000</td>\n      <td>50.000000</td>\n      <td>50.000000</td>\n      <td>50.000000</td>\n      <td>...</td>\n      <td>35.000000</td>\n      <td>35.000000</td>\n      <td>35.000000</td>\n      <td>35.000000</td>\n      <td>35.000000</td>\n      <td>35.000000</td>\n      <td>35.000000</td>\n      <td>35.000000</td>\n      <td>35.000000</td>\n      <td>35.000000</td>\n    </tr>\n    <tr>\n      <th>mean</th>\n      <td>6.560000</td>\n      <td>7.180000</td>\n      <td>5.000000</td>\n      <td>5.320000</td>\n      <td>5.720000</td>\n      <td>4.06000</td>\n      <td>4.540000</td>\n      <td>6.020000</td>\n      <td>5.460000</td>\n      <td>3.920000</td>\n      <td>...</td>\n      <td>5.314286</td>\n      <td>5.657143</td>\n      <td>5.600000</td>\n      <td>5.485714</td>\n      <td>5.600000</td>\n      <td>5.685714</td>\n      <td>5.542857</td>\n      <td>5.485714</td>\n      <td>5.571429</td>\n      <td>5.314286</td>\n    </tr>\n    <tr>\n      <th>std</th>\n      <td>1.372619</td>\n      <td>1.466497</td>\n      <td>1.603567</td>\n      <td>1.448997</td>\n      <td>1.818723</td>\n      <td>1.81164</td>\n      <td>1.716784</td>\n      <td>1.491336</td>\n      <td>1.501156</td>\n      <td>2.319747</td>\n      <td>...</td>\n      <td>0.795998</td>\n      <td>0.639064</td>\n      <td>0.553066</td>\n      <td>0.817868</td>\n      <td>0.603909</td>\n      <td>0.529785</td>\n      <td>0.610827</td>\n      <td>0.701739</td>\n      <td>0.698137</td>\n      <td>0.795998</td>\n    </tr>\n    <tr>\n      <th>min</th>\n      <td>2.000000</td>\n      <td>1.000000</td>\n      <td>0.000000</td>\n      <td>1.000000</td>\n      <td>1.000000</td>\n      <td>0.00000</td>\n      <td>0.000000</td>\n      <td>2.000000</td>\n      <td>1.000000</td>\n      <td>0.000000</td>\n      <td>...</td>\n      <td>3.000000</td>\n      <td>4.000000</td>\n      <td>4.000000</td>\n      <td>3.000000</td>\n      <td>4.000000</td>\n      <td>4.000000</td>\n      <td>4.000000</td>\n      <td>4.000000</td>\n      <td>4.000000</td>\n      <td>4.000000</td>\n    </tr>\n    <tr>\n      <th>25%</th>\n      <td>6.000000</td>\n      <td>7.000000</td>\n      <td>4.000000</td>\n      <td>5.000000</td>\n      <td>5.000000</td>\n      <td>3.00000</td>\n      <td>4.000000</td>\n      <td>6.000000</td>\n      <td>5.000000</td>\n      <td>2.000000</td>\n      <td>...</td>\n      <td>5.000000</td>\n      <td>5.500000</td>\n      <td>5.000000</td>\n      <td>5.000000</td>\n      <td>5.000000</td>\n      <td>5.000000</td>\n      <td>5.000000</td>\n      <td>5.000000</td>\n      <td>5.000000</td>\n      <td>5.000000</td>\n    </tr>\n    <tr>\n      <th>50%</th>\n      <td>7.000000</td>\n      <td>8.000000</td>\n      <td>5.000000</td>\n      <td>6.000000</td>\n      <td>6.000000</td>\n      <td>4.00000</td>\n      <td>5.000000</td>\n      <td>6.000000</td>\n      <td>6.000000</td>\n      <td>4.000000</td>\n      <td>...</td>\n      <td>5.000000</td>\n      <td>6.000000</td>\n      <td>6.000000</td>\n      <td>6.000000</td>\n      <td>6.000000</td>\n      <td>6.000000</td>\n      <td>6.000000</td>\n      <td>6.000000</td>\n      <td>6.000000</td>\n      <td>6.000000</td>\n    </tr>\n    <tr>\n      <th>75%</th>\n      <td>7.000000</td>\n      <td>8.000000</td>\n      <td>6.000000</td>\n      <td>6.000000</td>\n      <td>7.000000</td>\n      <td>5.00000</td>\n      <td>6.000000</td>\n      <td>7.000000</td>\n      <td>6.000000</td>\n      <td>6.000000</td>\n      <td>...</td>\n      <td>6.000000</td>\n      <td>6.000000</td>\n      <td>6.000000</td>\n      <td>6.000000</td>\n      <td>6.000000</td>\n      <td>6.000000</td>\n      <td>6.000000</td>\n      <td>6.000000</td>\n      <td>6.000000</td>\n      <td>6.000000</td>\n    </tr>\n    <tr>\n      <th>max</th>\n      <td>8.000000</td>\n      <td>8.000000</td>\n      <td>8.000000</td>\n      <td>8.000000</td>\n      <td>8.000000</td>\n      <td>7.00000</td>\n      <td>7.000000</td>\n      <td>8.000000</td>\n      <td>8.000000</td>\n      <td>8.000000</td>\n      <td>...</td>\n      <td>6.000000</td>\n      <td>6.000000</td>\n      <td>6.000000</td>\n      <td>6.000000</td>\n      <td>6.000000</td>\n      <td>6.000000</td>\n      <td>6.000000</td>\n      <td>6.000000</td>\n      <td>6.000000</td>\n      <td>6.000000</td>\n    </tr>\n  </tbody>\n</table>\n<p>8 rows × 91 columns</p>\n</div>"
     },
     "metadata": {},
     "execution_count": 5
    }
   ],
   "source": [
    "data.describe()  ## check data distribution"
   ]
  },
  {
   "source": [
    "# Clean and Update dataset"
   ],
   "cell_type": "markdown",
   "metadata": {}
  },
  {
   "cell_type": "code",
   "execution_count": 6,
   "metadata": {},
   "outputs": [],
   "source": [
    "## Age"
   ]
  },
  {
   "cell_type": "code",
   "execution_count": 7,
   "metadata": {},
   "outputs": [
    {
     "output_type": "execute_result",
     "data": {
      "text/plain": [
       "array(['28', '31', '27', '30', '23', '29', '25', '22', '33', '26',\n",
       "       '25 anos', '20', '36', '21', '45', '24', '55', '54', '18', '19'],\n",
       "      dtype=object)"
      ]
     },
     "metadata": {},
     "execution_count": 7
    }
   ],
   "source": [
    "data['Age'].unique()  ## check unique values"
   ]
  },
  {
   "cell_type": "code",
   "execution_count": 8,
   "metadata": {},
   "outputs": [],
   "source": [
    "data['Age'] = data['Age'].replace('25 anos','25')    ## uniform answers"
   ]
  },
  {
   "cell_type": "code",
   "execution_count": 9,
   "metadata": {},
   "outputs": [
    {
     "output_type": "execute_result",
     "data": {
      "text/plain": [
       "array(['28', '31', '27', '30', '23', '29', '25', '22', '33', '26', '20',\n",
       "       '36', '21', '45', '24', '55', '54', '18', '19'], dtype=object)"
      ]
     },
     "metadata": {},
     "execution_count": 9
    }
   ],
   "source": [
    "data['Age'].unique()  ## check changes made"
   ]
  },
  {
   "cell_type": "code",
   "execution_count": 10,
   "metadata": {},
   "outputs": [],
   "source": [
    "## Gender"
   ]
  },
  {
   "cell_type": "code",
   "execution_count": 11,
   "metadata": {},
   "outputs": [
    {
     "output_type": "execute_result",
     "data": {
      "text/plain": [
       "array(['Masculino', 'Feminino'], dtype=object)"
      ]
     },
     "metadata": {},
     "execution_count": 11
    }
   ],
   "source": [
    "data['Gender'].unique()  ## check unique values"
   ]
  },
  {
   "cell_type": "code",
   "execution_count": 12,
   "metadata": {},
   "outputs": [],
   "source": [
    "data['Gender'] = data['Gender'].replace('Masculino','Male')    ## uniform answers\n",
    "data['Gender'] = data['Gender'].replace('Feminino','Female')"
   ]
  },
  {
   "cell_type": "code",
   "execution_count": 13,
   "metadata": {},
   "outputs": [
    {
     "output_type": "execute_result",
     "data": {
      "text/plain": [
       "array(['Male', 'Female'], dtype=object)"
      ]
     },
     "metadata": {},
     "execution_count": 13
    }
   ],
   "source": [
    "data['Gender'].unique()  ## check changes made"
   ]
  },
  {
   "cell_type": "code",
   "execution_count": 14,
   "metadata": {},
   "outputs": [],
   "source": [
    "## Sexual orientation"
   ]
  },
  {
   "cell_type": "code",
   "execution_count": 15,
   "metadata": {},
   "outputs": [
    {
     "output_type": "execute_result",
     "data": {
      "text/plain": [
       "array(['Heterossexual', 'Homossexual', 'Prefiro não responder'],\n",
       "      dtype=object)"
      ]
     },
     "metadata": {},
     "execution_count": 15
    }
   ],
   "source": [
    "data['Sexual orientation'].unique()  ## check unique values"
   ]
  },
  {
   "cell_type": "code",
   "execution_count": 16,
   "metadata": {},
   "outputs": [],
   "source": [
    "data['Sexual orientation'] = data['Sexual orientation'].replace('Heterossexual','Heterosexual')    ## uniform answers\n",
    "data['Sexual orientation'] = data['Sexual orientation'].replace('Homossexual','Homosexual')\n",
    "data['Sexual orientation'] = data['Sexual orientation'].replace('Prefiro não responder','Prefer not to disclose')"
   ]
  },
  {
   "cell_type": "code",
   "execution_count": 17,
   "metadata": {},
   "outputs": [
    {
     "output_type": "execute_result",
     "data": {
      "text/plain": [
       "array(['Heterosexual', 'Homosexual', 'Prefer not to disclose'],\n",
       "      dtype=object)"
      ]
     },
     "metadata": {},
     "execution_count": 17
    }
   ],
   "source": [
    "data['Sexual orientation'].unique()  ## check changes made"
   ]
  },
  {
   "cell_type": "code",
   "execution_count": 18,
   "metadata": {},
   "outputs": [],
   "source": [
    "## School"
   ]
  },
  {
   "cell_type": "code",
   "execution_count": 19,
   "metadata": {},
   "outputs": [
    {
     "output_type": "execute_result",
     "data": {
      "text/plain": [
       "array(['Licenciatura', 'Ensino secundário ou equivalente', 'Mestrado',\n",
       "       'Doutoramento'], dtype=object)"
      ]
     },
     "metadata": {},
     "execution_count": 19
    }
   ],
   "source": [
    "data['School'].unique()  ## check unique values"
   ]
  },
  {
   "cell_type": "code",
   "execution_count": 20,
   "metadata": {},
   "outputs": [],
   "source": [
    "data['School'] = data['School'].replace('Licenciatura','Bachelor')    ## uniform answers\n",
    "data['School'] = data['School'].replace('Ensino secundário ou equivalente','High school')\n",
    "data['School'] = data['School'].replace('Mestrado','Master')\n",
    "data['School'] = data['School'].replace('Doutoramento','Doctorate')"
   ]
  },
  {
   "cell_type": "code",
   "execution_count": 21,
   "metadata": {},
   "outputs": [
    {
     "output_type": "execute_result",
     "data": {
      "text/plain": [
       "array(['Bachelor', 'High school', 'Master', 'Doctorate'], dtype=object)"
      ]
     },
     "metadata": {},
     "execution_count": 21
    }
   ],
   "source": [
    "data['School'].unique()  ## check changes made"
   ]
  },
  {
   "cell_type": "code",
   "execution_count": 22,
   "metadata": {},
   "outputs": [],
   "source": [
    "## Religion"
   ]
  },
  {
   "cell_type": "code",
   "execution_count": 23,
   "metadata": {},
   "outputs": [
    {
     "output_type": "execute_result",
     "data": {
      "text/plain": [
       "array(['Ateu', 'Católico', 'Pastafarinismo', 'Agnóstico', 'Não sei',\n",
       "       'Muçulmano'], dtype=object)"
      ]
     },
     "metadata": {},
     "execution_count": 23
    }
   ],
   "source": [
    "data['Religion'].unique()  ## check unique values"
   ]
  },
  {
   "cell_type": "code",
   "execution_count": 24,
   "metadata": {},
   "outputs": [],
   "source": [
    "data['Religion'] = data['Religion'].replace('Ateu','Atheist')    ## uniform answers\n",
    "data['Religion'] = data['Religion'].replace('Católico','Christian')\n",
    "data['Religion'] = data['Religion'].replace('Pastafarinismo','Pastafarianism')\n",
    "data['Religion'] = data['Religion'].replace('Agnóstico','Agnostic')\n",
    "data['Religion'] = data['Religion'].replace('Não sei','Don’t know')\n",
    "data['Religion'] = data['Religion'].replace('Muçulmano','Muslim')"
   ]
  },
  {
   "cell_type": "code",
   "execution_count": 25,
   "metadata": {},
   "outputs": [
    {
     "output_type": "execute_result",
     "data": {
      "text/plain": [
       "array(['Atheist', 'Christian', 'Pastafarianism', 'Agnostic', 'Don’t know',\n",
       "       'Muslim'], dtype=object)"
      ]
     },
     "metadata": {},
     "execution_count": 25
    }
   ],
   "source": [
    "data['Religion'].unique()  ## check changes made"
   ]
  },
  {
   "cell_type": "code",
   "execution_count": 26,
   "metadata": {},
   "outputs": [],
   "source": [
    "## Income"
   ]
  },
  {
   "cell_type": "code",
   "execution_count": 27,
   "metadata": {},
   "outputs": [
    {
     "output_type": "execute_result",
     "data": {
      "text/plain": [
       "array(['1600 - 2000 euros', '1000 - 1300 euros', '800 - 1000 euros',\n",
       "       'Mais de 3000 euros', '1300 - 1600 euros', 'Menos de 800 euros',\n",
       "       '2000 - 3000 euros'], dtype=object)"
      ]
     },
     "metadata": {},
     "execution_count": 27
    }
   ],
   "source": [
    "data['Income'].unique()  ## check unique values"
   ]
  },
  {
   "cell_type": "code",
   "execution_count": 28,
   "metadata": {},
   "outputs": [],
   "source": [
    "data['Income'] = data['Income'].replace('Mais de 3000 euros','More than 3000 euros')    ## uniform answers\n",
    "data['Income'] = data['Income'].replace('Menos de 800 euros','Less than 800 euros')"
   ]
  },
  {
   "cell_type": "code",
   "execution_count": 29,
   "metadata": {},
   "outputs": [
    {
     "output_type": "execute_result",
     "data": {
      "text/plain": [
       "array(['1600 - 2000 euros', '1000 - 1300 euros', '800 - 1000 euros',\n",
       "       'More than 3000 euros', '1300 - 1600 euros', 'Less than 800 euros',\n",
       "       '2000 - 3000 euros'], dtype=object)"
      ]
     },
     "metadata": {},
     "execution_count": 29
    }
   ],
   "source": [
    "data['Income'].unique()  ## check changes made"
   ]
  },
  {
   "cell_type": "code",
   "execution_count": 30,
   "metadata": {},
   "outputs": [],
   "source": [
    "## Kids"
   ]
  },
  {
   "cell_type": "code",
   "execution_count": 31,
   "metadata": {},
   "outputs": [
    {
     "output_type": "execute_result",
     "data": {
      "text/plain": [
       "array(['Não', nan, 'Sim'], dtype=object)"
      ]
     },
     "metadata": {},
     "execution_count": 31
    }
   ],
   "source": [
    "data['Kids'].unique()  ## check unique values"
   ]
  },
  {
   "cell_type": "code",
   "execution_count": 32,
   "metadata": {},
   "outputs": [],
   "source": [
    "data['Kids'] = data['Kids'].replace('Não','No')    ## uniform answers\n",
    "data['Kids'] = data['Kids'].replace('Sim','Yes')"
   ]
  },
  {
   "cell_type": "code",
   "execution_count": 33,
   "metadata": {},
   "outputs": [
    {
     "output_type": "execute_result",
     "data": {
      "text/plain": [
       "array(['No', nan, 'Yes'], dtype=object)"
      ]
     },
     "metadata": {},
     "execution_count": 33
    }
   ],
   "source": [
    "data['Kids'].unique()  ## check changes made"
   ]
  },
  {
   "cell_type": "code",
   "execution_count": 34,
   "metadata": {},
   "outputs": [],
   "source": [
    "## Relationship"
   ]
  },
  {
   "cell_type": "code",
   "execution_count": 35,
   "metadata": {},
   "outputs": [
    {
     "output_type": "execute_result",
     "data": {
      "text/plain": [
       "array(['Sim', 'Não'], dtype=object)"
      ]
     },
     "metadata": {},
     "execution_count": 35
    }
   ],
   "source": [
    "data['Relationship'].unique()  ## check unique values"
   ]
  },
  {
   "cell_type": "code",
   "execution_count": 36,
   "metadata": {},
   "outputs": [],
   "source": [
    "data['Relationship'] = data['Relationship'].replace('Não','No')    ## uniform answers\n",
    "data['Relationship'] = data['Relationship'].replace('Sim','Yes')"
   ]
  },
  {
   "cell_type": "code",
   "execution_count": 37,
   "metadata": {},
   "outputs": [
    {
     "output_type": "execute_result",
     "data": {
      "text/plain": [
       "array(['Yes', 'No'], dtype=object)"
      ]
     },
     "metadata": {},
     "execution_count": 37
    }
   ],
   "source": [
    "data['Relationship'].unique()  ## check changes made"
   ]
  },
  {
   "cell_type": "code",
   "execution_count": 38,
   "metadata": {},
   "outputs": [],
   "source": [
    "## Relationship type"
   ]
  },
  {
   "cell_type": "code",
   "execution_count": 39,
   "metadata": {},
   "outputs": [
    {
     "output_type": "execute_result",
     "data": {
      "text/plain": [
       "array(['Casamento/Relacionamento monogâmico ou exclusivo', nan],\n",
       "      dtype=object)"
      ]
     },
     "metadata": {},
     "execution_count": 39
    }
   ],
   "source": [
    "data['Relationship type'].unique()  ## check unique values"
   ]
  },
  {
   "cell_type": "code",
   "execution_count": 40,
   "metadata": {},
   "outputs": [],
   "source": [
    "data['Relationship type'] = data['Relationship type'].replace('Casamento/Relacionamento monogâmico ou exclusivo','Monogamous')    ## uniform answers"
   ]
  },
  {
   "cell_type": "code",
   "execution_count": 41,
   "metadata": {},
   "outputs": [
    {
     "output_type": "execute_result",
     "data": {
      "text/plain": [
       "array(['Monogamous', nan], dtype=object)"
      ]
     },
     "metadata": {},
     "execution_count": 41
    }
   ],
   "source": [
    "data['Relationship type'].unique()  ## check changes made"
   ]
  },
  {
   "cell_type": "code",
   "execution_count": 42,
   "metadata": {},
   "outputs": [],
   "source": [
    "## Relationship type"
   ]
  },
  {
   "cell_type": "code",
   "execution_count": 43,
   "metadata": {},
   "outputs": [
    {
     "output_type": "execute_result",
     "data": {
      "text/plain": [
       "array(['18 meses', nan, '10 meses', '0,9', '6 meses', '4 anos', '1 ano',\n",
       "       '5 anos', '3', '3 anos', '4', '6', '6 anos', '6 meses.', '12 anos',\n",
       "       '12', '8 anos', '11 anos', '22 anos', '10 anos', '32 anos',\n",
       "       '13 anos', '28 anos', '13', '2 meses', '2 anos e 7 meses',\n",
       "       '2.5 anos', '1 ano e 8 meses', '32', '7 meses '], dtype=object)"
      ]
     },
     "metadata": {},
     "execution_count": 43
    }
   ],
   "source": [
    "data['Time together'].unique()  ## check unique values"
   ]
  },
  {
   "cell_type": "code",
   "execution_count": 44,
   "metadata": {},
   "outputs": [],
   "source": [
    "#data['Relationship type'] = data['Relationship type'].replace('Casamento/Relacionamento monogâmico ou exclusivo','Monogamous')    ## uniform answers"
   ]
  },
  {
   "cell_type": "code",
   "execution_count": null,
   "metadata": {},
   "outputs": [],
   "source": []
  },
  {
   "source": [
    "Add new columns"
   ],
   "cell_type": "markdown",
   "metadata": {}
  },
  {
   "cell_type": "code",
   "execution_count": 45,
   "metadata": {},
   "outputs": [
    {
     "output_type": "execute_result",
     "data": {
      "text/plain": [
       "                    Timestamp Age  Gender Sexual orientation       School  \\\n",
       "0  2021/07/12 11:01:16 pm CET  28    Male       Heterosexual     Bachelor   \n",
       "1  2021/07/12 11:03:44 pm CET  31    Male       Heterosexual  High school   \n",
       "2  2021/07/12 11:04:04 pm CET  27  Female       Heterosexual       Master   \n",
       "3  2021/07/12 11:04:34 pm CET  28    Male       Heterosexual       Master   \n",
       "4  2021/07/12 11:12:31 pm CET  27    Male       Heterosexual     Bachelor   \n",
       "\n",
       "         Religion             Income  Personal[Sincerity]  Personal[Loyalty]  \\\n",
       "0         Atheist  1600 - 2000 euros                    6                  7   \n",
       "1       Christian  1000 - 1300 euros                    7                  7   \n",
       "2       Christian  1000 - 1300 euros                    6                  8   \n",
       "3         Atheist  1600 - 2000 euros                    8                  8   \n",
       "4  Pastafarianism   800 - 1000 euros                    6                  7   \n",
       "\n",
       "   Personal[Self-confidence]  ...  Relationship[Commitment]  \\\n",
       "0                          4  ...                       6.0   \n",
       "1                          4  ...                       NaN   \n",
       "2                          4  ...                       6.0   \n",
       "3                          8  ...                       6.0   \n",
       "4                          5  ...                       NaN   \n",
       "\n",
       "   Relationship[Thoughtfulness]  Relationship[Forgiveness]  \\\n",
       "0                           5.0                        6.0   \n",
       "1                           NaN                        NaN   \n",
       "2                           6.0                        5.0   \n",
       "3                           6.0                        6.0   \n",
       "4                           NaN                        NaN   \n",
       "\n",
       "   Relationship[Gentleness]  Relationship[Affection]  \\\n",
       "0                       6.0                      5.0   \n",
       "1                       NaN                      NaN   \n",
       "2                       6.0                      6.0   \n",
       "3                       6.0                      6.0   \n",
       "4                       NaN                      NaN   \n",
       "\n",
       "   Relationship[Appreciation]  Relationship[Validation]  \\\n",
       "0                         5.0                       4.0   \n",
       "1                         NaN                       NaN   \n",
       "2                         6.0                       6.0   \n",
       "3                         6.0                       6.0   \n",
       "4                         NaN                       NaN   \n",
       "\n",
       "   Relationship[Freedom]  Relationship[Alone]  Relationship type  \n",
       "0                    5.0                  5.0         Monogamous  \n",
       "1                    NaN                  NaN                NaN  \n",
       "2                    6.0                  6.0         Monogamous  \n",
       "3                    6.0                  4.0         Monogamous  \n",
       "4                    NaN                  NaN                NaN  \n",
       "\n",
       "[5 rows x 102 columns]"
      ],
      "text/html": "<div>\n<style scoped>\n    .dataframe tbody tr th:only-of-type {\n        vertical-align: middle;\n    }\n\n    .dataframe tbody tr th {\n        vertical-align: top;\n    }\n\n    .dataframe thead th {\n        text-align: right;\n    }\n</style>\n<table border=\"1\" class=\"dataframe\">\n  <thead>\n    <tr style=\"text-align: right;\">\n      <th></th>\n      <th>Timestamp</th>\n      <th>Age</th>\n      <th>Gender</th>\n      <th>Sexual orientation</th>\n      <th>School</th>\n      <th>Religion</th>\n      <th>Income</th>\n      <th>Personal[Sincerity]</th>\n      <th>Personal[Loyalty]</th>\n      <th>Personal[Self-confidence]</th>\n      <th>...</th>\n      <th>Relationship[Commitment]</th>\n      <th>Relationship[Thoughtfulness]</th>\n      <th>Relationship[Forgiveness]</th>\n      <th>Relationship[Gentleness]</th>\n      <th>Relationship[Affection]</th>\n      <th>Relationship[Appreciation]</th>\n      <th>Relationship[Validation]</th>\n      <th>Relationship[Freedom]</th>\n      <th>Relationship[Alone]</th>\n      <th>Relationship type</th>\n    </tr>\n  </thead>\n  <tbody>\n    <tr>\n      <th>0</th>\n      <td>2021/07/12 11:01:16 pm CET</td>\n      <td>28</td>\n      <td>Male</td>\n      <td>Heterosexual</td>\n      <td>Bachelor</td>\n      <td>Atheist</td>\n      <td>1600 - 2000 euros</td>\n      <td>6</td>\n      <td>7</td>\n      <td>4</td>\n      <td>...</td>\n      <td>6.0</td>\n      <td>5.0</td>\n      <td>6.0</td>\n      <td>6.0</td>\n      <td>5.0</td>\n      <td>5.0</td>\n      <td>4.0</td>\n      <td>5.0</td>\n      <td>5.0</td>\n      <td>Monogamous</td>\n    </tr>\n    <tr>\n      <th>1</th>\n      <td>2021/07/12 11:03:44 pm CET</td>\n      <td>31</td>\n      <td>Male</td>\n      <td>Heterosexual</td>\n      <td>High school</td>\n      <td>Christian</td>\n      <td>1000 - 1300 euros</td>\n      <td>7</td>\n      <td>7</td>\n      <td>4</td>\n      <td>...</td>\n      <td>NaN</td>\n      <td>NaN</td>\n      <td>NaN</td>\n      <td>NaN</td>\n      <td>NaN</td>\n      <td>NaN</td>\n      <td>NaN</td>\n      <td>NaN</td>\n      <td>NaN</td>\n      <td>NaN</td>\n    </tr>\n    <tr>\n      <th>2</th>\n      <td>2021/07/12 11:04:04 pm CET</td>\n      <td>27</td>\n      <td>Female</td>\n      <td>Heterosexual</td>\n      <td>Master</td>\n      <td>Christian</td>\n      <td>1000 - 1300 euros</td>\n      <td>6</td>\n      <td>8</td>\n      <td>4</td>\n      <td>...</td>\n      <td>6.0</td>\n      <td>6.0</td>\n      <td>5.0</td>\n      <td>6.0</td>\n      <td>6.0</td>\n      <td>6.0</td>\n      <td>6.0</td>\n      <td>6.0</td>\n      <td>6.0</td>\n      <td>Monogamous</td>\n    </tr>\n    <tr>\n      <th>3</th>\n      <td>2021/07/12 11:04:34 pm CET</td>\n      <td>28</td>\n      <td>Male</td>\n      <td>Heterosexual</td>\n      <td>Master</td>\n      <td>Atheist</td>\n      <td>1600 - 2000 euros</td>\n      <td>8</td>\n      <td>8</td>\n      <td>8</td>\n      <td>...</td>\n      <td>6.0</td>\n      <td>6.0</td>\n      <td>6.0</td>\n      <td>6.0</td>\n      <td>6.0</td>\n      <td>6.0</td>\n      <td>6.0</td>\n      <td>6.0</td>\n      <td>4.0</td>\n      <td>Monogamous</td>\n    </tr>\n    <tr>\n      <th>4</th>\n      <td>2021/07/12 11:12:31 pm CET</td>\n      <td>27</td>\n      <td>Male</td>\n      <td>Heterosexual</td>\n      <td>Bachelor</td>\n      <td>Pastafarianism</td>\n      <td>800 - 1000 euros</td>\n      <td>6</td>\n      <td>7</td>\n      <td>5</td>\n      <td>...</td>\n      <td>NaN</td>\n      <td>NaN</td>\n      <td>NaN</td>\n      <td>NaN</td>\n      <td>NaN</td>\n      <td>NaN</td>\n      <td>NaN</td>\n      <td>NaN</td>\n      <td>NaN</td>\n      <td>NaN</td>\n    </tr>\n  </tbody>\n</table>\n<p>5 rows × 102 columns</p>\n</div>"
     },
     "metadata": {},
     "execution_count": 45
    }
   ],
   "source": [
    "data.head()"
   ]
  },
  {
   "cell_type": "code",
   "execution_count": 46,
   "metadata": {},
   "outputs": [],
   "source": [
    "data = data.drop(['Timestamp'], axis=1)\n",
    "\n",
    "data['ID'] = [i for i in range(len(data.index))]"
   ]
  },
  {
   "cell_type": "code",
   "execution_count": 47,
   "metadata": {},
   "outputs": [
    {
     "output_type": "execute_result",
     "data": {
      "text/plain": [
       "   Age  Gender Sexual orientation       School   Religion  \\\n",
       "45  22    Male       Heterosexual     Bachelor    Atheist   \n",
       "46  19    Male       Heterosexual  High school     Muslim   \n",
       "47  55  Female       Heterosexual    Doctorate  Christian   \n",
       "48  22  Female       Heterosexual     Bachelor  Christian   \n",
       "49  22  Female       Heterosexual     Bachelor   Agnostic   \n",
       "\n",
       "                 Income  Personal[Sincerity]  Personal[Loyalty]  \\\n",
       "45  Less than 800 euros                    7                  8   \n",
       "46  Less than 800 euros                    8                  8   \n",
       "47    1300 - 1600 euros                    7                  7   \n",
       "48  Less than 800 euros                    7                  7   \n",
       "49  Less than 800 euros                    7                  8   \n",
       "\n",
       "    Personal[Self-confidence]  Personal[Braveness]  ...  \\\n",
       "45                          6                    7  ...   \n",
       "46                          6                    6  ...   \n",
       "47                          7                    7  ...   \n",
       "48                          5                    6  ...   \n",
       "49                          5                    5  ...   \n",
       "\n",
       "    Relationship[Thoughtfulness]  Relationship[Forgiveness]  \\\n",
       "45                           6.0                        6.0   \n",
       "46                           NaN                        NaN   \n",
       "47                           5.0                        4.0   \n",
       "48                           5.0                        5.0   \n",
       "49                           6.0                        6.0   \n",
       "\n",
       "    Relationship[Gentleness]  Relationship[Affection]  \\\n",
       "45                       6.0                      6.0   \n",
       "46                       NaN                      NaN   \n",
       "47                       5.0                      5.0   \n",
       "48                       5.0                      5.0   \n",
       "49                       6.0                      6.0   \n",
       "\n",
       "    Relationship[Appreciation]  Relationship[Validation]  \\\n",
       "45                         6.0                       6.0   \n",
       "46                         NaN                       NaN   \n",
       "47                         4.0                       5.0   \n",
       "48                         5.0                       5.0   \n",
       "49                         6.0                       6.0   \n",
       "\n",
       "    Relationship[Freedom]  Relationship[Alone]  Relationship type  ID  \n",
       "45                    6.0                  6.0         Monogamous  45  \n",
       "46                    NaN                  NaN                NaN  46  \n",
       "47                    5.0                  5.0         Monogamous  47  \n",
       "48                    5.0                  5.0         Monogamous  48  \n",
       "49                    6.0                  6.0         Monogamous  49  \n",
       "\n",
       "[5 rows x 102 columns]"
      ],
      "text/html": "<div>\n<style scoped>\n    .dataframe tbody tr th:only-of-type {\n        vertical-align: middle;\n    }\n\n    .dataframe tbody tr th {\n        vertical-align: top;\n    }\n\n    .dataframe thead th {\n        text-align: right;\n    }\n</style>\n<table border=\"1\" class=\"dataframe\">\n  <thead>\n    <tr style=\"text-align: right;\">\n      <th></th>\n      <th>Age</th>\n      <th>Gender</th>\n      <th>Sexual orientation</th>\n      <th>School</th>\n      <th>Religion</th>\n      <th>Income</th>\n      <th>Personal[Sincerity]</th>\n      <th>Personal[Loyalty]</th>\n      <th>Personal[Self-confidence]</th>\n      <th>Personal[Braveness]</th>\n      <th>...</th>\n      <th>Relationship[Thoughtfulness]</th>\n      <th>Relationship[Forgiveness]</th>\n      <th>Relationship[Gentleness]</th>\n      <th>Relationship[Affection]</th>\n      <th>Relationship[Appreciation]</th>\n      <th>Relationship[Validation]</th>\n      <th>Relationship[Freedom]</th>\n      <th>Relationship[Alone]</th>\n      <th>Relationship type</th>\n      <th>ID</th>\n    </tr>\n  </thead>\n  <tbody>\n    <tr>\n      <th>45</th>\n      <td>22</td>\n      <td>Male</td>\n      <td>Heterosexual</td>\n      <td>Bachelor</td>\n      <td>Atheist</td>\n      <td>Less than 800 euros</td>\n      <td>7</td>\n      <td>8</td>\n      <td>6</td>\n      <td>7</td>\n      <td>...</td>\n      <td>6.0</td>\n      <td>6.0</td>\n      <td>6.0</td>\n      <td>6.0</td>\n      <td>6.0</td>\n      <td>6.0</td>\n      <td>6.0</td>\n      <td>6.0</td>\n      <td>Monogamous</td>\n      <td>45</td>\n    </tr>\n    <tr>\n      <th>46</th>\n      <td>19</td>\n      <td>Male</td>\n      <td>Heterosexual</td>\n      <td>High school</td>\n      <td>Muslim</td>\n      <td>Less than 800 euros</td>\n      <td>8</td>\n      <td>8</td>\n      <td>6</td>\n      <td>6</td>\n      <td>...</td>\n      <td>NaN</td>\n      <td>NaN</td>\n      <td>NaN</td>\n      <td>NaN</td>\n      <td>NaN</td>\n      <td>NaN</td>\n      <td>NaN</td>\n      <td>NaN</td>\n      <td>NaN</td>\n      <td>46</td>\n    </tr>\n    <tr>\n      <th>47</th>\n      <td>55</td>\n      <td>Female</td>\n      <td>Heterosexual</td>\n      <td>Doctorate</td>\n      <td>Christian</td>\n      <td>1300 - 1600 euros</td>\n      <td>7</td>\n      <td>7</td>\n      <td>7</td>\n      <td>7</td>\n      <td>...</td>\n      <td>5.0</td>\n      <td>4.0</td>\n      <td>5.0</td>\n      <td>5.0</td>\n      <td>4.0</td>\n      <td>5.0</td>\n      <td>5.0</td>\n      <td>5.0</td>\n      <td>Monogamous</td>\n      <td>47</td>\n    </tr>\n    <tr>\n      <th>48</th>\n      <td>22</td>\n      <td>Female</td>\n      <td>Heterosexual</td>\n      <td>Bachelor</td>\n      <td>Christian</td>\n      <td>Less than 800 euros</td>\n      <td>7</td>\n      <td>7</td>\n      <td>5</td>\n      <td>6</td>\n      <td>...</td>\n      <td>5.0</td>\n      <td>5.0</td>\n      <td>5.0</td>\n      <td>5.0</td>\n      <td>5.0</td>\n      <td>5.0</td>\n      <td>5.0</td>\n      <td>5.0</td>\n      <td>Monogamous</td>\n      <td>48</td>\n    </tr>\n    <tr>\n      <th>49</th>\n      <td>22</td>\n      <td>Female</td>\n      <td>Heterosexual</td>\n      <td>Bachelor</td>\n      <td>Agnostic</td>\n      <td>Less than 800 euros</td>\n      <td>7</td>\n      <td>8</td>\n      <td>5</td>\n      <td>5</td>\n      <td>...</td>\n      <td>6.0</td>\n      <td>6.0</td>\n      <td>6.0</td>\n      <td>6.0</td>\n      <td>6.0</td>\n      <td>6.0</td>\n      <td>6.0</td>\n      <td>6.0</td>\n      <td>Monogamous</td>\n      <td>49</td>\n    </tr>\n  </tbody>\n</table>\n<p>5 rows × 102 columns</p>\n</div>"
     },
     "metadata": {},
     "execution_count": 47
    }
   ],
   "source": [
    "data.tail()"
   ]
  },
  {
   "cell_type": "code",
   "execution_count": 48,
   "metadata": {},
   "outputs": [],
   "source": [
    "data['Relationship score'] = data['Relationship[Respect]'] + data['Relationship[Vulnerability]'] + data['Relationship[Trust]'] + data['Relationship[Honesty]'] + data['Relationship[Kindness]'] + data['Relationship[Boundaries]'] + data['Relationship[Commitment]'] + data['Relationship[Thoughtfulness]'] + data['Relationship[Forgiveness]'] + data['Relationship[Gentleness]'] + data['Relationship[Affection]'] + data['Relationship[Appreciation]'] + data['Relationship[Validation]'] + data['Relationship[Freedom]'] + data['Relationship[Alone]']"
   ]
  },
  {
   "cell_type": "code",
   "execution_count": 49,
   "metadata": {},
   "outputs": [],
   "source": [
    "## Gender"
   ]
  },
  {
   "cell_type": "code",
   "execution_count": 50,
   "metadata": {},
   "outputs": [
    {
     "output_type": "execute_result",
     "data": {
      "text/plain": [
       "array(['Male', 'Female'], dtype=object)"
      ]
     },
     "metadata": {},
     "execution_count": 50
    }
   ],
   "source": [
    "data['Gender'].unique() ## see our options"
   ]
  },
  {
   "cell_type": "code",
   "execution_count": 51,
   "metadata": {},
   "outputs": [
    {
     "output_type": "execute_result",
     "data": {
      "text/plain": [
       "  Age  Gender Sexual orientation       School        Religion  \\\n",
       "0  28    Male       Heterosexual     Bachelor         Atheist   \n",
       "1  31    Male       Heterosexual  High school       Christian   \n",
       "2  27  Female       Heterosexual       Master       Christian   \n",
       "3  28    Male       Heterosexual       Master         Atheist   \n",
       "4  27    Male       Heterosexual     Bachelor  Pastafarianism   \n",
       "\n",
       "              Income  Personal[Sincerity]  Personal[Loyalty]  \\\n",
       "0  1600 - 2000 euros                    6                  7   \n",
       "1  1000 - 1300 euros                    7                  7   \n",
       "2  1000 - 1300 euros                    6                  8   \n",
       "3  1600 - 2000 euros                    8                  8   \n",
       "4   800 - 1000 euros                    6                  7   \n",
       "\n",
       "   Personal[Self-confidence]  Personal[Braveness]  ...  \\\n",
       "0                          4                    5  ...   \n",
       "1                          4                    5  ...   \n",
       "2                          4                    6  ...   \n",
       "3                          8                    8  ...   \n",
       "4                          5                    5  ...   \n",
       "\n",
       "   Relationship[Gentleness]  Relationship[Affection]  \\\n",
       "0                       6.0                      5.0   \n",
       "1                       NaN                      NaN   \n",
       "2                       6.0                      6.0   \n",
       "3                       6.0                      6.0   \n",
       "4                       NaN                      NaN   \n",
       "\n",
       "   Relationship[Appreciation]  Relationship[Validation]  \\\n",
       "0                         5.0                       4.0   \n",
       "1                         NaN                       NaN   \n",
       "2                         6.0                       6.0   \n",
       "3                         6.0                       6.0   \n",
       "4                         NaN                       NaN   \n",
       "\n",
       "   Relationship[Freedom]  Relationship[Alone]  Relationship type  ID  \\\n",
       "0                    5.0                  5.0         Monogamous   0   \n",
       "1                    NaN                  NaN                NaN   1   \n",
       "2                    6.0                  6.0         Monogamous   2   \n",
       "3                    6.0                  4.0         Monogamous   3   \n",
       "4                    NaN                  NaN                NaN   4   \n",
       "\n",
       "   Relationship score  Gender_nm  \n",
       "0                77.0          0  \n",
       "1                 NaN          0  \n",
       "2                88.0          1  \n",
       "3                88.0          0  \n",
       "4                 NaN          0  \n",
       "\n",
       "[5 rows x 104 columns]"
      ],
      "text/html": "<div>\n<style scoped>\n    .dataframe tbody tr th:only-of-type {\n        vertical-align: middle;\n    }\n\n    .dataframe tbody tr th {\n        vertical-align: top;\n    }\n\n    .dataframe thead th {\n        text-align: right;\n    }\n</style>\n<table border=\"1\" class=\"dataframe\">\n  <thead>\n    <tr style=\"text-align: right;\">\n      <th></th>\n      <th>Age</th>\n      <th>Gender</th>\n      <th>Sexual orientation</th>\n      <th>School</th>\n      <th>Religion</th>\n      <th>Income</th>\n      <th>Personal[Sincerity]</th>\n      <th>Personal[Loyalty]</th>\n      <th>Personal[Self-confidence]</th>\n      <th>Personal[Braveness]</th>\n      <th>...</th>\n      <th>Relationship[Gentleness]</th>\n      <th>Relationship[Affection]</th>\n      <th>Relationship[Appreciation]</th>\n      <th>Relationship[Validation]</th>\n      <th>Relationship[Freedom]</th>\n      <th>Relationship[Alone]</th>\n      <th>Relationship type</th>\n      <th>ID</th>\n      <th>Relationship score</th>\n      <th>Gender_nm</th>\n    </tr>\n  </thead>\n  <tbody>\n    <tr>\n      <th>0</th>\n      <td>28</td>\n      <td>Male</td>\n      <td>Heterosexual</td>\n      <td>Bachelor</td>\n      <td>Atheist</td>\n      <td>1600 - 2000 euros</td>\n      <td>6</td>\n      <td>7</td>\n      <td>4</td>\n      <td>5</td>\n      <td>...</td>\n      <td>6.0</td>\n      <td>5.0</td>\n      <td>5.0</td>\n      <td>4.0</td>\n      <td>5.0</td>\n      <td>5.0</td>\n      <td>Monogamous</td>\n      <td>0</td>\n      <td>77.0</td>\n      <td>0</td>\n    </tr>\n    <tr>\n      <th>1</th>\n      <td>31</td>\n      <td>Male</td>\n      <td>Heterosexual</td>\n      <td>High school</td>\n      <td>Christian</td>\n      <td>1000 - 1300 euros</td>\n      <td>7</td>\n      <td>7</td>\n      <td>4</td>\n      <td>5</td>\n      <td>...</td>\n      <td>NaN</td>\n      <td>NaN</td>\n      <td>NaN</td>\n      <td>NaN</td>\n      <td>NaN</td>\n      <td>NaN</td>\n      <td>NaN</td>\n      <td>1</td>\n      <td>NaN</td>\n      <td>0</td>\n    </tr>\n    <tr>\n      <th>2</th>\n      <td>27</td>\n      <td>Female</td>\n      <td>Heterosexual</td>\n      <td>Master</td>\n      <td>Christian</td>\n      <td>1000 - 1300 euros</td>\n      <td>6</td>\n      <td>8</td>\n      <td>4</td>\n      <td>6</td>\n      <td>...</td>\n      <td>6.0</td>\n      <td>6.0</td>\n      <td>6.0</td>\n      <td>6.0</td>\n      <td>6.0</td>\n      <td>6.0</td>\n      <td>Monogamous</td>\n      <td>2</td>\n      <td>88.0</td>\n      <td>1</td>\n    </tr>\n    <tr>\n      <th>3</th>\n      <td>28</td>\n      <td>Male</td>\n      <td>Heterosexual</td>\n      <td>Master</td>\n      <td>Atheist</td>\n      <td>1600 - 2000 euros</td>\n      <td>8</td>\n      <td>8</td>\n      <td>8</td>\n      <td>8</td>\n      <td>...</td>\n      <td>6.0</td>\n      <td>6.0</td>\n      <td>6.0</td>\n      <td>6.0</td>\n      <td>6.0</td>\n      <td>4.0</td>\n      <td>Monogamous</td>\n      <td>3</td>\n      <td>88.0</td>\n      <td>0</td>\n    </tr>\n    <tr>\n      <th>4</th>\n      <td>27</td>\n      <td>Male</td>\n      <td>Heterosexual</td>\n      <td>Bachelor</td>\n      <td>Pastafarianism</td>\n      <td>800 - 1000 euros</td>\n      <td>6</td>\n      <td>7</td>\n      <td>5</td>\n      <td>5</td>\n      <td>...</td>\n      <td>NaN</td>\n      <td>NaN</td>\n      <td>NaN</td>\n      <td>NaN</td>\n      <td>NaN</td>\n      <td>NaN</td>\n      <td>NaN</td>\n      <td>4</td>\n      <td>NaN</td>\n      <td>0</td>\n    </tr>\n  </tbody>\n</table>\n<p>5 rows × 104 columns</p>\n</div>"
     },
     "metadata": {},
     "execution_count": 51
    }
   ],
   "source": [
    "# create a list of our conditions\n",
    "conditions = [\n",
    "    (data['Gender'] == 'Male'),   ## male will be 0\n",
    "    (data['Gender'] == 'Female')]  ## female will be 1\n",
    "\n",
    "# create a list of the values we want to assign for each condition\n",
    "values = [0, 1]\n",
    "\n",
    "# create a new column and use np.select to assign values to it using our lists as arguments\n",
    "data['Gender_nm'] = np.select(conditions, values)\n",
    "\n",
    "# display updated DataFrame\n",
    "data.head()"
   ]
  },
  {
   "cell_type": "code",
   "execution_count": 52,
   "metadata": {},
   "outputs": [],
   "source": [
    "## Sexual orientation"
   ]
  },
  {
   "cell_type": "code",
   "execution_count": 53,
   "metadata": {},
   "outputs": [
    {
     "output_type": "execute_result",
     "data": {
      "text/plain": [
       "array(['Heterosexual', 'Homosexual', 'Prefer not to disclose'],\n",
       "      dtype=object)"
      ]
     },
     "metadata": {},
     "execution_count": 53
    }
   ],
   "source": [
    "data['Sexual orientation'].unique() ## see our options"
   ]
  },
  {
   "cell_type": "code",
   "execution_count": 58,
   "metadata": {},
   "outputs": [
    {
     "output_type": "execute_result",
     "data": {
      "text/plain": [
       "  Age  Gender Sexual orientation       School        Religion  \\\n",
       "0  28    Male       Heterosexual     Bachelor         Atheist   \n",
       "1  31    Male       Heterosexual  High school       Christian   \n",
       "2  27  Female       Heterosexual       Master       Christian   \n",
       "3  28    Male       Heterosexual       Master         Atheist   \n",
       "4  27    Male       Heterosexual     Bachelor  Pastafarianism   \n",
       "\n",
       "              Income  Personal[Sincerity]  Personal[Loyalty]  \\\n",
       "0  1600 - 2000 euros                    6                  7   \n",
       "1  1000 - 1300 euros                    7                  7   \n",
       "2  1000 - 1300 euros                    6                  8   \n",
       "3  1600 - 2000 euros                    8                  8   \n",
       "4   800 - 1000 euros                    6                  7   \n",
       "\n",
       "   Personal[Self-confidence]  Personal[Braveness]  ...  \\\n",
       "0                          4                    5  ...   \n",
       "1                          4                    5  ...   \n",
       "2                          4                    6  ...   \n",
       "3                          8                    8  ...   \n",
       "4                          5                    5  ...   \n",
       "\n",
       "   Relationship[Affection]  Relationship[Appreciation]  \\\n",
       "0                      5.0                         5.0   \n",
       "1                      NaN                         NaN   \n",
       "2                      6.0                         6.0   \n",
       "3                      6.0                         6.0   \n",
       "4                      NaN                         NaN   \n",
       "\n",
       "   Relationship[Validation]  Relationship[Freedom]  Relationship[Alone]  \\\n",
       "0                       4.0                    5.0                  5.0   \n",
       "1                       NaN                    NaN                  NaN   \n",
       "2                       6.0                    6.0                  6.0   \n",
       "3                       6.0                    6.0                  4.0   \n",
       "4                       NaN                    NaN                  NaN   \n",
       "\n",
       "   Relationship type  ID  Relationship score  Gender_nm  Sexual orientation_nm  \n",
       "0         Monogamous   0                77.0          0                      0  \n",
       "1                NaN   1                 NaN          0                      0  \n",
       "2         Monogamous   2                88.0          1                      0  \n",
       "3         Monogamous   3                88.0          0                      0  \n",
       "4                NaN   4                 NaN          0                      0  \n",
       "\n",
       "[5 rows x 105 columns]"
      ],
      "text/html": "<div>\n<style scoped>\n    .dataframe tbody tr th:only-of-type {\n        vertical-align: middle;\n    }\n\n    .dataframe tbody tr th {\n        vertical-align: top;\n    }\n\n    .dataframe thead th {\n        text-align: right;\n    }\n</style>\n<table border=\"1\" class=\"dataframe\">\n  <thead>\n    <tr style=\"text-align: right;\">\n      <th></th>\n      <th>Age</th>\n      <th>Gender</th>\n      <th>Sexual orientation</th>\n      <th>School</th>\n      <th>Religion</th>\n      <th>Income</th>\n      <th>Personal[Sincerity]</th>\n      <th>Personal[Loyalty]</th>\n      <th>Personal[Self-confidence]</th>\n      <th>Personal[Braveness]</th>\n      <th>...</th>\n      <th>Relationship[Affection]</th>\n      <th>Relationship[Appreciation]</th>\n      <th>Relationship[Validation]</th>\n      <th>Relationship[Freedom]</th>\n      <th>Relationship[Alone]</th>\n      <th>Relationship type</th>\n      <th>ID</th>\n      <th>Relationship score</th>\n      <th>Gender_nm</th>\n      <th>Sexual orientation_nm</th>\n    </tr>\n  </thead>\n  <tbody>\n    <tr>\n      <th>0</th>\n      <td>28</td>\n      <td>Male</td>\n      <td>Heterosexual</td>\n      <td>Bachelor</td>\n      <td>Atheist</td>\n      <td>1600 - 2000 euros</td>\n      <td>6</td>\n      <td>7</td>\n      <td>4</td>\n      <td>5</td>\n      <td>...</td>\n      <td>5.0</td>\n      <td>5.0</td>\n      <td>4.0</td>\n      <td>5.0</td>\n      <td>5.0</td>\n      <td>Monogamous</td>\n      <td>0</td>\n      <td>77.0</td>\n      <td>0</td>\n      <td>0</td>\n    </tr>\n    <tr>\n      <th>1</th>\n      <td>31</td>\n      <td>Male</td>\n      <td>Heterosexual</td>\n      <td>High school</td>\n      <td>Christian</td>\n      <td>1000 - 1300 euros</td>\n      <td>7</td>\n      <td>7</td>\n      <td>4</td>\n      <td>5</td>\n      <td>...</td>\n      <td>NaN</td>\n      <td>NaN</td>\n      <td>NaN</td>\n      <td>NaN</td>\n      <td>NaN</td>\n      <td>NaN</td>\n      <td>1</td>\n      <td>NaN</td>\n      <td>0</td>\n      <td>0</td>\n    </tr>\n    <tr>\n      <th>2</th>\n      <td>27</td>\n      <td>Female</td>\n      <td>Heterosexual</td>\n      <td>Master</td>\n      <td>Christian</td>\n      <td>1000 - 1300 euros</td>\n      <td>6</td>\n      <td>8</td>\n      <td>4</td>\n      <td>6</td>\n      <td>...</td>\n      <td>6.0</td>\n      <td>6.0</td>\n      <td>6.0</td>\n      <td>6.0</td>\n      <td>6.0</td>\n      <td>Monogamous</td>\n      <td>2</td>\n      <td>88.0</td>\n      <td>1</td>\n      <td>0</td>\n    </tr>\n    <tr>\n      <th>3</th>\n      <td>28</td>\n      <td>Male</td>\n      <td>Heterosexual</td>\n      <td>Master</td>\n      <td>Atheist</td>\n      <td>1600 - 2000 euros</td>\n      <td>8</td>\n      <td>8</td>\n      <td>8</td>\n      <td>8</td>\n      <td>...</td>\n      <td>6.0</td>\n      <td>6.0</td>\n      <td>6.0</td>\n      <td>6.0</td>\n      <td>4.0</td>\n      <td>Monogamous</td>\n      <td>3</td>\n      <td>88.0</td>\n      <td>0</td>\n      <td>0</td>\n    </tr>\n    <tr>\n      <th>4</th>\n      <td>27</td>\n      <td>Male</td>\n      <td>Heterosexual</td>\n      <td>Bachelor</td>\n      <td>Pastafarianism</td>\n      <td>800 - 1000 euros</td>\n      <td>6</td>\n      <td>7</td>\n      <td>5</td>\n      <td>5</td>\n      <td>...</td>\n      <td>NaN</td>\n      <td>NaN</td>\n      <td>NaN</td>\n      <td>NaN</td>\n      <td>NaN</td>\n      <td>NaN</td>\n      <td>4</td>\n      <td>NaN</td>\n      <td>0</td>\n      <td>0</td>\n    </tr>\n  </tbody>\n</table>\n<p>5 rows × 105 columns</p>\n</div>"
     },
     "metadata": {},
     "execution_count": 58
    }
   ],
   "source": [
    "# create a list of our conditions\n",
    "conditions = [\n",
    "    (data['Sexual orientation'] == 'Heterosexual'),   ## Heterosexual will be 0\n",
    "    (data['Sexual orientation'] == 'Homosexual'),\n",
    "    (data['Sexual orientation'] == 'Prefer not to disclose')]  ## Homosexual will be 1\n",
    "\n",
    "# create a list of the values we want to assign for each condition\n",
    "values = [0, 1, None]\n",
    "\n",
    "# create a new column and use np.select to assign values to it using our lists as arguments\n",
    "data['Sexual orientation_nm'] = np.select(conditions, values)\n",
    "\n",
    "# display updated DataFrame\n",
    "data.head()"
   ]
  },
  {
   "cell_type": "code",
   "execution_count": 60,
   "metadata": {},
   "outputs": [],
   "source": [
    "## School"
   ]
  },
  {
   "cell_type": "code",
   "execution_count": 61,
   "metadata": {},
   "outputs": [
    {
     "output_type": "execute_result",
     "data": {
      "text/plain": [
       "array(['Bachelor', 'High school', 'Master', 'Doctorate'], dtype=object)"
      ]
     },
     "metadata": {},
     "execution_count": 61
    }
   ],
   "source": [
    "data['School'].unique() ## see our options"
   ]
  },
  {
   "cell_type": "code",
   "execution_count": 62,
   "metadata": {},
   "outputs": [
    {
     "output_type": "execute_result",
     "data": {
      "text/plain": [
       "  Age  Gender Sexual orientation       School        Religion  \\\n",
       "0  28    Male       Heterosexual     Bachelor         Atheist   \n",
       "1  31    Male       Heterosexual  High school       Christian   \n",
       "2  27  Female       Heterosexual       Master       Christian   \n",
       "3  28    Male       Heterosexual       Master         Atheist   \n",
       "4  27    Male       Heterosexual     Bachelor  Pastafarianism   \n",
       "\n",
       "              Income  Personal[Sincerity]  Personal[Loyalty]  \\\n",
       "0  1600 - 2000 euros                    6                  7   \n",
       "1  1000 - 1300 euros                    7                  7   \n",
       "2  1000 - 1300 euros                    6                  8   \n",
       "3  1600 - 2000 euros                    8                  8   \n",
       "4   800 - 1000 euros                    6                  7   \n",
       "\n",
       "   Personal[Self-confidence]  Personal[Braveness]  ...  \\\n",
       "0                          4                    5  ...   \n",
       "1                          4                    5  ...   \n",
       "2                          4                    6  ...   \n",
       "3                          8                    8  ...   \n",
       "4                          5                    5  ...   \n",
       "\n",
       "   Relationship[Appreciation]  Relationship[Validation]  \\\n",
       "0                         5.0                       4.0   \n",
       "1                         NaN                       NaN   \n",
       "2                         6.0                       6.0   \n",
       "3                         6.0                       6.0   \n",
       "4                         NaN                       NaN   \n",
       "\n",
       "   Relationship[Freedom]  Relationship[Alone]  Relationship type  ID  \\\n",
       "0                    5.0                  5.0         Monogamous   0   \n",
       "1                    NaN                  NaN                NaN   1   \n",
       "2                    6.0                  6.0         Monogamous   2   \n",
       "3                    6.0                  4.0         Monogamous   3   \n",
       "4                    NaN                  NaN                NaN   4   \n",
       "\n",
       "   Relationship score  Gender_nm  Sexual orientation_nm  School_nm  \n",
       "0                77.0          0                      0          1  \n",
       "1                 NaN          0                      0          0  \n",
       "2                88.0          1                      0          2  \n",
       "3                88.0          0                      0          2  \n",
       "4                 NaN          0                      0          1  \n",
       "\n",
       "[5 rows x 106 columns]"
      ],
      "text/html": "<div>\n<style scoped>\n    .dataframe tbody tr th:only-of-type {\n        vertical-align: middle;\n    }\n\n    .dataframe tbody tr th {\n        vertical-align: top;\n    }\n\n    .dataframe thead th {\n        text-align: right;\n    }\n</style>\n<table border=\"1\" class=\"dataframe\">\n  <thead>\n    <tr style=\"text-align: right;\">\n      <th></th>\n      <th>Age</th>\n      <th>Gender</th>\n      <th>Sexual orientation</th>\n      <th>School</th>\n      <th>Religion</th>\n      <th>Income</th>\n      <th>Personal[Sincerity]</th>\n      <th>Personal[Loyalty]</th>\n      <th>Personal[Self-confidence]</th>\n      <th>Personal[Braveness]</th>\n      <th>...</th>\n      <th>Relationship[Appreciation]</th>\n      <th>Relationship[Validation]</th>\n      <th>Relationship[Freedom]</th>\n      <th>Relationship[Alone]</th>\n      <th>Relationship type</th>\n      <th>ID</th>\n      <th>Relationship score</th>\n      <th>Gender_nm</th>\n      <th>Sexual orientation_nm</th>\n      <th>School_nm</th>\n    </tr>\n  </thead>\n  <tbody>\n    <tr>\n      <th>0</th>\n      <td>28</td>\n      <td>Male</td>\n      <td>Heterosexual</td>\n      <td>Bachelor</td>\n      <td>Atheist</td>\n      <td>1600 - 2000 euros</td>\n      <td>6</td>\n      <td>7</td>\n      <td>4</td>\n      <td>5</td>\n      <td>...</td>\n      <td>5.0</td>\n      <td>4.0</td>\n      <td>5.0</td>\n      <td>5.0</td>\n      <td>Monogamous</td>\n      <td>0</td>\n      <td>77.0</td>\n      <td>0</td>\n      <td>0</td>\n      <td>1</td>\n    </tr>\n    <tr>\n      <th>1</th>\n      <td>31</td>\n      <td>Male</td>\n      <td>Heterosexual</td>\n      <td>High school</td>\n      <td>Christian</td>\n      <td>1000 - 1300 euros</td>\n      <td>7</td>\n      <td>7</td>\n      <td>4</td>\n      <td>5</td>\n      <td>...</td>\n      <td>NaN</td>\n      <td>NaN</td>\n      <td>NaN</td>\n      <td>NaN</td>\n      <td>NaN</td>\n      <td>1</td>\n      <td>NaN</td>\n      <td>0</td>\n      <td>0</td>\n      <td>0</td>\n    </tr>\n    <tr>\n      <th>2</th>\n      <td>27</td>\n      <td>Female</td>\n      <td>Heterosexual</td>\n      <td>Master</td>\n      <td>Christian</td>\n      <td>1000 - 1300 euros</td>\n      <td>6</td>\n      <td>8</td>\n      <td>4</td>\n      <td>6</td>\n      <td>...</td>\n      <td>6.0</td>\n      <td>6.0</td>\n      <td>6.0</td>\n      <td>6.0</td>\n      <td>Monogamous</td>\n      <td>2</td>\n      <td>88.0</td>\n      <td>1</td>\n      <td>0</td>\n      <td>2</td>\n    </tr>\n    <tr>\n      <th>3</th>\n      <td>28</td>\n      <td>Male</td>\n      <td>Heterosexual</td>\n      <td>Master</td>\n      <td>Atheist</td>\n      <td>1600 - 2000 euros</td>\n      <td>8</td>\n      <td>8</td>\n      <td>8</td>\n      <td>8</td>\n      <td>...</td>\n      <td>6.0</td>\n      <td>6.0</td>\n      <td>6.0</td>\n      <td>4.0</td>\n      <td>Monogamous</td>\n      <td>3</td>\n      <td>88.0</td>\n      <td>0</td>\n      <td>0</td>\n      <td>2</td>\n    </tr>\n    <tr>\n      <th>4</th>\n      <td>27</td>\n      <td>Male</td>\n      <td>Heterosexual</td>\n      <td>Bachelor</td>\n      <td>Pastafarianism</td>\n      <td>800 - 1000 euros</td>\n      <td>6</td>\n      <td>7</td>\n      <td>5</td>\n      <td>5</td>\n      <td>...</td>\n      <td>NaN</td>\n      <td>NaN</td>\n      <td>NaN</td>\n      <td>NaN</td>\n      <td>NaN</td>\n      <td>4</td>\n      <td>NaN</td>\n      <td>0</td>\n      <td>0</td>\n      <td>1</td>\n    </tr>\n  </tbody>\n</table>\n<p>5 rows × 106 columns</p>\n</div>"
     },
     "metadata": {},
     "execution_count": 62
    }
   ],
   "source": [
    "# create a list of our conditions\n",
    "conditions = [\n",
    "    (data['School'] == 'High school'),   ## High school will be 0\n",
    "    (data['School'] == 'Bachelor'),\n",
    "    (data['School'] == 'Master'),\n",
    "    (data['School'] == 'Doctorate')]  ## Doctorate will be 3\n",
    "\n",
    "# create a list of the values we want to assign for each condition\n",
    "values = [0, 1, 2, 3]\n",
    "\n",
    "# create a new column and use np.select to assign values to it using our lists as arguments\n",
    "data['School_nm'] = np.select(conditions, values)\n",
    "\n",
    "# display updated DataFrame\n",
    "data.head()"
   ]
  },
  {
   "cell_type": "code",
   "execution_count": 63,
   "metadata": {},
   "outputs": [],
   "source": [
    "## Income"
   ]
  },
  {
   "cell_type": "code",
   "execution_count": 64,
   "metadata": {},
   "outputs": [
    {
     "output_type": "execute_result",
     "data": {
      "text/plain": [
       "array(['1600 - 2000 euros', '1000 - 1300 euros', '800 - 1000 euros',\n",
       "       'More than 3000 euros', '1300 - 1600 euros', 'Less than 800 euros',\n",
       "       '2000 - 3000 euros'], dtype=object)"
      ]
     },
     "metadata": {},
     "execution_count": 64
    }
   ],
   "source": [
    "data['Income'].unique() ## see our options"
   ]
  },
  {
   "cell_type": "code",
   "execution_count": 66,
   "metadata": {},
   "outputs": [
    {
     "output_type": "execute_result",
     "data": {
      "text/plain": [
       "  Age  Gender Sexual orientation       School        Religion  \\\n",
       "0  28    Male       Heterosexual     Bachelor         Atheist   \n",
       "1  31    Male       Heterosexual  High school       Christian   \n",
       "2  27  Female       Heterosexual       Master       Christian   \n",
       "3  28    Male       Heterosexual       Master         Atheist   \n",
       "4  27    Male       Heterosexual     Bachelor  Pastafarianism   \n",
       "\n",
       "              Income  Personal[Sincerity]  Personal[Loyalty]  \\\n",
       "0  1600 - 2000 euros                    6                  7   \n",
       "1  1000 - 1300 euros                    7                  7   \n",
       "2  1000 - 1300 euros                    6                  8   \n",
       "3  1600 - 2000 euros                    8                  8   \n",
       "4   800 - 1000 euros                    6                  7   \n",
       "\n",
       "   Personal[Self-confidence]  Personal[Braveness]  ...  \\\n",
       "0                          4                    5  ...   \n",
       "1                          4                    5  ...   \n",
       "2                          4                    6  ...   \n",
       "3                          8                    8  ...   \n",
       "4                          5                    5  ...   \n",
       "\n",
       "   Relationship[Validation]  Relationship[Freedom]  Relationship[Alone]  \\\n",
       "0                       4.0                    5.0                  5.0   \n",
       "1                       NaN                    NaN                  NaN   \n",
       "2                       6.0                    6.0                  6.0   \n",
       "3                       6.0                    6.0                  4.0   \n",
       "4                       NaN                    NaN                  NaN   \n",
       "\n",
       "   Relationship type  ID  Relationship score  Gender_nm  \\\n",
       "0         Monogamous   0                77.0          0   \n",
       "1                NaN   1                 NaN          0   \n",
       "2         Monogamous   2                88.0          1   \n",
       "3         Monogamous   3                88.0          0   \n",
       "4                NaN   4                 NaN          0   \n",
       "\n",
       "   Sexual orientation_nm  School_nm  Income_nm  \n",
       "0                      0          1          4  \n",
       "1                      0          0          2  \n",
       "2                      0          2          2  \n",
       "3                      0          2          4  \n",
       "4                      0          1          1  \n",
       "\n",
       "[5 rows x 107 columns]"
      ],
      "text/html": "<div>\n<style scoped>\n    .dataframe tbody tr th:only-of-type {\n        vertical-align: middle;\n    }\n\n    .dataframe tbody tr th {\n        vertical-align: top;\n    }\n\n    .dataframe thead th {\n        text-align: right;\n    }\n</style>\n<table border=\"1\" class=\"dataframe\">\n  <thead>\n    <tr style=\"text-align: right;\">\n      <th></th>\n      <th>Age</th>\n      <th>Gender</th>\n      <th>Sexual orientation</th>\n      <th>School</th>\n      <th>Religion</th>\n      <th>Income</th>\n      <th>Personal[Sincerity]</th>\n      <th>Personal[Loyalty]</th>\n      <th>Personal[Self-confidence]</th>\n      <th>Personal[Braveness]</th>\n      <th>...</th>\n      <th>Relationship[Validation]</th>\n      <th>Relationship[Freedom]</th>\n      <th>Relationship[Alone]</th>\n      <th>Relationship type</th>\n      <th>ID</th>\n      <th>Relationship score</th>\n      <th>Gender_nm</th>\n      <th>Sexual orientation_nm</th>\n      <th>School_nm</th>\n      <th>Income_nm</th>\n    </tr>\n  </thead>\n  <tbody>\n    <tr>\n      <th>0</th>\n      <td>28</td>\n      <td>Male</td>\n      <td>Heterosexual</td>\n      <td>Bachelor</td>\n      <td>Atheist</td>\n      <td>1600 - 2000 euros</td>\n      <td>6</td>\n      <td>7</td>\n      <td>4</td>\n      <td>5</td>\n      <td>...</td>\n      <td>4.0</td>\n      <td>5.0</td>\n      <td>5.0</td>\n      <td>Monogamous</td>\n      <td>0</td>\n      <td>77.0</td>\n      <td>0</td>\n      <td>0</td>\n      <td>1</td>\n      <td>4</td>\n    </tr>\n    <tr>\n      <th>1</th>\n      <td>31</td>\n      <td>Male</td>\n      <td>Heterosexual</td>\n      <td>High school</td>\n      <td>Christian</td>\n      <td>1000 - 1300 euros</td>\n      <td>7</td>\n      <td>7</td>\n      <td>4</td>\n      <td>5</td>\n      <td>...</td>\n      <td>NaN</td>\n      <td>NaN</td>\n      <td>NaN</td>\n      <td>NaN</td>\n      <td>1</td>\n      <td>NaN</td>\n      <td>0</td>\n      <td>0</td>\n      <td>0</td>\n      <td>2</td>\n    </tr>\n    <tr>\n      <th>2</th>\n      <td>27</td>\n      <td>Female</td>\n      <td>Heterosexual</td>\n      <td>Master</td>\n      <td>Christian</td>\n      <td>1000 - 1300 euros</td>\n      <td>6</td>\n      <td>8</td>\n      <td>4</td>\n      <td>6</td>\n      <td>...</td>\n      <td>6.0</td>\n      <td>6.0</td>\n      <td>6.0</td>\n      <td>Monogamous</td>\n      <td>2</td>\n      <td>88.0</td>\n      <td>1</td>\n      <td>0</td>\n      <td>2</td>\n      <td>2</td>\n    </tr>\n    <tr>\n      <th>3</th>\n      <td>28</td>\n      <td>Male</td>\n      <td>Heterosexual</td>\n      <td>Master</td>\n      <td>Atheist</td>\n      <td>1600 - 2000 euros</td>\n      <td>8</td>\n      <td>8</td>\n      <td>8</td>\n      <td>8</td>\n      <td>...</td>\n      <td>6.0</td>\n      <td>6.0</td>\n      <td>4.0</td>\n      <td>Monogamous</td>\n      <td>3</td>\n      <td>88.0</td>\n      <td>0</td>\n      <td>0</td>\n      <td>2</td>\n      <td>4</td>\n    </tr>\n    <tr>\n      <th>4</th>\n      <td>27</td>\n      <td>Male</td>\n      <td>Heterosexual</td>\n      <td>Bachelor</td>\n      <td>Pastafarianism</td>\n      <td>800 - 1000 euros</td>\n      <td>6</td>\n      <td>7</td>\n      <td>5</td>\n      <td>5</td>\n      <td>...</td>\n      <td>NaN</td>\n      <td>NaN</td>\n      <td>NaN</td>\n      <td>NaN</td>\n      <td>4</td>\n      <td>NaN</td>\n      <td>0</td>\n      <td>0</td>\n      <td>1</td>\n      <td>1</td>\n    </tr>\n  </tbody>\n</table>\n<p>5 rows × 107 columns</p>\n</div>"
     },
     "metadata": {},
     "execution_count": 66
    }
   ],
   "source": [
    "# create a list of our conditions\n",
    "conditions = [\n",
    "    (data['Income'] == 'Less than 800 euros'),   ## Less than 800 euros will be 0\n",
    "    (data['Income'] == '800 - 1000 euros'),\n",
    "    (data['Income'] == '1000 - 1300 euros'),\n",
    "    (data['Income'] == '1300 - 1600 euros'),\n",
    "    (data['Income'] == '1600 - 2000 euros'),\n",
    "    (data['Income'] == '2000 - 3000 euros'),\n",
    "    (data['Income'] == 'More than 3000 euros')]  ## More than 3000 euros will be 6\n",
    "\n",
    "# create a list of the values we want to assign for each condition\n",
    "values = [0, 1, 2, 3, 4, 5, 6]\n",
    "\n",
    "# create a new column and use np.select to assign values to it using our lists as arguments\n",
    "data['Income_nm'] = np.select(conditions, values)\n",
    "\n",
    "# display updated DataFrame\n",
    "data.head()"
   ]
  },
  {
   "cell_type": "code",
   "execution_count": null,
   "metadata": {},
   "outputs": [],
   "source": [
    "## Relationship"
   ]
  },
  {
   "cell_type": "code",
   "execution_count": 67,
   "metadata": {},
   "outputs": [
    {
     "output_type": "execute_result",
     "data": {
      "text/plain": [
       "array(['Yes', 'No'], dtype=object)"
      ]
     },
     "metadata": {},
     "execution_count": 67
    }
   ],
   "source": [
    "data['Relationship'].unique() ## see our options"
   ]
  },
  {
   "cell_type": "code",
   "execution_count": 68,
   "metadata": {},
   "outputs": [
    {
     "output_type": "execute_result",
     "data": {
      "text/plain": [
       "  Age  Gender Sexual orientation       School        Religion  \\\n",
       "0  28    Male       Heterosexual     Bachelor         Atheist   \n",
       "1  31    Male       Heterosexual  High school       Christian   \n",
       "2  27  Female       Heterosexual       Master       Christian   \n",
       "3  28    Male       Heterosexual       Master         Atheist   \n",
       "4  27    Male       Heterosexual     Bachelor  Pastafarianism   \n",
       "\n",
       "              Income  Personal[Sincerity]  Personal[Loyalty]  \\\n",
       "0  1600 - 2000 euros                    6                  7   \n",
       "1  1000 - 1300 euros                    7                  7   \n",
       "2  1000 - 1300 euros                    6                  8   \n",
       "3  1600 - 2000 euros                    8                  8   \n",
       "4   800 - 1000 euros                    6                  7   \n",
       "\n",
       "   Personal[Self-confidence]  Personal[Braveness]  ...  Relationship[Freedom]  \\\n",
       "0                          4                    5  ...                    5.0   \n",
       "1                          4                    5  ...                    NaN   \n",
       "2                          4                    6  ...                    6.0   \n",
       "3                          8                    8  ...                    6.0   \n",
       "4                          5                    5  ...                    NaN   \n",
       "\n",
       "   Relationship[Alone]  Relationship type  ID  Relationship score  Gender_nm  \\\n",
       "0                  5.0         Monogamous   0                77.0          0   \n",
       "1                  NaN                NaN   1                 NaN          0   \n",
       "2                  6.0         Monogamous   2                88.0          1   \n",
       "3                  4.0         Monogamous   3                88.0          0   \n",
       "4                  NaN                NaN   4                 NaN          0   \n",
       "\n",
       "   Sexual orientation_nm  School_nm  Income_nm  Relationship_nm  \n",
       "0                      0          1          4                1  \n",
       "1                      0          0          2                0  \n",
       "2                      0          2          2                1  \n",
       "3                      0          2          4                1  \n",
       "4                      0          1          1                0  \n",
       "\n",
       "[5 rows x 108 columns]"
      ],
      "text/html": "<div>\n<style scoped>\n    .dataframe tbody tr th:only-of-type {\n        vertical-align: middle;\n    }\n\n    .dataframe tbody tr th {\n        vertical-align: top;\n    }\n\n    .dataframe thead th {\n        text-align: right;\n    }\n</style>\n<table border=\"1\" class=\"dataframe\">\n  <thead>\n    <tr style=\"text-align: right;\">\n      <th></th>\n      <th>Age</th>\n      <th>Gender</th>\n      <th>Sexual orientation</th>\n      <th>School</th>\n      <th>Religion</th>\n      <th>Income</th>\n      <th>Personal[Sincerity]</th>\n      <th>Personal[Loyalty]</th>\n      <th>Personal[Self-confidence]</th>\n      <th>Personal[Braveness]</th>\n      <th>...</th>\n      <th>Relationship[Freedom]</th>\n      <th>Relationship[Alone]</th>\n      <th>Relationship type</th>\n      <th>ID</th>\n      <th>Relationship score</th>\n      <th>Gender_nm</th>\n      <th>Sexual orientation_nm</th>\n      <th>School_nm</th>\n      <th>Income_nm</th>\n      <th>Relationship_nm</th>\n    </tr>\n  </thead>\n  <tbody>\n    <tr>\n      <th>0</th>\n      <td>28</td>\n      <td>Male</td>\n      <td>Heterosexual</td>\n      <td>Bachelor</td>\n      <td>Atheist</td>\n      <td>1600 - 2000 euros</td>\n      <td>6</td>\n      <td>7</td>\n      <td>4</td>\n      <td>5</td>\n      <td>...</td>\n      <td>5.0</td>\n      <td>5.0</td>\n      <td>Monogamous</td>\n      <td>0</td>\n      <td>77.0</td>\n      <td>0</td>\n      <td>0</td>\n      <td>1</td>\n      <td>4</td>\n      <td>1</td>\n    </tr>\n    <tr>\n      <th>1</th>\n      <td>31</td>\n      <td>Male</td>\n      <td>Heterosexual</td>\n      <td>High school</td>\n      <td>Christian</td>\n      <td>1000 - 1300 euros</td>\n      <td>7</td>\n      <td>7</td>\n      <td>4</td>\n      <td>5</td>\n      <td>...</td>\n      <td>NaN</td>\n      <td>NaN</td>\n      <td>NaN</td>\n      <td>1</td>\n      <td>NaN</td>\n      <td>0</td>\n      <td>0</td>\n      <td>0</td>\n      <td>2</td>\n      <td>0</td>\n    </tr>\n    <tr>\n      <th>2</th>\n      <td>27</td>\n      <td>Female</td>\n      <td>Heterosexual</td>\n      <td>Master</td>\n      <td>Christian</td>\n      <td>1000 - 1300 euros</td>\n      <td>6</td>\n      <td>8</td>\n      <td>4</td>\n      <td>6</td>\n      <td>...</td>\n      <td>6.0</td>\n      <td>6.0</td>\n      <td>Monogamous</td>\n      <td>2</td>\n      <td>88.0</td>\n      <td>1</td>\n      <td>0</td>\n      <td>2</td>\n      <td>2</td>\n      <td>1</td>\n    </tr>\n    <tr>\n      <th>3</th>\n      <td>28</td>\n      <td>Male</td>\n      <td>Heterosexual</td>\n      <td>Master</td>\n      <td>Atheist</td>\n      <td>1600 - 2000 euros</td>\n      <td>8</td>\n      <td>8</td>\n      <td>8</td>\n      <td>8</td>\n      <td>...</td>\n      <td>6.0</td>\n      <td>4.0</td>\n      <td>Monogamous</td>\n      <td>3</td>\n      <td>88.0</td>\n      <td>0</td>\n      <td>0</td>\n      <td>2</td>\n      <td>4</td>\n      <td>1</td>\n    </tr>\n    <tr>\n      <th>4</th>\n      <td>27</td>\n      <td>Male</td>\n      <td>Heterosexual</td>\n      <td>Bachelor</td>\n      <td>Pastafarianism</td>\n      <td>800 - 1000 euros</td>\n      <td>6</td>\n      <td>7</td>\n      <td>5</td>\n      <td>5</td>\n      <td>...</td>\n      <td>NaN</td>\n      <td>NaN</td>\n      <td>NaN</td>\n      <td>4</td>\n      <td>NaN</td>\n      <td>0</td>\n      <td>0</td>\n      <td>1</td>\n      <td>1</td>\n      <td>0</td>\n    </tr>\n  </tbody>\n</table>\n<p>5 rows × 108 columns</p>\n</div>"
     },
     "metadata": {},
     "execution_count": 68
    }
   ],
   "source": [
    "# create a list of our conditions\n",
    "conditions = [\n",
    "    (data['Relationship'] == 'Yes'),   ## Yes will be 1\n",
    "    (data['Relationship'] == 'No')]  ## No will be 0\n",
    "\n",
    "# create a list of the values we want to assign for each condition\n",
    "values = [1, 0]\n",
    "\n",
    "# create a new column and use np.select to assign values to it using our lists as arguments\n",
    "data['Relationship_nm'] = np.select(conditions, values)\n",
    "\n",
    "# display updated DataFrame\n",
    "data.head()"
   ]
  },
  {
   "cell_type": "code",
   "execution_count": null,
   "metadata": {},
   "outputs": [],
   "source": [
    "## Kids"
   ]
  },
  {
   "cell_type": "code",
   "execution_count": 69,
   "metadata": {},
   "outputs": [
    {
     "output_type": "execute_result",
     "data": {
      "text/plain": [
       "array(['No', nan, 'Yes'], dtype=object)"
      ]
     },
     "metadata": {},
     "execution_count": 69
    }
   ],
   "source": [
    "data['Kids'].unique() ## see our options"
   ]
  },
  {
   "cell_type": "code",
   "execution_count": 70,
   "metadata": {},
   "outputs": [
    {
     "output_type": "execute_result",
     "data": {
      "text/plain": [
       "  Age  Gender Sexual orientation       School        Religion  \\\n",
       "0  28    Male       Heterosexual     Bachelor         Atheist   \n",
       "1  31    Male       Heterosexual  High school       Christian   \n",
       "2  27  Female       Heterosexual       Master       Christian   \n",
       "3  28    Male       Heterosexual       Master         Atheist   \n",
       "4  27    Male       Heterosexual     Bachelor  Pastafarianism   \n",
       "\n",
       "              Income  Personal[Sincerity]  Personal[Loyalty]  \\\n",
       "0  1600 - 2000 euros                    6                  7   \n",
       "1  1000 - 1300 euros                    7                  7   \n",
       "2  1000 - 1300 euros                    6                  8   \n",
       "3  1600 - 2000 euros                    8                  8   \n",
       "4   800 - 1000 euros                    6                  7   \n",
       "\n",
       "   Personal[Self-confidence]  Personal[Braveness]  ...  Relationship[Alone]  \\\n",
       "0                          4                    5  ...                  5.0   \n",
       "1                          4                    5  ...                  NaN   \n",
       "2                          4                    6  ...                  6.0   \n",
       "3                          8                    8  ...                  4.0   \n",
       "4                          5                    5  ...                  NaN   \n",
       "\n",
       "   Relationship type  ID  Relationship score  Gender_nm  \\\n",
       "0         Monogamous   0                77.0          0   \n",
       "1                NaN   1                 NaN          0   \n",
       "2         Monogamous   2                88.0          1   \n",
       "3         Monogamous   3                88.0          0   \n",
       "4                NaN   4                 NaN          0   \n",
       "\n",
       "   Sexual orientation_nm  School_nm  Income_nm  Relationship_nm  Kids_nm  \n",
       "0                      0          1          4                1        0  \n",
       "1                      0          0          2                0        0  \n",
       "2                      0          2          2                1        0  \n",
       "3                      0          2          4                1        0  \n",
       "4                      0          1          1                0        0  \n",
       "\n",
       "[5 rows x 109 columns]"
      ],
      "text/html": "<div>\n<style scoped>\n    .dataframe tbody tr th:only-of-type {\n        vertical-align: middle;\n    }\n\n    .dataframe tbody tr th {\n        vertical-align: top;\n    }\n\n    .dataframe thead th {\n        text-align: right;\n    }\n</style>\n<table border=\"1\" class=\"dataframe\">\n  <thead>\n    <tr style=\"text-align: right;\">\n      <th></th>\n      <th>Age</th>\n      <th>Gender</th>\n      <th>Sexual orientation</th>\n      <th>School</th>\n      <th>Religion</th>\n      <th>Income</th>\n      <th>Personal[Sincerity]</th>\n      <th>Personal[Loyalty]</th>\n      <th>Personal[Self-confidence]</th>\n      <th>Personal[Braveness]</th>\n      <th>...</th>\n      <th>Relationship[Alone]</th>\n      <th>Relationship type</th>\n      <th>ID</th>\n      <th>Relationship score</th>\n      <th>Gender_nm</th>\n      <th>Sexual orientation_nm</th>\n      <th>School_nm</th>\n      <th>Income_nm</th>\n      <th>Relationship_nm</th>\n      <th>Kids_nm</th>\n    </tr>\n  </thead>\n  <tbody>\n    <tr>\n      <th>0</th>\n      <td>28</td>\n      <td>Male</td>\n      <td>Heterosexual</td>\n      <td>Bachelor</td>\n      <td>Atheist</td>\n      <td>1600 - 2000 euros</td>\n      <td>6</td>\n      <td>7</td>\n      <td>4</td>\n      <td>5</td>\n      <td>...</td>\n      <td>5.0</td>\n      <td>Monogamous</td>\n      <td>0</td>\n      <td>77.0</td>\n      <td>0</td>\n      <td>0</td>\n      <td>1</td>\n      <td>4</td>\n      <td>1</td>\n      <td>0</td>\n    </tr>\n    <tr>\n      <th>1</th>\n      <td>31</td>\n      <td>Male</td>\n      <td>Heterosexual</td>\n      <td>High school</td>\n      <td>Christian</td>\n      <td>1000 - 1300 euros</td>\n      <td>7</td>\n      <td>7</td>\n      <td>4</td>\n      <td>5</td>\n      <td>...</td>\n      <td>NaN</td>\n      <td>NaN</td>\n      <td>1</td>\n      <td>NaN</td>\n      <td>0</td>\n      <td>0</td>\n      <td>0</td>\n      <td>2</td>\n      <td>0</td>\n      <td>0</td>\n    </tr>\n    <tr>\n      <th>2</th>\n      <td>27</td>\n      <td>Female</td>\n      <td>Heterosexual</td>\n      <td>Master</td>\n      <td>Christian</td>\n      <td>1000 - 1300 euros</td>\n      <td>6</td>\n      <td>8</td>\n      <td>4</td>\n      <td>6</td>\n      <td>...</td>\n      <td>6.0</td>\n      <td>Monogamous</td>\n      <td>2</td>\n      <td>88.0</td>\n      <td>1</td>\n      <td>0</td>\n      <td>2</td>\n      <td>2</td>\n      <td>1</td>\n      <td>0</td>\n    </tr>\n    <tr>\n      <th>3</th>\n      <td>28</td>\n      <td>Male</td>\n      <td>Heterosexual</td>\n      <td>Master</td>\n      <td>Atheist</td>\n      <td>1600 - 2000 euros</td>\n      <td>8</td>\n      <td>8</td>\n      <td>8</td>\n      <td>8</td>\n      <td>...</td>\n      <td>4.0</td>\n      <td>Monogamous</td>\n      <td>3</td>\n      <td>88.0</td>\n      <td>0</td>\n      <td>0</td>\n      <td>2</td>\n      <td>4</td>\n      <td>1</td>\n      <td>0</td>\n    </tr>\n    <tr>\n      <th>4</th>\n      <td>27</td>\n      <td>Male</td>\n      <td>Heterosexual</td>\n      <td>Bachelor</td>\n      <td>Pastafarianism</td>\n      <td>800 - 1000 euros</td>\n      <td>6</td>\n      <td>7</td>\n      <td>5</td>\n      <td>5</td>\n      <td>...</td>\n      <td>NaN</td>\n      <td>NaN</td>\n      <td>4</td>\n      <td>NaN</td>\n      <td>0</td>\n      <td>0</td>\n      <td>1</td>\n      <td>1</td>\n      <td>0</td>\n      <td>0</td>\n    </tr>\n  </tbody>\n</table>\n<p>5 rows × 109 columns</p>\n</div>"
     },
     "metadata": {},
     "execution_count": 70
    }
   ],
   "source": [
    "# create a list of our conditions\n",
    "conditions = [\n",
    "    (data['Kids'] == 'Yes'),   ## Yes will be 1\n",
    "    (data['Kids'] == 'No'),\n",
    "    (data['Kids'] == 'nan')]  ## No will be 0\n",
    "\n",
    "# create a list of the values we want to assign for each condition\n",
    "values = [1, 0, None]\n",
    "\n",
    "# create a new column and use np.select to assign values to it using our lists as arguments\n",
    "data['Kids_nm'] = np.select(conditions, values)\n",
    "\n",
    "# display updated DataFrame\n",
    "data.head()"
   ]
  },
  {
   "cell_type": "code",
   "execution_count": null,
   "metadata": {},
   "outputs": [],
   "source": [
    "## Religion"
   ]
  },
  {
   "cell_type": "code",
   "execution_count": 71,
   "metadata": {},
   "outputs": [
    {
     "output_type": "execute_result",
     "data": {
      "text/plain": [
       "array(['Atheist', 'Christian', 'Pastafarianism', 'Agnostic', 'Don’t know',\n",
       "       'Muslim'], dtype=object)"
      ]
     },
     "metadata": {},
     "execution_count": 71
    }
   ],
   "source": [
    "data['Religion'].unique() ## see our options"
   ]
  },
  {
   "cell_type": "code",
   "execution_count": 72,
   "metadata": {},
   "outputs": [
    {
     "output_type": "execute_result",
     "data": {
      "text/plain": [
       "  Age  Gender Sexual orientation       School        Religion  \\\n",
       "0  28    Male       Heterosexual     Bachelor         Atheist   \n",
       "1  31    Male       Heterosexual  High school       Christian   \n",
       "2  27  Female       Heterosexual       Master       Christian   \n",
       "3  28    Male       Heterosexual       Master         Atheist   \n",
       "4  27    Male       Heterosexual     Bachelor  Pastafarianism   \n",
       "\n",
       "              Income  Personal[Sincerity]  Personal[Loyalty]  \\\n",
       "0  1600 - 2000 euros                    6                  7   \n",
       "1  1000 - 1300 euros                    7                  7   \n",
       "2  1000 - 1300 euros                    6                  8   \n",
       "3  1600 - 2000 euros                    8                  8   \n",
       "4   800 - 1000 euros                    6                  7   \n",
       "\n",
       "   Personal[Self-confidence]  Personal[Braveness]  ...  Relationship type  ID  \\\n",
       "0                          4                    5  ...         Monogamous   0   \n",
       "1                          4                    5  ...                NaN   1   \n",
       "2                          4                    6  ...         Monogamous   2   \n",
       "3                          8                    8  ...         Monogamous   3   \n",
       "4                          5                    5  ...                NaN   4   \n",
       "\n",
       "   Relationship score  Gender_nm  Sexual orientation_nm  School_nm  Income_nm  \\\n",
       "0                77.0          0                      0          1          4   \n",
       "1                 NaN          0                      0          0          2   \n",
       "2                88.0          1                      0          2          2   \n",
       "3                88.0          0                      0          2          4   \n",
       "4                 NaN          0                      0          1          1   \n",
       "\n",
       "   Relationship_nm  Kids_nm  Religion_nm  \n",
       "0                1        0           -1  \n",
       "1                0        0            1  \n",
       "2                1        0            1  \n",
       "3                1        0           -1  \n",
       "4                0        0           -1  \n",
       "\n",
       "[5 rows x 110 columns]"
      ],
      "text/html": "<div>\n<style scoped>\n    .dataframe tbody tr th:only-of-type {\n        vertical-align: middle;\n    }\n\n    .dataframe tbody tr th {\n        vertical-align: top;\n    }\n\n    .dataframe thead th {\n        text-align: right;\n    }\n</style>\n<table border=\"1\" class=\"dataframe\">\n  <thead>\n    <tr style=\"text-align: right;\">\n      <th></th>\n      <th>Age</th>\n      <th>Gender</th>\n      <th>Sexual orientation</th>\n      <th>School</th>\n      <th>Religion</th>\n      <th>Income</th>\n      <th>Personal[Sincerity]</th>\n      <th>Personal[Loyalty]</th>\n      <th>Personal[Self-confidence]</th>\n      <th>Personal[Braveness]</th>\n      <th>...</th>\n      <th>Relationship type</th>\n      <th>ID</th>\n      <th>Relationship score</th>\n      <th>Gender_nm</th>\n      <th>Sexual orientation_nm</th>\n      <th>School_nm</th>\n      <th>Income_nm</th>\n      <th>Relationship_nm</th>\n      <th>Kids_nm</th>\n      <th>Religion_nm</th>\n    </tr>\n  </thead>\n  <tbody>\n    <tr>\n      <th>0</th>\n      <td>28</td>\n      <td>Male</td>\n      <td>Heterosexual</td>\n      <td>Bachelor</td>\n      <td>Atheist</td>\n      <td>1600 - 2000 euros</td>\n      <td>6</td>\n      <td>7</td>\n      <td>4</td>\n      <td>5</td>\n      <td>...</td>\n      <td>Monogamous</td>\n      <td>0</td>\n      <td>77.0</td>\n      <td>0</td>\n      <td>0</td>\n      <td>1</td>\n      <td>4</td>\n      <td>1</td>\n      <td>0</td>\n      <td>-1</td>\n    </tr>\n    <tr>\n      <th>1</th>\n      <td>31</td>\n      <td>Male</td>\n      <td>Heterosexual</td>\n      <td>High school</td>\n      <td>Christian</td>\n      <td>1000 - 1300 euros</td>\n      <td>7</td>\n      <td>7</td>\n      <td>4</td>\n      <td>5</td>\n      <td>...</td>\n      <td>NaN</td>\n      <td>1</td>\n      <td>NaN</td>\n      <td>0</td>\n      <td>0</td>\n      <td>0</td>\n      <td>2</td>\n      <td>0</td>\n      <td>0</td>\n      <td>1</td>\n    </tr>\n    <tr>\n      <th>2</th>\n      <td>27</td>\n      <td>Female</td>\n      <td>Heterosexual</td>\n      <td>Master</td>\n      <td>Christian</td>\n      <td>1000 - 1300 euros</td>\n      <td>6</td>\n      <td>8</td>\n      <td>4</td>\n      <td>6</td>\n      <td>...</td>\n      <td>Monogamous</td>\n      <td>2</td>\n      <td>88.0</td>\n      <td>1</td>\n      <td>0</td>\n      <td>2</td>\n      <td>2</td>\n      <td>1</td>\n      <td>0</td>\n      <td>1</td>\n    </tr>\n    <tr>\n      <th>3</th>\n      <td>28</td>\n      <td>Male</td>\n      <td>Heterosexual</td>\n      <td>Master</td>\n      <td>Atheist</td>\n      <td>1600 - 2000 euros</td>\n      <td>8</td>\n      <td>8</td>\n      <td>8</td>\n      <td>8</td>\n      <td>...</td>\n      <td>Monogamous</td>\n      <td>3</td>\n      <td>88.0</td>\n      <td>0</td>\n      <td>0</td>\n      <td>2</td>\n      <td>4</td>\n      <td>1</td>\n      <td>0</td>\n      <td>-1</td>\n    </tr>\n    <tr>\n      <th>4</th>\n      <td>27</td>\n      <td>Male</td>\n      <td>Heterosexual</td>\n      <td>Bachelor</td>\n      <td>Pastafarianism</td>\n      <td>800 - 1000 euros</td>\n      <td>6</td>\n      <td>7</td>\n      <td>5</td>\n      <td>5</td>\n      <td>...</td>\n      <td>NaN</td>\n      <td>4</td>\n      <td>NaN</td>\n      <td>0</td>\n      <td>0</td>\n      <td>1</td>\n      <td>1</td>\n      <td>0</td>\n      <td>0</td>\n      <td>-1</td>\n    </tr>\n  </tbody>\n</table>\n<p>5 rows × 110 columns</p>\n</div>"
     },
     "metadata": {},
     "execution_count": 72
    }
   ],
   "source": [
    "# create a list of our conditions\n",
    "conditions = [\n",
    "    (data['Religion'] == 'Atheist'),  ## Yes will be -1\n",
    "    (data['Religion'] == 'Christian'),  ## Yes will be 1\n",
    "    (data['Religion'] == 'Pastafarianism'),  ## Yes will be -1\n",
    "    (data['Religion'] == 'Agnostic'),  ## Yes will be 0\n",
    "    (data['Religion'] == 'Don’t know'),  ## Yes will be 0\n",
    "    (data['Religion'] == 'Muslim')]  ## No will be 1\n",
    "\n",
    "# create a list of the values we want to assign for each condition\n",
    "values = [-1, 1, -1, 0, 0, 1]\n",
    "\n",
    "# create a new column and use np.select to assign values to it using our lists as arguments\n",
    "data['Religion_nm'] = np.select(conditions, values)\n",
    "\n",
    "# display updated DataFrame\n",
    "data.head()"
   ]
  },
  {
   "cell_type": "code",
   "execution_count": null,
   "metadata": {},
   "outputs": [],
   "source": []
  },
  {
   "cell_type": "code",
   "execution_count": null,
   "metadata": {},
   "outputs": [],
   "source": []
  },
  {
   "source": [
    "## Export data into a new CSV File"
   ],
   "cell_type": "markdown",
   "metadata": {}
  },
  {
   "cell_type": "code",
   "execution_count": 73,
   "metadata": {},
   "outputs": [],
   "source": [
    "data.to_csv('survey_results.csv',sep = ',',index=False)"
   ]
  },
  {
   "cell_type": "code",
   "execution_count": null,
   "metadata": {},
   "outputs": [],
   "source": []
  }
 ],
 "metadata": {
  "interpreter": {
   "hash": "f01b1a26c0677924dfb9bb3c0adc99f4a4ad3f1a3781fcda47cbcaac5b4f6244"
  },
  "kernelspec": {
   "name": "python3",
   "display_name": "Python 3.8.8 64-bit ('Ironhack': conda)"
  },
  "language_info": {
   "codemirror_mode": {
    "name": "ipython",
    "version": 3
   },
   "file_extension": ".py",
   "mimetype": "text/x-python",
   "name": "python",
   "nbconvert_exporter": "python",
   "pygments_lexer": "ipython3",
   "version": "3.8.8"
  }
 },
 "nbformat": 4,
 "nbformat_minor": 2
}