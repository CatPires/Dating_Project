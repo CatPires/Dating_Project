{
 "cells": [
  {
   "cell_type": "code",
   "execution_count": 1,
   "metadata": {},
   "outputs": [],
   "source": [
    "## Analysis"
   ]
  },
  {
   "cell_type": "code",
   "execution_count": 2,
   "metadata": {},
   "outputs": [],
   "source": [
    "## Libraries"
   ]
  },
  {
   "cell_type": "code",
   "execution_count": 3,
   "metadata": {},
   "outputs": [
    {
     "ename": "ModuleNotFoundError",
     "evalue": "No module named 'heatmap'",
     "output_type": "error",
     "traceback": [
      "\u001b[1;31m---------------------------------------------------------------------------\u001b[0m",
      "\u001b[1;31mModuleNotFoundError\u001b[0m                       Traceback (most recent call last)",
      "\u001b[1;32m<ipython-input-3-ece38856299d>\u001b[0m in \u001b[0;36m<module>\u001b[1;34m\u001b[0m\n\u001b[0;32m      1\u001b[0m \u001b[1;32mimport\u001b[0m \u001b[0mpandas\u001b[0m \u001b[1;32mas\u001b[0m \u001b[0mpd\u001b[0m\u001b[1;33m\u001b[0m\u001b[1;33m\u001b[0m\u001b[0m\n\u001b[1;32m----> 2\u001b[1;33m \u001b[1;32mfrom\u001b[0m \u001b[0mheatmap\u001b[0m \u001b[1;32mimport\u001b[0m \u001b[0mheatmap\u001b[0m\u001b[1;33m,\u001b[0m \u001b[0mcorrplot\u001b[0m\u001b[1;33m\u001b[0m\u001b[1;33m\u001b[0m\u001b[0m\n\u001b[0m\u001b[0;32m      3\u001b[0m \u001b[1;32mimport\u001b[0m \u001b[0mpingouin\u001b[0m \u001b[1;32mas\u001b[0m \u001b[0mpg\u001b[0m\u001b[1;33m\u001b[0m\u001b[1;33m\u001b[0m\u001b[0m\n\u001b[0;32m      4\u001b[0m \u001b[1;32mimport\u001b[0m \u001b[0mnumpy\u001b[0m \u001b[1;32mas\u001b[0m \u001b[0mnp\u001b[0m\u001b[1;33m\u001b[0m\u001b[1;33m\u001b[0m\u001b[0m\n\u001b[0;32m      5\u001b[0m \u001b[1;32mimport\u001b[0m \u001b[0mpandas\u001b[0m \u001b[1;32mas\u001b[0m \u001b[0mpd\u001b[0m\u001b[1;33m\u001b[0m\u001b[1;33m\u001b[0m\u001b[0m\n",
      "\u001b[1;31mModuleNotFoundError\u001b[0m: No module named 'heatmap'"
     ]
    }
   ],
   "source": [
    "import pandas as pd \n",
    "from heatmap import heatmap, corrplot\n",
    "import pingouin as pg\n",
    "import numpy as np\n",
    "import pandas as pd\n",
    "import seaborn as sns\n",
    "from fitter import Fitter, get_common_distributions, get_distributions\n"
   ]
  },
  {
   "cell_type": "code",
   "execution_count": 4,
   "metadata": {},
   "outputs": [],
   "source": [
    "## Dataset"
   ]
  },
  {
   "cell_type": "code",
   "execution_count": 2,
   "metadata": {},
   "outputs": [
    {
     "data": {
      "text/html": [
       "<div>\n",
       "<style scoped>\n",
       "    .dataframe tbody tr th:only-of-type {\n",
       "        vertical-align: middle;\n",
       "    }\n",
       "\n",
       "    .dataframe tbody tr th {\n",
       "        vertical-align: top;\n",
       "    }\n",
       "\n",
       "    .dataframe thead th {\n",
       "        text-align: right;\n",
       "    }\n",
       "</style>\n",
       "<table border=\"1\" class=\"dataframe\">\n",
       "  <thead>\n",
       "    <tr style=\"text-align: right;\">\n",
       "      <th></th>\n",
       "      <th>Age</th>\n",
       "      <th>Gender</th>\n",
       "      <th>Sexual_orientation</th>\n",
       "      <th>School</th>\n",
       "      <th>Religion</th>\n",
       "      <th>Income</th>\n",
       "      <th>Personal_Sincerity</th>\n",
       "      <th>Personal_Loyalty</th>\n",
       "      <th>Personal_Self_confidence</th>\n",
       "      <th>Personal_Braveness</th>\n",
       "      <th>...</th>\n",
       "      <th>Money_val</th>\n",
       "      <th>Attractiveness_val</th>\n",
       "      <th>Intelligence_val</th>\n",
       "      <th>Charisma_val</th>\n",
       "      <th>Spirituality_val</th>\n",
       "      <th>Generosity_val</th>\n",
       "      <th>Kindness_val</th>\n",
       "      <th>Adventurous_val</th>\n",
       "      <th>Fun_val</th>\n",
       "      <th>Energetic_val</th>\n",
       "    </tr>\n",
       "  </thead>\n",
       "  <tbody>\n",
       "    <tr>\n",
       "      <th>0</th>\n",
       "      <td>28</td>\n",
       "      <td>Male</td>\n",
       "      <td>Heterosexual</td>\n",
       "      <td>Bachelor</td>\n",
       "      <td>Atheist</td>\n",
       "      <td>1600 - 2000 euros</td>\n",
       "      <td>6</td>\n",
       "      <td>7</td>\n",
       "      <td>4</td>\n",
       "      <td>5</td>\n",
       "      <td>...</td>\n",
       "      <td>0.0</td>\n",
       "      <td>2.0</td>\n",
       "      <td>-1.0</td>\n",
       "      <td>2.0</td>\n",
       "      <td>1.0</td>\n",
       "      <td>1.0</td>\n",
       "      <td>1.0</td>\n",
       "      <td>2.0</td>\n",
       "      <td>2.0</td>\n",
       "      <td>2.0</td>\n",
       "    </tr>\n",
       "    <tr>\n",
       "      <th>1</th>\n",
       "      <td>31</td>\n",
       "      <td>Male</td>\n",
       "      <td>Heterosexual</td>\n",
       "      <td>High school</td>\n",
       "      <td>Christian</td>\n",
       "      <td>1000 - 1300 euros</td>\n",
       "      <td>7</td>\n",
       "      <td>7</td>\n",
       "      <td>4</td>\n",
       "      <td>5</td>\n",
       "      <td>...</td>\n",
       "      <td>NaN</td>\n",
       "      <td>NaN</td>\n",
       "      <td>NaN</td>\n",
       "      <td>NaN</td>\n",
       "      <td>NaN</td>\n",
       "      <td>NaN</td>\n",
       "      <td>NaN</td>\n",
       "      <td>NaN</td>\n",
       "      <td>NaN</td>\n",
       "      <td>NaN</td>\n",
       "    </tr>\n",
       "    <tr>\n",
       "      <th>2</th>\n",
       "      <td>27</td>\n",
       "      <td>Female</td>\n",
       "      <td>Heterosexual</td>\n",
       "      <td>Master</td>\n",
       "      <td>Christian</td>\n",
       "      <td>1000 - 1300 euros</td>\n",
       "      <td>6</td>\n",
       "      <td>8</td>\n",
       "      <td>4</td>\n",
       "      <td>6</td>\n",
       "      <td>...</td>\n",
       "      <td>5.0</td>\n",
       "      <td>3.0</td>\n",
       "      <td>2.0</td>\n",
       "      <td>-2.0</td>\n",
       "      <td>-1.0</td>\n",
       "      <td>0.0</td>\n",
       "      <td>-1.0</td>\n",
       "      <td>-1.0</td>\n",
       "      <td>-1.0</td>\n",
       "      <td>-1.0</td>\n",
       "    </tr>\n",
       "    <tr>\n",
       "      <th>3</th>\n",
       "      <td>28</td>\n",
       "      <td>Male</td>\n",
       "      <td>Heterosexual</td>\n",
       "      <td>Master</td>\n",
       "      <td>Atheist</td>\n",
       "      <td>1600 - 2000 euros</td>\n",
       "      <td>8</td>\n",
       "      <td>8</td>\n",
       "      <td>8</td>\n",
       "      <td>8</td>\n",
       "      <td>...</td>\n",
       "      <td>2.0</td>\n",
       "      <td>3.0</td>\n",
       "      <td>1.0</td>\n",
       "      <td>0.0</td>\n",
       "      <td>-5.0</td>\n",
       "      <td>0.0</td>\n",
       "      <td>0.0</td>\n",
       "      <td>0.0</td>\n",
       "      <td>0.0</td>\n",
       "      <td>-4.0</td>\n",
       "    </tr>\n",
       "    <tr>\n",
       "      <th>4</th>\n",
       "      <td>27</td>\n",
       "      <td>Male</td>\n",
       "      <td>Heterosexual</td>\n",
       "      <td>Bachelor</td>\n",
       "      <td>Pastafarianism</td>\n",
       "      <td>800 - 1000 euros</td>\n",
       "      <td>6</td>\n",
       "      <td>7</td>\n",
       "      <td>5</td>\n",
       "      <td>5</td>\n",
       "      <td>...</td>\n",
       "      <td>NaN</td>\n",
       "      <td>NaN</td>\n",
       "      <td>NaN</td>\n",
       "      <td>NaN</td>\n",
       "      <td>NaN</td>\n",
       "      <td>NaN</td>\n",
       "      <td>NaN</td>\n",
       "      <td>NaN</td>\n",
       "      <td>NaN</td>\n",
       "      <td>NaN</td>\n",
       "    </tr>\n",
       "  </tbody>\n",
       "</table>\n",
       "<p>5 rows × 136 columns</p>\n",
       "</div>"
      ],
      "text/plain": [
       "   Age  Gender Sexual_orientation       School        Religion  \\\n",
       "0   28    Male       Heterosexual     Bachelor         Atheist   \n",
       "1   31    Male       Heterosexual  High school       Christian   \n",
       "2   27  Female       Heterosexual       Master       Christian   \n",
       "3   28    Male       Heterosexual       Master         Atheist   \n",
       "4   27    Male       Heterosexual     Bachelor  Pastafarianism   \n",
       "\n",
       "              Income  Personal_Sincerity  Personal_Loyalty  \\\n",
       "0  1600 - 2000 euros                   6                 7   \n",
       "1  1000 - 1300 euros                   7                 7   \n",
       "2  1000 - 1300 euros                   6                 8   \n",
       "3  1600 - 2000 euros                   8                 8   \n",
       "4   800 - 1000 euros                   6                 7   \n",
       "\n",
       "   Personal_Self_confidence  Personal_Braveness  ...  Money_val  \\\n",
       "0                         4                   5  ...        0.0   \n",
       "1                         4                   5  ...        NaN   \n",
       "2                         4                   6  ...        5.0   \n",
       "3                         8                   8  ...        2.0   \n",
       "4                         5                   5  ...        NaN   \n",
       "\n",
       "   Attractiveness_val  Intelligence_val  Charisma_val  Spirituality_val  \\\n",
       "0                 2.0              -1.0           2.0               1.0   \n",
       "1                 NaN               NaN           NaN               NaN   \n",
       "2                 3.0               2.0          -2.0              -1.0   \n",
       "3                 3.0               1.0           0.0              -5.0   \n",
       "4                 NaN               NaN           NaN               NaN   \n",
       "\n",
       "   Generosity_val  Kindness_val  Adventurous_val  Fun_val  Energetic_val  \n",
       "0             1.0           1.0              2.0      2.0            2.0  \n",
       "1             NaN           NaN              NaN      NaN            NaN  \n",
       "2             0.0          -1.0             -1.0     -1.0           -1.0  \n",
       "3             0.0           0.0              0.0      0.0           -4.0  \n",
       "4             NaN           NaN              NaN      NaN            NaN  \n",
       "\n",
       "[5 rows x 136 columns]"
      ]
     },
     "execution_count": 2,
     "metadata": {},
     "output_type": "execute_result"
    }
   ],
   "source": [
    "data = pd.read_csv('survey_results.csv')  ## import csv file with the survey results\n",
    "data.head()"
   ]
  },
  {
   "cell_type": "code",
   "execution_count": null,
   "metadata": {},
   "outputs": [],
   "source": [
    "## Define some functions"
   ]
  },
  {
   "cell_type": "code",
   "execution_count": 6,
   "metadata": {},
   "outputs": [],
   "source": [
    "## perform anova (1 way or 2 way)\n",
    "\n",
    "def anova_test(var_num, var_bins, dframe):\n",
    "    an = pg.anova(dv=var_num, between=var_bins, data=dframe, ss_type=2,detailed=False,effsize='np2').round(3)\n",
    "    return print(an)"
   ]
  },
  {
   "cell_type": "code",
   "execution_count": 7,
   "metadata": {},
   "outputs": [],
   "source": [
    "## better distribution\n",
    "\n",
    "def dist_data(parameter):\n",
    "    par = parameter.values    ## Before we supply the data to Fitter we need to convert it to a NumPy array. \n",
    "    f = Fitter(par, distributions= get_common_distributions())   ## check distr\n",
    "    f.fit()                                                       ## try to fit\n",
    "    f.summary()                                                   ## sumarise all info\n",
    "    return f.get_best(method = 'sumsquare_error')   ## get best distribution"
   ]
  },
  {
   "cell_type": "markdown",
   "metadata": {},
   "source": [
    "# Analysis by Relationship Parameter\n",
    "## Relationship_Respect"
   ]
  },
  {
   "cell_type": "code",
   "execution_count": null,
   "metadata": {},
   "outputs": [],
   "source": [
    "anova_test('Relationship_Respect', 'Age', data)"
   ]
  },
  {
   "cell_type": "code",
   "execution_count": null,
   "metadata": {},
   "outputs": [],
   "source": [
    "anova_test('Relationship_Respect', 'Age_nm', data)"
   ]
  },
  {
   "cell_type": "code",
   "execution_count": null,
   "metadata": {},
   "outputs": [],
   "source": [
    "anova_test('Relationship_Respect', 'School_nm', data)"
   ]
  },
  {
   "cell_type": "code",
   "execution_count": null,
   "metadata": {},
   "outputs": [],
   "source": [
    "anova_test('Relationship_Respect', 'Income_nm', data)"
   ]
  },
  {
   "cell_type": "code",
   "execution_count": null,
   "metadata": {},
   "outputs": [],
   "source": [
    "anova_test('Relationship_Respect', 'Gender', data)"
   ]
  },
  {
   "cell_type": "code",
   "execution_count": null,
   "metadata": {},
   "outputs": [],
   "source": [
    "anova_test('Relationship_Respect', 'Relationship_score', data)"
   ]
  },
  {
   "cell_type": "code",
   "execution_count": null,
   "metadata": {},
   "outputs": [],
   "source": [
    "anova_test('Relationship_Respect', 'Relationship_rate', data)"
   ]
  },
  {
   "cell_type": "code",
   "execution_count": null,
   "metadata": {},
   "outputs": [],
   "source": [
    "anova_test('Relationship_Respect', 'Time_together', data)"
   ]
  },
  {
   "cell_type": "code",
   "execution_count": null,
   "metadata": {},
   "outputs": [],
   "source": [
    "anova_test('Relationship_Respect', ['Age','Gender'], data)"
   ]
  },
  {
   "cell_type": "code",
   "execution_count": null,
   "metadata": {},
   "outputs": [],
   "source": [
    "abc = data.groupby(['Age'], as_index=False).mean()\n",
    "ax = sns.pointplot(x='Age', y='Relationship_Respect', hue='Gender', data=abc)"
   ]
  },
  {
   "cell_type": "code",
   "execution_count": null,
   "metadata": {},
   "outputs": [],
   "source": [
    "abc = data.groupby(['Age_nm'], as_index=False).mean()\n",
    "ax = sns.pointplot(x='Age_nm', y='Relationship_Respect', hue='Gender', data=abc)"
   ]
  },
  {
   "cell_type": "code",
   "execution_count": null,
   "metadata": {},
   "outputs": [],
   "source": [
    "df_me_sin = data[['Age','School_nm','Income_nm','Relationship_score','Relationship_rate','Time_together',\n",
    "                  'Relationship_Respect']]\n",
    "corrplot(df_me_sin.corr(), size_scale=100, marker='s')  ## use in dataframe"
   ]
  },
  {
   "cell_type": "code",
   "execution_count": null,
   "metadata": {},
   "outputs": [],
   "source": [
    "df_me_sin = data[['Personal_Sincerity','Personal_Loyalty','Personal_Self_confidence','Personal_Braveness',\n",
    "                  'Personal_Optimism','Personal_Money','Personal_Attractiveness','Personal_Intelligence',\n",
    "                  'Personal_Charisma','Personal_Spirituality','Personal_Generosity','Personal_Kindness',\n",
    "                  'Personal_Adventurous','Personal_Fun','Personal_Energetic','Relationship_Respect']]\n",
    "corrplot(df_me_sin.corr(), size_scale=100, marker='s')  ## use in dataframe"
   ]
  },
  {
   "cell_type": "markdown",
   "metadata": {},
   "source": [
    "## Relationship_Vulnerability"
   ]
  },
  {
   "cell_type": "code",
   "execution_count": null,
   "metadata": {},
   "outputs": [],
   "source": [
    "anova_test('Relationship_Vulnerability', 'Age', data)"
   ]
  },
  {
   "cell_type": "code",
   "execution_count": null,
   "metadata": {},
   "outputs": [],
   "source": [
    "anova_test('Relationship_Vulnerability', 'Age_nm', data)"
   ]
  },
  {
   "cell_type": "code",
   "execution_count": null,
   "metadata": {},
   "outputs": [],
   "source": [
    "anova_test('Relationship_Vulnerability', 'School_nm', data)"
   ]
  },
  {
   "cell_type": "code",
   "execution_count": null,
   "metadata": {},
   "outputs": [],
   "source": [
    "anova_test('Relationship_Vulnerability', 'Income_nm', data)"
   ]
  },
  {
   "cell_type": "code",
   "execution_count": null,
   "metadata": {},
   "outputs": [],
   "source": [
    "anova_test('Relationship_Vulnerability', 'Gender', data)"
   ]
  },
  {
   "cell_type": "code",
   "execution_count": null,
   "metadata": {},
   "outputs": [],
   "source": [
    "anova_test('Relationship_Vulnerability', 'Relationship_score', data)"
   ]
  },
  {
   "cell_type": "code",
   "execution_count": null,
   "metadata": {},
   "outputs": [],
   "source": [
    "anova_test('Relationship_Vulnerability', 'Relationship_rate', data)"
   ]
  },
  {
   "cell_type": "code",
   "execution_count": null,
   "metadata": {},
   "outputs": [],
   "source": [
    "anova_test('Relationship_Vulnerability', 'Time_together', data)"
   ]
  },
  {
   "cell_type": "code",
   "execution_count": null,
   "metadata": {},
   "outputs": [],
   "source": [
    "anova_test('Relationship_Vulnerability', ['Age','Gender'], data)"
   ]
  },
  {
   "cell_type": "code",
   "execution_count": null,
   "metadata": {},
   "outputs": [],
   "source": [
    "abc = data.groupby(['Age'], as_index=False).mean()\n",
    "ax = sns.pointplot(x='Age', y='Relationship_Vulnerability', hue='Gender', data=abc)"
   ]
  },
  {
   "cell_type": "code",
   "execution_count": null,
   "metadata": {},
   "outputs": [],
   "source": [
    "abc = data.groupby(['Age_nm'], as_index=False).mean()\n",
    "ax = sns.pointplot(x='Age_nm', y='Relationship_Vulnerability', hue='Gender', data=abc)"
   ]
  },
  {
   "cell_type": "code",
   "execution_count": null,
   "metadata": {},
   "outputs": [],
   "source": [
    "df_me_sin = data[['Age','School_nm','Income_nm','Relationship_score','Relationship_rate','Time_together',\n",
    "                  'Relationship_Vulnerability']]\n",
    "corrplot(df_me_sin.corr(), size_scale=100, marker='s')  ## use in dataframe"
   ]
  },
  {
   "cell_type": "code",
   "execution_count": null,
   "metadata": {},
   "outputs": [],
   "source": [
    "df_me_sin = data[['Personal_Sincerity','Personal_Loyalty','Personal_Self_confidence','Personal_Braveness',\n",
    "                  'Personal_Optimism','Personal_Money','Personal_Attractiveness','Personal_Intelligence',\n",
    "                  'Personal_Charisma','Personal_Spirituality','Personal_Generosity','Personal_Kindness',\n",
    "                  'Personal_Adventurous','Personal_Fun','Personal_Energetic','Relationship_Vulnerability']]\n",
    "corrplot(df_me_sin.corr(), size_scale=100, marker='s')  ## use in dataframe"
   ]
  },
  {
   "cell_type": "markdown",
   "metadata": {},
   "source": [
    "## Relationship_Trust"
   ]
  },
  {
   "cell_type": "code",
   "execution_count": null,
   "metadata": {},
   "outputs": [],
   "source": [
    "anova_test('Relationship_Trust', 'Age', data)"
   ]
  },
  {
   "cell_type": "code",
   "execution_count": null,
   "metadata": {},
   "outputs": [],
   "source": [
    "anova_test('Relationship_Trust', 'Age_nm', data)"
   ]
  },
  {
   "cell_type": "code",
   "execution_count": null,
   "metadata": {},
   "outputs": [],
   "source": [
    "anova_test('Relationship_Trust', 'School_nm', data)"
   ]
  },
  {
   "cell_type": "code",
   "execution_count": null,
   "metadata": {},
   "outputs": [],
   "source": [
    "anova_test('Relationship_Trust', 'Income_nm', data)"
   ]
  },
  {
   "cell_type": "code",
   "execution_count": null,
   "metadata": {},
   "outputs": [],
   "source": [
    "anova_test('Relationship_Trust', 'Gender', data)"
   ]
  },
  {
   "cell_type": "code",
   "execution_count": null,
   "metadata": {},
   "outputs": [],
   "source": [
    "anova_test('Relationship_Trust', 'Relationship_score', data)"
   ]
  },
  {
   "cell_type": "code",
   "execution_count": null,
   "metadata": {},
   "outputs": [],
   "source": [
    "anova_test('Relationship_Trust', 'Relationship_rate', data)"
   ]
  },
  {
   "cell_type": "code",
   "execution_count": null,
   "metadata": {},
   "outputs": [],
   "source": [
    "anova_test('Relationship_Trust', 'Time_together', data)"
   ]
  },
  {
   "cell_type": "code",
   "execution_count": null,
   "metadata": {},
   "outputs": [],
   "source": [
    "anova_test('Relationship_Trust', ['Age','Gender'], data)"
   ]
  },
  {
   "cell_type": "code",
   "execution_count": null,
   "metadata": {},
   "outputs": [],
   "source": [
    "abc = data.groupby(['Age'], as_index=False).mean()\n",
    "ax = sns.pointplot(x='Age', y='Relationship_Trust', hue='Gender', data=abc)"
   ]
  },
  {
   "cell_type": "code",
   "execution_count": null,
   "metadata": {},
   "outputs": [],
   "source": [
    "abc = data.groupby(['Age_nm'], as_index=False).mean()\n",
    "ax = sns.pointplot(x='Age_nm', y='Relationship_Trust', hue='Gender', data=abc)"
   ]
  },
  {
   "cell_type": "code",
   "execution_count": null,
   "metadata": {},
   "outputs": [],
   "source": [
    "df_me_sin = data[['Age','School_nm','Income_nm','Relationship_score','Relationship_rate','Time_together',\n",
    "                  'Relationship_Trust']]\n",
    "corrplot(df_me_sin.corr(), size_scale=100, marker='s')  ## use in dataframe"
   ]
  },
  {
   "cell_type": "code",
   "execution_count": null,
   "metadata": {},
   "outputs": [],
   "source": [
    "df_me_sin = data[['Personal_Sincerity','Personal_Loyalty','Personal_Self_confidence','Personal_Braveness',\n",
    "                  'Personal_Optimism','Personal_Money','Personal_Attractiveness','Personal_Intelligence',\n",
    "                  'Personal_Charisma','Personal_Spirituality','Personal_Generosity','Personal_Kindness',\n",
    "                  'Personal_Adventurous','Personal_Fun','Personal_Energetic','Relationship_Trust']]\n",
    "corrplot(df_me_sin.corr(), size_scale=100, marker='s')  ## use in dataframe"
   ]
  },
  {
   "cell_type": "markdown",
   "metadata": {},
   "source": [
    "## Relationship_Honesty"
   ]
  },
  {
   "cell_type": "code",
   "execution_count": null,
   "metadata": {},
   "outputs": [],
   "source": [
    "anova_test('Relationship_Honesty', 'Age', data)"
   ]
  },
  {
   "cell_type": "code",
   "execution_count": null,
   "metadata": {},
   "outputs": [],
   "source": [
    "anova_test('Relationship_Honesty', 'Age_nm', data)"
   ]
  },
  {
   "cell_type": "code",
   "execution_count": null,
   "metadata": {},
   "outputs": [],
   "source": [
    "anova_test('Relationship_Honesty', 'School_nm', data)"
   ]
  },
  {
   "cell_type": "code",
   "execution_count": null,
   "metadata": {},
   "outputs": [],
   "source": [
    "anova_test('Relationship_Honesty', 'Income_nm', data)"
   ]
  },
  {
   "cell_type": "code",
   "execution_count": null,
   "metadata": {},
   "outputs": [],
   "source": [
    "anova_test('Relationship_Honesty', 'Gender', data)"
   ]
  },
  {
   "cell_type": "code",
   "execution_count": null,
   "metadata": {},
   "outputs": [],
   "source": [
    "anova_test('Relationship_Honesty', 'Relationship_score', data)"
   ]
  },
  {
   "cell_type": "code",
   "execution_count": null,
   "metadata": {},
   "outputs": [],
   "source": [
    "anova_test('Relationship_Honesty', 'Relationship_rate', data)"
   ]
  },
  {
   "cell_type": "code",
   "execution_count": null,
   "metadata": {},
   "outputs": [],
   "source": [
    "anova_test('Relationship_Honesty', 'Time_together', data)"
   ]
  },
  {
   "cell_type": "code",
   "execution_count": null,
   "metadata": {},
   "outputs": [],
   "source": [
    "anova_test('Relationship_Honesty', ['Age','Gender'], data)"
   ]
  },
  {
   "cell_type": "code",
   "execution_count": null,
   "metadata": {},
   "outputs": [],
   "source": [
    "abc = data.groupby(['Age'], as_index=False).mean()\n",
    "ax = sns.pointplot(x='Age', y='Relationship_Honesty', hue='Gender', data=abc)"
   ]
  },
  {
   "cell_type": "code",
   "execution_count": null,
   "metadata": {},
   "outputs": [],
   "source": [
    "abc = data.groupby(['Age_nm'], as_index=False).mean()\n",
    "ax = sns.pointplot(x='Age_nm', y='Relationship_Honesty', hue='Gender', data=abc)"
   ]
  },
  {
   "cell_type": "code",
   "execution_count": null,
   "metadata": {},
   "outputs": [],
   "source": [
    "df_me_sin = data[['Age','School_nm','Income_nm','Relationship_score','Relationship_rate','Time_together',\n",
    "                  'Relationship_Honesty']]\n",
    "corrplot(df_me_sin.corr(), size_scale=100, marker='s')  ## use in dataframe"
   ]
  },
  {
   "cell_type": "code",
   "execution_count": null,
   "metadata": {},
   "outputs": [],
   "source": [
    "df_me_sin = data[['Personal_Sincerity','Personal_Loyalty','Personal_Self_confidence','Personal_Braveness',\n",
    "                  'Personal_Optimism','Personal_Money','Personal_Attractiveness','Personal_Intelligence',\n",
    "                  'Personal_Charisma','Personal_Spirituality','Personal_Generosity','Personal_Kindness',\n",
    "                  'Personal_Adventurous','Personal_Fun','Personal_Energetic','Relationship_Honesty']]\n",
    "corrplot(df_me_sin.corr(), size_scale=100, marker='s')  ## use in dataframe"
   ]
  },
  {
   "cell_type": "markdown",
   "metadata": {},
   "source": [
    "## Relationship_Kindness"
   ]
  },
  {
   "cell_type": "code",
   "execution_count": null,
   "metadata": {},
   "outputs": [],
   "source": [
    "anova_test('Relationship_Kindness', 'Age', data)"
   ]
  },
  {
   "cell_type": "code",
   "execution_count": null,
   "metadata": {},
   "outputs": [],
   "source": [
    "anova_test('Relationship_Kindness', 'Age_nm', data)"
   ]
  },
  {
   "cell_type": "code",
   "execution_count": null,
   "metadata": {},
   "outputs": [],
   "source": [
    "anova_test('Relationship_Kindness', 'School_nm', data)"
   ]
  },
  {
   "cell_type": "code",
   "execution_count": null,
   "metadata": {},
   "outputs": [],
   "source": [
    "anova_test('Relationship_Kindness', 'Income_nm', data)"
   ]
  },
  {
   "cell_type": "code",
   "execution_count": null,
   "metadata": {},
   "outputs": [],
   "source": [
    "anova_test('Relationship_Kindness', 'Gender', data)"
   ]
  },
  {
   "cell_type": "code",
   "execution_count": null,
   "metadata": {},
   "outputs": [],
   "source": [
    "anova_test('Relationship_Kindness', 'Relationship_score', data)"
   ]
  },
  {
   "cell_type": "code",
   "execution_count": null,
   "metadata": {},
   "outputs": [],
   "source": [
    "anova_test('Relationship_Kindness', 'Relationship_rate', data)"
   ]
  },
  {
   "cell_type": "code",
   "execution_count": null,
   "metadata": {},
   "outputs": [],
   "source": [
    "anova_test('Relationship_Kindness', 'Time_together', data)"
   ]
  },
  {
   "cell_type": "code",
   "execution_count": null,
   "metadata": {},
   "outputs": [],
   "source": [
    "anova_test('Relationship_Kindness', ['Age','Gender'], data)"
   ]
  },
  {
   "cell_type": "code",
   "execution_count": null,
   "metadata": {},
   "outputs": [],
   "source": [
    "abc = data.groupby(['Age'], as_index=False).mean()\n",
    "ax = sns.pointplot(x='Age', y='Relationship_Kindness', hue='Gender', data=abc)"
   ]
  },
  {
   "cell_type": "code",
   "execution_count": null,
   "metadata": {},
   "outputs": [],
   "source": [
    "abc = data.groupby(['Age_nm'], as_index=False).mean()\n",
    "ax = sns.pointplot(x='Age_nm', y='Relationship_Kindness', hue='Gender', data=abc)"
   ]
  },
  {
   "cell_type": "code",
   "execution_count": null,
   "metadata": {},
   "outputs": [],
   "source": [
    "df_me_sin = data[['Age','School_nm','Income_nm','Relationship_score','Relationship_rate','Time_together',\n",
    "                  'Relationship_Kindness']]\n",
    "corrplot(df_me_sin.corr(), size_scale=100, marker='s')  ## use in dataframe"
   ]
  },
  {
   "cell_type": "code",
   "execution_count": null,
   "metadata": {},
   "outputs": [],
   "source": [
    "df_me_sin = data[['Personal_Sincerity','Personal_Loyalty','Personal_Self_confidence','Personal_Braveness',\n",
    "                  'Personal_Optimism','Personal_Money','Personal_Attractiveness','Personal_Intelligence',\n",
    "                  'Personal_Charisma','Personal_Spirituality','Personal_Generosity','Personal_Kindness',\n",
    "                  'Personal_Adventurous','Personal_Fun','Personal_Energetic','Relationship_Kindness']]\n",
    "corrplot(df_me_sin.corr(), size_scale=100, marker='s')  ## use in dataframe"
   ]
  },
  {
   "cell_type": "markdown",
   "metadata": {},
   "source": [
    "## Relationship_Boundaries"
   ]
  },
  {
   "cell_type": "code",
   "execution_count": null,
   "metadata": {},
   "outputs": [],
   "source": [
    "anova_test('Relationship_Boundaries', 'Age', data)"
   ]
  },
  {
   "cell_type": "code",
   "execution_count": null,
   "metadata": {},
   "outputs": [],
   "source": [
    "anova_test('Relationship_Boundaries', 'Age_nm', data)"
   ]
  },
  {
   "cell_type": "code",
   "execution_count": null,
   "metadata": {},
   "outputs": [],
   "source": [
    "anova_test('Relationship_Boundaries', 'School_nm', data)"
   ]
  },
  {
   "cell_type": "code",
   "execution_count": null,
   "metadata": {},
   "outputs": [],
   "source": [
    "anova_test('Relationship_Boundaries', 'Income_nm', data)"
   ]
  },
  {
   "cell_type": "code",
   "execution_count": null,
   "metadata": {},
   "outputs": [],
   "source": [
    "anova_test('Relationship_Boundaries', 'Gender', data)"
   ]
  },
  {
   "cell_type": "code",
   "execution_count": null,
   "metadata": {},
   "outputs": [],
   "source": [
    "anova_test('Relationship_Boundaries', 'Relationship_score', data)"
   ]
  },
  {
   "cell_type": "code",
   "execution_count": null,
   "metadata": {},
   "outputs": [],
   "source": [
    "anova_test('Relationship_Boundaries', 'Relationship_rate', data)"
   ]
  },
  {
   "cell_type": "code",
   "execution_count": null,
   "metadata": {},
   "outputs": [],
   "source": [
    "anova_test('Relationship_Boundaries', 'Time_together', data)"
   ]
  },
  {
   "cell_type": "code",
   "execution_count": null,
   "metadata": {},
   "outputs": [],
   "source": [
    "anova_test('Relationship_Boundaries', ['Age','Gender'], data)"
   ]
  },
  {
   "cell_type": "code",
   "execution_count": null,
   "metadata": {},
   "outputs": [],
   "source": [
    "abc = data.groupby(['Age'], as_index=False).mean()\n",
    "ax = sns.pointplot(x='Age', y='Relationship_Boundaries', hue='Gender', data=abc)"
   ]
  },
  {
   "cell_type": "code",
   "execution_count": null,
   "metadata": {},
   "outputs": [],
   "source": [
    "abc = data.groupby(['Age_nm'], as_index=False).mean()\n",
    "ax = sns.pointplot(x='Age_nm', y='Relationship_Boundaries', hue='Gender', data=abc)"
   ]
  },
  {
   "cell_type": "code",
   "execution_count": null,
   "metadata": {},
   "outputs": [],
   "source": [
    "df_me_sin = data[['Age','School_nm','Income_nm','Relationship_score','Relationship_rate','Time_together',\n",
    "                  'Relationship_Boundaries']]\n",
    "corrplot(df_me_sin.corr(), size_scale=100, marker='s')  ## use in dataframe"
   ]
  },
  {
   "cell_type": "code",
   "execution_count": null,
   "metadata": {},
   "outputs": [],
   "source": [
    "df_me_sin = data[['Personal_Sincerity','Personal_Loyalty','Personal_Self_confidence','Personal_Braveness',\n",
    "                  'Personal_Optimism','Personal_Money','Personal_Attractiveness','Personal_Intelligence',\n",
    "                  'Personal_Charisma','Personal_Spirituality','Personal_Generosity','Personal_Kindness',\n",
    "                  'Personal_Adventurous','Personal_Fun','Personal_Energetic','Relationship_Boundaries']]\n",
    "corrplot(df_me_sin.corr(), size_scale=100, marker='s')  ## use in dataframe"
   ]
  },
  {
   "cell_type": "markdown",
   "metadata": {},
   "source": [
    "## Relationship_Commitment"
   ]
  },
  {
   "cell_type": "code",
   "execution_count": null,
   "metadata": {},
   "outputs": [],
   "source": [
    "anova_test('Relationship_Commitment', 'Age', data)"
   ]
  },
  {
   "cell_type": "code",
   "execution_count": null,
   "metadata": {},
   "outputs": [],
   "source": [
    "anova_test('Relationship_Commitment', 'Age_nm', data)"
   ]
  },
  {
   "cell_type": "code",
   "execution_count": null,
   "metadata": {},
   "outputs": [],
   "source": [
    "anova_test('Relationship_Commitment', 'School_nm', data)"
   ]
  },
  {
   "cell_type": "code",
   "execution_count": null,
   "metadata": {},
   "outputs": [],
   "source": [
    "anova_test('Relationship_Commitment', 'Income_nm', data)"
   ]
  },
  {
   "cell_type": "code",
   "execution_count": null,
   "metadata": {},
   "outputs": [],
   "source": [
    "anova_test('Relationship_Commitment', 'Gender', data)"
   ]
  },
  {
   "cell_type": "code",
   "execution_count": null,
   "metadata": {},
   "outputs": [],
   "source": [
    "anova_test('Relationship_Commitment', 'Relationship_score', data)"
   ]
  },
  {
   "cell_type": "code",
   "execution_count": null,
   "metadata": {},
   "outputs": [],
   "source": [
    "anova_test('Relationship_Commitment', 'Relationship_rate', data)"
   ]
  },
  {
   "cell_type": "code",
   "execution_count": null,
   "metadata": {},
   "outputs": [],
   "source": [
    "anova_test('Relationship_Commitment', 'Time_together', data)"
   ]
  },
  {
   "cell_type": "code",
   "execution_count": null,
   "metadata": {},
   "outputs": [],
   "source": [
    "anova_test('Relationship_Commitment', ['Age','Gender'], data)"
   ]
  },
  {
   "cell_type": "code",
   "execution_count": null,
   "metadata": {},
   "outputs": [],
   "source": [
    "abc = data.groupby(['Age'], as_index=False).mean()\n",
    "ax = sns.pointplot(x='Age', y='Relationship_Commitment', hue='Gender', data=abc)"
   ]
  },
  {
   "cell_type": "code",
   "execution_count": null,
   "metadata": {},
   "outputs": [],
   "source": [
    "abc = data.groupby(['Age_nm'], as_index=False).mean()\n",
    "ax = sns.pointplot(x='Age_nm', y='Relationship_Commitment', hue='Gender', data=abc)"
   ]
  },
  {
   "cell_type": "code",
   "execution_count": null,
   "metadata": {},
   "outputs": [],
   "source": [
    "df_me_sin = data[['Age','School_nm','Income_nm','Relationship_score','Relationship_rate','Time_together',\n",
    "                  'Relationship_Commitment']]\n",
    "corrplot(df_me_sin.corr(), size_scale=100, marker='s')  ## use in dataframe"
   ]
  },
  {
   "cell_type": "code",
   "execution_count": null,
   "metadata": {},
   "outputs": [],
   "source": [
    "df_me_sin = data[['Personal_Sincerity','Personal_Loyalty','Personal_Self_confidence','Personal_Braveness',\n",
    "                  'Personal_Optimism','Personal_Money','Personal_Attractiveness','Personal_Intelligence',\n",
    "                  'Personal_Charisma','Personal_Spirituality','Personal_Generosity','Personal_Kindness',\n",
    "                  'Personal_Adventurous','Personal_Fun','Personal_Energetic','Relationship_Commitment']]\n",
    "corrplot(df_me_sin.corr(), size_scale=100, marker='s')  ## use in dataframe"
   ]
  },
  {
   "cell_type": "markdown",
   "metadata": {},
   "source": [
    "## Relationship_Thoughtfulness"
   ]
  },
  {
   "cell_type": "code",
   "execution_count": null,
   "metadata": {},
   "outputs": [],
   "source": [
    "anova_test('Relationship_Thoughtfulness', 'Age', data)"
   ]
  },
  {
   "cell_type": "code",
   "execution_count": null,
   "metadata": {},
   "outputs": [],
   "source": [
    "anova_test('Relationship_Thoughtfulness', 'Age_nm', data)"
   ]
  },
  {
   "cell_type": "code",
   "execution_count": null,
   "metadata": {},
   "outputs": [],
   "source": [
    "anova_test('Relationship_Thoughtfulness', 'School_nm', data)"
   ]
  },
  {
   "cell_type": "code",
   "execution_count": null,
   "metadata": {},
   "outputs": [],
   "source": [
    "anova_test('Relationship_Thoughtfulness', 'Income_nm', data)"
   ]
  },
  {
   "cell_type": "code",
   "execution_count": null,
   "metadata": {},
   "outputs": [],
   "source": [
    "anova_test('Relationship_Thoughtfulness', 'Gender', data)"
   ]
  },
  {
   "cell_type": "code",
   "execution_count": null,
   "metadata": {},
   "outputs": [],
   "source": [
    "anova_test('Relationship_Thoughtfulness', 'Relationship_score', data)"
   ]
  },
  {
   "cell_type": "code",
   "execution_count": null,
   "metadata": {},
   "outputs": [],
   "source": [
    "anova_test('Relationship_Thoughtfulness', 'Relationship_rate', data)"
   ]
  },
  {
   "cell_type": "code",
   "execution_count": null,
   "metadata": {},
   "outputs": [],
   "source": [
    "anova_test('Relationship_Thoughtfulness', 'Time_together', data)"
   ]
  },
  {
   "cell_type": "code",
   "execution_count": null,
   "metadata": {},
   "outputs": [],
   "source": [
    "anova_test('Relationship_Thoughtfulness', ['Age','Gender'], data)"
   ]
  },
  {
   "cell_type": "code",
   "execution_count": null,
   "metadata": {},
   "outputs": [],
   "source": [
    "abc = data.groupby(['Age'], as_index=False).mean()\n",
    "ax = sns.pointplot(x='Age', y='Relationship_Thoughtfulness', hue='Gender', data=abc)"
   ]
  },
  {
   "cell_type": "code",
   "execution_count": null,
   "metadata": {},
   "outputs": [],
   "source": [
    "abc = data.groupby(['Age_nm'], as_index=False).mean()\n",
    "ax = sns.pointplot(x='Age_nm', y='Relationship_Thoughtfulness', hue='Gender', data=abc)"
   ]
  },
  {
   "cell_type": "code",
   "execution_count": null,
   "metadata": {},
   "outputs": [],
   "source": [
    "df_me_sin = data[['Age','School_nm','Income_nm','Relationship_score','Relationship_rate','Time_together',\n",
    "                  'Relationship_Thoughtfulness']]\n",
    "corrplot(df_me_sin.corr(), size_scale=100, marker='s')  ## use in dataframe"
   ]
  },
  {
   "cell_type": "code",
   "execution_count": null,
   "metadata": {},
   "outputs": [],
   "source": [
    "df_me_sin = data[['Personal_Sincerity','Personal_Loyalty','Personal_Self_confidence','Personal_Braveness',\n",
    "                  'Personal_Optimism','Personal_Money','Personal_Attractiveness','Personal_Intelligence',\n",
    "                  'Personal_Charisma','Personal_Spirituality','Personal_Generosity','Personal_Kindness',\n",
    "                  'Personal_Adventurous','Personal_Fun','Personal_Energetic','Relationship_Thoughtfulness']]\n",
    "corrplot(df_me_sin.corr(), size_scale=100, marker='s')  ## use in dataframe"
   ]
  },
  {
   "cell_type": "markdown",
   "metadata": {},
   "source": [
    "## Relationship_Forgiveness"
   ]
  },
  {
   "cell_type": "code",
   "execution_count": null,
   "metadata": {},
   "outputs": [],
   "source": [
    "anova_test('Relationship_Forgiveness', 'Age', data)"
   ]
  },
  {
   "cell_type": "code",
   "execution_count": null,
   "metadata": {},
   "outputs": [],
   "source": [
    "anova_test('Relationship_Forgiveness', 'Age_nm', data)"
   ]
  },
  {
   "cell_type": "code",
   "execution_count": null,
   "metadata": {},
   "outputs": [],
   "source": [
    "anova_test('Relationship_Forgiveness', 'School_nm', data)"
   ]
  },
  {
   "cell_type": "code",
   "execution_count": null,
   "metadata": {},
   "outputs": [],
   "source": [
    "anova_test('Relationship_Forgiveness', 'Income_nm', data)"
   ]
  },
  {
   "cell_type": "code",
   "execution_count": null,
   "metadata": {},
   "outputs": [],
   "source": [
    "anova_test('Relationship_Forgiveness', 'Gender', data)"
   ]
  },
  {
   "cell_type": "code",
   "execution_count": null,
   "metadata": {},
   "outputs": [],
   "source": [
    "anova_test('Relationship_Forgiveness', 'Relationship_score', data)"
   ]
  },
  {
   "cell_type": "code",
   "execution_count": null,
   "metadata": {},
   "outputs": [],
   "source": [
    "anova_test('Relationship_Forgiveness', 'Relationship_rate', data)"
   ]
  },
  {
   "cell_type": "code",
   "execution_count": null,
   "metadata": {},
   "outputs": [],
   "source": [
    "anova_test('Relationship_Forgiveness', 'Time_together', data)"
   ]
  },
  {
   "cell_type": "code",
   "execution_count": null,
   "metadata": {},
   "outputs": [],
   "source": [
    "anova_test('Relationship_Forgiveness', ['Age','Gender'], data)"
   ]
  },
  {
   "cell_type": "code",
   "execution_count": null,
   "metadata": {},
   "outputs": [],
   "source": [
    "abc = data.groupby(['Age'], as_index=False).mean()\n",
    "ax = sns.pointplot(x='Age', y='Relationship_Forgiveness', hue='Gender', data=abc)"
   ]
  },
  {
   "cell_type": "code",
   "execution_count": null,
   "metadata": {},
   "outputs": [],
   "source": [
    "abc = data.groupby(['Age_nm'], as_index=False).mean()\n",
    "ax = sns.pointplot(x='Age_nm', y='Relationship_Forgiveness', hue='Gender', data=abc)"
   ]
  },
  {
   "cell_type": "code",
   "execution_count": null,
   "metadata": {},
   "outputs": [],
   "source": [
    "df_me_sin = data[['Age','School_nm','Income_nm','Relationship_score','Relationship_rate','Time_together',\n",
    "                  'Relationship_Forgiveness']]\n",
    "corrplot(df_me_sin.corr(), size_scale=100, marker='s')  ## use in dataframe"
   ]
  },
  {
   "cell_type": "code",
   "execution_count": null,
   "metadata": {},
   "outputs": [],
   "source": [
    "df_me_sin = data[['Personal_Sincerity','Personal_Loyalty','Personal_Self_confidence','Personal_Braveness',\n",
    "                  'Personal_Optimism','Personal_Money','Personal_Attractiveness','Personal_Intelligence',\n",
    "                  'Personal_Charisma','Personal_Spirituality','Personal_Generosity','Personal_Kindness',\n",
    "                  'Personal_Adventurous','Personal_Fun','Personal_Energetic','Relationship_Forgiveness']]\n",
    "corrplot(df_me_sin.corr(), size_scale=100, marker='s')  ## use in dataframe"
   ]
  },
  {
   "cell_type": "markdown",
   "metadata": {},
   "source": [
    "## Relationship_Gentleness"
   ]
  },
  {
   "cell_type": "code",
   "execution_count": null,
   "metadata": {},
   "outputs": [],
   "source": [
    "anova_test('Relationship_Gentleness', 'Age', data)"
   ]
  },
  {
   "cell_type": "code",
   "execution_count": null,
   "metadata": {},
   "outputs": [],
   "source": [
    "anova_test('Relationship_Gentleness', 'Age_nm', data)"
   ]
  },
  {
   "cell_type": "code",
   "execution_count": null,
   "metadata": {},
   "outputs": [],
   "source": [
    "anova_test('Relationship_Gentleness', 'School_nm', data)"
   ]
  },
  {
   "cell_type": "code",
   "execution_count": null,
   "metadata": {},
   "outputs": [],
   "source": [
    "anova_test('Relationship_Gentleness', 'Income_nm', data)"
   ]
  },
  {
   "cell_type": "code",
   "execution_count": null,
   "metadata": {},
   "outputs": [],
   "source": [
    "anova_test('Relationship_Gentleness', 'Gender', data)"
   ]
  },
  {
   "cell_type": "code",
   "execution_count": null,
   "metadata": {},
   "outputs": [],
   "source": [
    "anova_test('Relationship_Gentleness', 'Relationship_score', data)"
   ]
  },
  {
   "cell_type": "code",
   "execution_count": null,
   "metadata": {},
   "outputs": [],
   "source": [
    "anova_test('Relationship_Gentleness', 'Relationship_rate', data)"
   ]
  },
  {
   "cell_type": "code",
   "execution_count": null,
   "metadata": {},
   "outputs": [],
   "source": [
    "anova_test('Relationship_Gentleness', 'Time_together', data)"
   ]
  },
  {
   "cell_type": "code",
   "execution_count": null,
   "metadata": {},
   "outputs": [],
   "source": [
    "anova_test('Relationship_Gentleness', ['Age','Gender'], data)"
   ]
  },
  {
   "cell_type": "code",
   "execution_count": null,
   "metadata": {},
   "outputs": [],
   "source": [
    "abc = data.groupby(['Age'], as_index=False).mean()\n",
    "ax = sns.pointplot(x='Age', y='Relationship_Gentleness', hue='Gender', data=abc)"
   ]
  },
  {
   "cell_type": "code",
   "execution_count": null,
   "metadata": {},
   "outputs": [],
   "source": [
    "abc = data.groupby(['Age_nm'], as_index=False).mean()\n",
    "ax = sns.pointplot(x='Age_nm', y='Relationship_Gentleness', hue='Gender', data=abc)"
   ]
  },
  {
   "cell_type": "code",
   "execution_count": null,
   "metadata": {},
   "outputs": [],
   "source": [
    "df_me_sin = data[['Age','School_nm','Income_nm','Relationship_score','Relationship_rate','Time_together',\n",
    "                  'Relationship_Gentleness']]\n",
    "corrplot(df_me_sin.corr(), size_scale=100, marker='s')  ## use in dataframe"
   ]
  },
  {
   "cell_type": "code",
   "execution_count": null,
   "metadata": {},
   "outputs": [],
   "source": [
    "df_me_sin = data[['Personal_Sincerity','Personal_Loyalty','Personal_Self_confidence','Personal_Braveness',\n",
    "                  'Personal_Optimism','Personal_Money','Personal_Attractiveness','Personal_Intelligence',\n",
    "                  'Personal_Charisma','Personal_Spirituality','Personal_Generosity','Personal_Kindness',\n",
    "                  'Personal_Adventurous','Personal_Fun','Personal_Energetic','Relationship_Gentleness']]\n",
    "corrplot(df_me_sin.corr(), size_scale=100, marker='s')  ## use in dataframe"
   ]
  },
  {
   "cell_type": "markdown",
   "metadata": {},
   "source": [
    "## Relationship_Affection"
   ]
  },
  {
   "cell_type": "code",
   "execution_count": null,
   "metadata": {},
   "outputs": [],
   "source": [
    "anova_test('Relationship_Affection', 'Age', data)"
   ]
  },
  {
   "cell_type": "code",
   "execution_count": null,
   "metadata": {},
   "outputs": [],
   "source": [
    "anova_test('Relationship_Affection', 'Age_nm', data)"
   ]
  },
  {
   "cell_type": "code",
   "execution_count": null,
   "metadata": {},
   "outputs": [],
   "source": [
    "anova_test('Relationship_Affection', 'School_nm', data)"
   ]
  },
  {
   "cell_type": "code",
   "execution_count": null,
   "metadata": {},
   "outputs": [],
   "source": [
    "anova_test('Relationship_Affection', 'Income_nm', data)"
   ]
  },
  {
   "cell_type": "code",
   "execution_count": null,
   "metadata": {},
   "outputs": [],
   "source": [
    "anova_test('Relationship_Affection', 'Gender', data)"
   ]
  },
  {
   "cell_type": "code",
   "execution_count": null,
   "metadata": {},
   "outputs": [],
   "source": [
    "anova_test('Relationship_Affection', 'Relationship_score', data)"
   ]
  },
  {
   "cell_type": "code",
   "execution_count": null,
   "metadata": {},
   "outputs": [],
   "source": [
    "anova_test('Relationship_Affection', 'Relationship_rate', data)"
   ]
  },
  {
   "cell_type": "code",
   "execution_count": null,
   "metadata": {},
   "outputs": [],
   "source": [
    "anova_test('Relationship_Affection', 'Time_together', data)"
   ]
  },
  {
   "cell_type": "code",
   "execution_count": null,
   "metadata": {},
   "outputs": [],
   "source": [
    "anova_test('Relationship_Affection', ['Age','Gender'], data)"
   ]
  },
  {
   "cell_type": "code",
   "execution_count": null,
   "metadata": {},
   "outputs": [],
   "source": [
    "abc = data.groupby(['Age'], as_index=False).mean()\n",
    "ax = sns.pointplot(x='Age', y='Relationship_Affection', hue='Gender', data=abc)"
   ]
  },
  {
   "cell_type": "code",
   "execution_count": null,
   "metadata": {},
   "outputs": [],
   "source": [
    "abc = data.groupby(['Age_nm'], as_index=False).mean()\n",
    "ax = sns.pointplot(x='Age_nm', y='Relationship_Affection', hue='Gender', data=abc)"
   ]
  },
  {
   "cell_type": "code",
   "execution_count": null,
   "metadata": {},
   "outputs": [],
   "source": [
    "df_me_sin = data[['Age','School_nm','Income_nm','Relationship_score','Relationship_rate','Time_together',\n",
    "                  'Relationship_Affection']]\n",
    "corrplot(df_me_sin.corr(), size_scale=100, marker='s')  ## use in dataframe"
   ]
  },
  {
   "cell_type": "code",
   "execution_count": null,
   "metadata": {},
   "outputs": [],
   "source": [
    "df_me_sin = data[['Personal_Sincerity','Personal_Loyalty','Personal_Self_confidence','Personal_Braveness',\n",
    "                  'Personal_Optimism','Personal_Money','Personal_Attractiveness','Personal_Intelligence',\n",
    "                  'Personal_Charisma','Personal_Spirituality','Personal_Generosity','Personal_Kindness',\n",
    "                  'Personal_Adventurous','Personal_Fun','Personal_Energetic','Relationship_Affection']]\n",
    "corrplot(df_me_sin.corr(), size_scale=100, marker='s')  ## use in dataframe"
   ]
  },
  {
   "cell_type": "markdown",
   "metadata": {},
   "source": [
    "## Relationship_Appreciation"
   ]
  },
  {
   "cell_type": "code",
   "execution_count": null,
   "metadata": {},
   "outputs": [],
   "source": [
    "anova_test('Relationship_Appreciation', 'Age', data)"
   ]
  },
  {
   "cell_type": "code",
   "execution_count": null,
   "metadata": {},
   "outputs": [],
   "source": [
    "anova_test('Relationship_Appreciation', 'Age_nm', data)"
   ]
  },
  {
   "cell_type": "code",
   "execution_count": null,
   "metadata": {},
   "outputs": [],
   "source": [
    "anova_test('Relationship_Appreciation', 'School_nm', data)"
   ]
  },
  {
   "cell_type": "code",
   "execution_count": null,
   "metadata": {},
   "outputs": [],
   "source": [
    "anova_test('Relationship_Appreciation', 'Income_nm', data)"
   ]
  },
  {
   "cell_type": "code",
   "execution_count": null,
   "metadata": {},
   "outputs": [],
   "source": [
    "anova_test('Relationship_Appreciation', 'Gender', data)"
   ]
  },
  {
   "cell_type": "code",
   "execution_count": null,
   "metadata": {},
   "outputs": [],
   "source": [
    "anova_test('Relationship_Appreciation', 'Relationship_score', data)"
   ]
  },
  {
   "cell_type": "code",
   "execution_count": null,
   "metadata": {},
   "outputs": [],
   "source": [
    "anova_test('Relationship_Appreciation', 'Relationship_rate', data)"
   ]
  },
  {
   "cell_type": "code",
   "execution_count": null,
   "metadata": {},
   "outputs": [],
   "source": [
    "anova_test('Relationship_Appreciation', 'Time_together', data)"
   ]
  },
  {
   "cell_type": "code",
   "execution_count": null,
   "metadata": {},
   "outputs": [],
   "source": [
    "anova_test('Relationship_Appreciation', ['Age','Gender'], data)"
   ]
  },
  {
   "cell_type": "code",
   "execution_count": null,
   "metadata": {},
   "outputs": [],
   "source": [
    "abc = data.groupby(['Age'], as_index=False).mean()\n",
    "ax = sns.pointplot(x='Age', y='Relationship_Appreciation', hue='Gender', data=abc)"
   ]
  },
  {
   "cell_type": "code",
   "execution_count": null,
   "metadata": {},
   "outputs": [],
   "source": [
    "abc = data.groupby(['Age_nm'], as_index=False).mean()\n",
    "ax = sns.pointplot(x='Age_nm', y='Relationship_Appreciation', hue='Gender', data=abc)"
   ]
  },
  {
   "cell_type": "code",
   "execution_count": null,
   "metadata": {},
   "outputs": [],
   "source": [
    "df_me_sin = data[['Age','School_nm','Income_nm','Relationship_score','Relationship_rate','Time_together',\n",
    "                  'Relationship_Appreciation']]\n",
    "corrplot(df_me_sin.corr(), size_scale=100, marker='s')  ## use in dataframe"
   ]
  },
  {
   "cell_type": "code",
   "execution_count": null,
   "metadata": {},
   "outputs": [],
   "source": [
    "df_me_sin = data[['Personal_Sincerity','Personal_Loyalty','Personal_Self_confidence','Personal_Braveness',\n",
    "                  'Personal_Optimism','Personal_Money','Personal_Attractiveness','Personal_Intelligence',\n",
    "                  'Personal_Charisma','Personal_Spirituality','Personal_Generosity','Personal_Kindness',\n",
    "                  'Personal_Adventurous','Personal_Fun','Personal_Energetic','Relationship_Appreciation']]\n",
    "corrplot(df_me_sin.corr(), size_scale=100, marker='s')  ## use in dataframe"
   ]
  },
  {
   "cell_type": "markdown",
   "metadata": {},
   "source": [
    "## Relationship_Validation"
   ]
  },
  {
   "cell_type": "code",
   "execution_count": null,
   "metadata": {},
   "outputs": [],
   "source": [
    "anova_test('Relationship_Validation', 'Age', data)"
   ]
  },
  {
   "cell_type": "code",
   "execution_count": null,
   "metadata": {},
   "outputs": [],
   "source": [
    "anova_test('Relationship_Validation', 'Age_nm', data)"
   ]
  },
  {
   "cell_type": "code",
   "execution_count": null,
   "metadata": {},
   "outputs": [],
   "source": [
    "anova_test('Relationship_Validation', 'School_nm', data)"
   ]
  },
  {
   "cell_type": "code",
   "execution_count": null,
   "metadata": {},
   "outputs": [],
   "source": [
    "anova_test('Relationship_Validation', 'Income_nm', data)"
   ]
  },
  {
   "cell_type": "code",
   "execution_count": null,
   "metadata": {},
   "outputs": [],
   "source": [
    "anova_test('Relationship_Validation', 'Gender', data)"
   ]
  },
  {
   "cell_type": "code",
   "execution_count": null,
   "metadata": {},
   "outputs": [],
   "source": [
    "anova_test('Relationship_Validation', 'Relationship_score', data)"
   ]
  },
  {
   "cell_type": "code",
   "execution_count": null,
   "metadata": {},
   "outputs": [],
   "source": [
    "anova_test('Relationship_Validation', 'Relationship_rate', data)"
   ]
  },
  {
   "cell_type": "code",
   "execution_count": null,
   "metadata": {},
   "outputs": [],
   "source": [
    "anova_test('Relationship_Validation', 'Time_together', data)"
   ]
  },
  {
   "cell_type": "code",
   "execution_count": null,
   "metadata": {},
   "outputs": [],
   "source": [
    "anova_test('Relationship_Validation', ['Age','Gender'], data)"
   ]
  },
  {
   "cell_type": "code",
   "execution_count": null,
   "metadata": {},
   "outputs": [],
   "source": [
    "abc = data.groupby(['Age'], as_index=False).mean()\n",
    "ax = sns.pointplot(x='Age', y='Relationship_Validation', hue='Gender', data=abc)"
   ]
  },
  {
   "cell_type": "code",
   "execution_count": null,
   "metadata": {},
   "outputs": [],
   "source": [
    "abc = data.groupby(['Age_nm'], as_index=False).mean()\n",
    "ax = sns.pointplot(x='Age_nm', y='Relationship_Validation', hue='Gender', data=abc)"
   ]
  },
  {
   "cell_type": "code",
   "execution_count": null,
   "metadata": {},
   "outputs": [],
   "source": [
    "df_me_sin = data[['Age','School_nm','Income_nm','Relationship_score','Relationship_rate','Time_together',\n",
    "                  'Relationship_Validation']]\n",
    "corrplot(df_me_sin.corr(), size_scale=100, marker='s')  ## use in dataframe"
   ]
  },
  {
   "cell_type": "code",
   "execution_count": null,
   "metadata": {},
   "outputs": [],
   "source": [
    "df_me_sin = data[['Personal_Sincerity','Personal_Loyalty','Personal_Self_confidence','Personal_Braveness',\n",
    "                  'Personal_Optimism','Personal_Money','Personal_Attractiveness','Personal_Intelligence',\n",
    "                  'Personal_Charisma','Personal_Spirituality','Personal_Generosity','Personal_Kindness',\n",
    "                  'Personal_Adventurous','Personal_Fun','Personal_Energetic','Relationship_Validation']]\n",
    "corrplot(df_me_sin.corr(), size_scale=100, marker='s')  ## use in dataframe"
   ]
  },
  {
   "cell_type": "markdown",
   "metadata": {},
   "source": [
    "## Relationship_Freedom"
   ]
  },
  {
   "cell_type": "code",
   "execution_count": null,
   "metadata": {},
   "outputs": [],
   "source": [
    "anova_test('Relationship_Freedom', 'Age', data)"
   ]
  },
  {
   "cell_type": "code",
   "execution_count": null,
   "metadata": {},
   "outputs": [],
   "source": [
    "anova_test('Relationship_Freedom', 'Age_nm', data)"
   ]
  },
  {
   "cell_type": "code",
   "execution_count": null,
   "metadata": {},
   "outputs": [],
   "source": [
    "anova_test('Relationship_Freedom', 'School_nm', data)"
   ]
  },
  {
   "cell_type": "code",
   "execution_count": null,
   "metadata": {},
   "outputs": [],
   "source": [
    "anova_test('Relationship_Freedom', 'Income_nm', data)"
   ]
  },
  {
   "cell_type": "code",
   "execution_count": null,
   "metadata": {},
   "outputs": [],
   "source": [
    "anova_test('Relationship_Freedom', 'Gender', data)"
   ]
  },
  {
   "cell_type": "code",
   "execution_count": null,
   "metadata": {},
   "outputs": [],
   "source": [
    "anova_test('Relationship_Freedom', 'Relationship_score', data)"
   ]
  },
  {
   "cell_type": "code",
   "execution_count": null,
   "metadata": {},
   "outputs": [],
   "source": [
    "anova_test('Relationship_Freedom', 'Relationship_rate', data)"
   ]
  },
  {
   "cell_type": "code",
   "execution_count": null,
   "metadata": {},
   "outputs": [],
   "source": [
    "anova_test('Relationship_Freedom', 'Time_together', data)"
   ]
  },
  {
   "cell_type": "code",
   "execution_count": null,
   "metadata": {},
   "outputs": [],
   "source": [
    "anova_test('Relationship_Freedom', ['Age','Gender'], data)"
   ]
  },
  {
   "cell_type": "code",
   "execution_count": null,
   "metadata": {},
   "outputs": [],
   "source": [
    "abc = data.groupby(['Age'], as_index=False).mean()\n",
    "ax = sns.pointplot(x='Age', y='Relationship_Freedom', hue='Gender', data=abc)"
   ]
  },
  {
   "cell_type": "code",
   "execution_count": null,
   "metadata": {},
   "outputs": [],
   "source": [
    "abc = data.groupby(['Age_nm'], as_index=False).mean()\n",
    "ax = sns.pointplot(x='Age_nm', y='Relationship_Freedom', hue='Gender', data=abc)"
   ]
  },
  {
   "cell_type": "code",
   "execution_count": null,
   "metadata": {},
   "outputs": [],
   "source": [
    "df_me_sin = data[['Age','School_nm','Income_nm','Relationship_score','Relationship_rate','Time_together',\n",
    "                  'Relationship_Freedom']]\n",
    "corrplot(df_me_sin.corr(), size_scale=100, marker='s')  ## use in dataframe"
   ]
  },
  {
   "cell_type": "code",
   "execution_count": null,
   "metadata": {},
   "outputs": [],
   "source": [
    "df_me_sin = data[['Personal_Sincerity','Personal_Loyalty','Personal_Self_confidence','Personal_Braveness',\n",
    "                  'Personal_Optimism','Personal_Money','Personal_Attractiveness','Personal_Intelligence',\n",
    "                  'Personal_Charisma','Personal_Spirituality','Personal_Generosity','Personal_Kindness',\n",
    "                  'Personal_Adventurous','Personal_Fun','Personal_Energetic','Relationship_Freedom']]\n",
    "corrplot(df_me_sin.corr(), size_scale=100, marker='s')  ## use in dataframe"
   ]
  },
  {
   "cell_type": "markdown",
   "metadata": {},
   "source": [
    "## Relationship_Alone"
   ]
  },
  {
   "cell_type": "code",
   "execution_count": null,
   "metadata": {},
   "outputs": [],
   "source": [
    "anova_test('Relationship_Alone', 'Age', data)"
   ]
  },
  {
   "cell_type": "code",
   "execution_count": null,
   "metadata": {},
   "outputs": [],
   "source": [
    "anova_test('Relationship_Alone', 'Age_nm', data)"
   ]
  },
  {
   "cell_type": "code",
   "execution_count": null,
   "metadata": {},
   "outputs": [],
   "source": [
    "anova_test('Relationship_Alone', 'School_nm', data)"
   ]
  },
  {
   "cell_type": "code",
   "execution_count": null,
   "metadata": {},
   "outputs": [],
   "source": [
    "anova_test('Relationship_Alone', 'Income_nm', data)"
   ]
  },
  {
   "cell_type": "code",
   "execution_count": null,
   "metadata": {},
   "outputs": [],
   "source": [
    "anova_test('Relationship_Alone', 'Gender', data)"
   ]
  },
  {
   "cell_type": "code",
   "execution_count": null,
   "metadata": {},
   "outputs": [],
   "source": [
    "anova_test('Relationship_Alone', 'Relationship_score', data)"
   ]
  },
  {
   "cell_type": "code",
   "execution_count": null,
   "metadata": {},
   "outputs": [],
   "source": [
    "anova_test('Relationship_Alone', 'Relationship_rate', data)"
   ]
  },
  {
   "cell_type": "code",
   "execution_count": null,
   "metadata": {},
   "outputs": [],
   "source": [
    "anova_test('Relationship_Alone', 'Time_together', data)"
   ]
  },
  {
   "cell_type": "code",
   "execution_count": null,
   "metadata": {},
   "outputs": [],
   "source": [
    "anova_test('Relationship_Alone', ['Age','Gender'], data)"
   ]
  },
  {
   "cell_type": "code",
   "execution_count": null,
   "metadata": {},
   "outputs": [],
   "source": [
    "abc = data.groupby(['Age'], as_index=False).mean()\n",
    "ax = sns.pointplot(x='Age', y='Relationship_Alone', hue='Gender', data=abc)"
   ]
  },
  {
   "cell_type": "code",
   "execution_count": null,
   "metadata": {},
   "outputs": [],
   "source": [
    "abc = data.groupby(['Age_nm'], as_index=False).mean()\n",
    "ax = sns.pointplot(x='Age_nm', y='Relationship_Alone', hue='Gender', data=abc)"
   ]
  },
  {
   "cell_type": "code",
   "execution_count": null,
   "metadata": {},
   "outputs": [],
   "source": [
    "df_me_sin = data[['Age','School_nm','Income_nm','Relationship_score','Relationship_rate','Time_together',\n",
    "                  'Relationship_Alone']]\n",
    "corrplot(df_me_sin.corr(), size_scale=100, marker='s')  ## use in dataframe"
   ]
  },
  {
   "cell_type": "code",
   "execution_count": null,
   "metadata": {},
   "outputs": [],
   "source": [
    "df_me_sin = data[['Personal_Sincerity','Personal_Loyalty','Personal_Self_confidence','Personal_Braveness',\n",
    "                  'Personal_Optimism','Personal_Money','Personal_Attractiveness','Personal_Intelligence',\n",
    "                  'Personal_Charisma','Personal_Spirituality','Personal_Generosity','Personal_Kindness',\n",
    "                  'Personal_Adventurous','Personal_Fun','Personal_Energetic','Relationship_Alone']]\n",
    "corrplot(df_me_sin.corr(), size_scale=100, marker='s')  ## use in dataframe"
   ]
  },
  {
   "cell_type": "code",
   "execution_count": null,
   "metadata": {},
   "outputs": [],
   "source": []
  },
  {
   "cell_type": "code",
   "execution_count": null,
   "metadata": {},
   "outputs": [],
   "source": []
  },
  {
   "cell_type": "code",
   "execution_count": null,
   "metadata": {},
   "outputs": [],
   "source": []
  },
  {
   "cell_type": "code",
   "execution_count": null,
   "metadata": {},
   "outputs": [],
   "source": []
  },
  {
   "cell_type": "code",
   "execution_count": null,
   "metadata": {},
   "outputs": [],
   "source": []
  },
  {
   "cell_type": "code",
   "execution_count": null,
   "metadata": {},
   "outputs": [],
   "source": [
    "#######################"
   ]
  },
  {
   "cell_type": "code",
   "execution_count": null,
   "metadata": {},
   "outputs": [],
   "source": [
    "anova_test('Future_Partner_Energetic', 'Age', data)\n",
    "\n",
    "anova_test('Future_Partner_Energetic', 'Age_nm', data)\n",
    "\n",
    "anova_test('Future_Partner_Energetic', 'School_nm', data)\n",
    "\n",
    "anova_test('Future_Partner_Energetic', 'Income_nm', data)\n",
    "\n",
    "anova_test('Future_Partner_Energetic', 'Gender', data)\n",
    "\n",
    "anova_test('Future_Partner_Energetic', 'Relationship_score', data)\n",
    "\n",
    "anova_test('Future_Partner_Energetic', 'Relationship_rate', data)\n",
    "\n",
    "anova_test('Future_Partner_Energetic', 'Time_together', data)\n",
    "\n",
    "anova_test('Future_Partner_Energetic', ['Age','Gender'], data)\n",
    "\n",
    "abc = data.groupby(['Age'], as_index=False).mean()\n",
    "ax = sns.pointplot(x='Age', y='Future_Partner_Energetic', hue='Gender', data=abc)\n",
    "\n",
    "abc = data.groupby(['Age_nm'], as_index=False).mean()\n",
    "ax = sns.pointplot(x='Age_nm', y='Future_Partner_Energetic', hue='Gender', data=abc)\n",
    "\n",
    "df_me_sin = data[['Age','School_nm','Income_nm','Relationship_score','Relationship_rate','Time_together',\n",
    "                  'Future_Partner_Energetic']]\n",
    "corrplot(df_me_sin.corr(), size_scale=100, marker='s')  ## use in dataframe\n",
    "\n",
    "df_me_sin = data[['Personal_Sincerity','Personal_Loyalty','Personal_Self_confidence','Personal_Braveness',\n",
    "                  'Personal_Optimism','Personal_Money','Personal_Attractiveness','Personal_Intelligence',\n",
    "                  'Personal_Charisma','Personal_Spirituality','Personal_Generosity','Personal_Kindness',\n",
    "                  'Personal_Adventurous','Personal_Fun','Personal_Energetic','Future_Partner_Energetic']]\n",
    "corrplot(df_me_sin.corr(), size_scale=100, marker='s')  ## use in dataframe"
   ]
  },
  {
   "cell_type": "code",
   "execution_count": 14,
   "metadata": {},
   "outputs": [
    {
     "data": {
      "text/plain": [
       "\"['Age',\\n 'Gender',\\n 'Sexual_orientation',\\n 'School',\\n 'Religion',\\n 'Income',\\n 'Personal_Sincerity',\\n 'Personal_Loyalty',\\n 'Personal_Self_confidence',\\n 'Personal_Braveness',\\n 'Personal_Optimism',\\n 'Personal_Money',\\n 'Personal_Attractiveness',\\n 'Personal_Intelligence',\\n 'Personal_Charisma',\\n 'Personal_Spirituality',\\n 'Personal_Generosity',\\n 'Personal_Kindness',\\n 'Personal_Adventurous',\\n 'Personal_Fun',\\n 'Personal_Energetic',\\n 'Relationship',\\n 'Future_Partner_Sincerity',\\n 'Future_Partner_Loyalty',\\n 'Future_Partner_Self_confidence',\\n 'Future_Partner_Braveness',\\n 'Future_Partner_Optimism',\\n 'Future_Partner_Money',\\n 'Future_Partner_Attractiveness',\\n 'Future_Partner_Intelligence',\\n 'Future_Partner_Charisma',\\n 'Future_Partner_Spirituality',\\n 'Future_Partner_Generosity',\\n 'Future_Partner_Kindness',\\n 'Future_Partner_Adventurous',\\n 'Future_Partner_Fun',\\n 'Future_Partner_Energetic',\\n 'Opposite_sex_Sincerity',\\n 'Opposite_sex_Loyalty',\\n 'Opposite_sex_Self_confidence',\\n 'Opposite_sex_Braveness',\\n 'Opposite_sex_Optimism',\\n 'Opposite_sex_Money',\\n 'Opposite_sex_Attractiveness',\\n 'Opposite_sex_Intelligence',\\n 'Opposite_sex_Charisma',\\n 'Opposite_sex_Spirituality',\\n 'Opposite_sex_Generosity',\\n 'Opposite_sex_Kindness',\\n 'Opposite_sex_Adventurous',\\n 'Opposite_sex_Fun',\\n 'Opposite_sex_Energetic',\\n 'Relationship_rate',\\n 'Time_together',\\n 'Kids',\\n 'Partner_Sincerity',\\n 'Partner_Loyalty',\\n 'Partner_Self_confidence',\\n 'Partner_Braveness',\\n 'Partner_Optimism',\\n 'Partner_Money',\\n 'Partner_Attractiveness',\\n 'Partner_Intelligence',\\n 'Partner_Charisma',\\n 'Partner_Spirituality',\\n 'Partner_Generosity',\\n 'Partner_Kindness',\\n 'Partner_Adventurous',\\n 'Partner_Fun',\\n 'Partner_Energetic',\\n 'Partner_values_Sincerity',\\n 'Partner_values_Loyalty',\\n 'Partner_values_Self_confidence',\\n 'Partner_values_Braveness',\\n 'Partner_values_Optimism',\\n 'Partner_values_Money',\\n 'Partner_values_Attractiveness',\\n 'Partner_values_Intelligence',\\n 'Partner_values_Charisma',\\n 'Partner_values_Spirituality',\\n 'Partner_values_Generosity',\\n 'Partner_values_Kindness',\\n 'Partner_values_Adventurous',\\n 'Partner_values_Fun',\\n 'Partner_values_Energetic',\\n 'Relationship_Respect',\\n 'Relationship_Vulnerability',\\n 'Relationship_Trust',\\n 'Relationship_Honesty',\\n 'Relationship_Kindness',\\n 'Relationship_Boundaries',\\n 'Relationship_Commitment',\\n 'Relationship_Thoughtfulness',\\n 'Relationship_Forgiveness',\\n 'Relationship_Gentleness',\\n 'Relationship_Affection',\\n 'Relationship_Appreciation',\\n 'Relationship_Validation',\\n 'Relationship_Freedom',\\n 'Relationship_Alone',\\n 'Relationship_type',\\n 'ID',\\n 'Age_nm',\\n 'School_nm',\\n 'Income_nm',\\n 'Relationship_score',\\n 'Sincerity_dif',\\n 'Loyalty_dif',\\n 'Self_dif',\\n 'Braveness_dif',\\n 'Optimism_dif',\\n 'Money_dif',\\n 'Attractiveness_dif',\\n 'Intelligence_dif',\\n 'Charisma_dif',\\n 'Spirituality_dif',\\n 'Generosity_dif',\\n 'Kindness_dif',\\n 'Adventurous_dif',\\n 'Fun_dif',\\n 'Energetic_dif',\\n 'Sincerity_val',\\n 'Loyalty_val',\\n 'Self_val',\\n 'Braveness_val',\\n 'Optimism_val',\\n 'Money_val',\\n 'Attractiveness_val',\\n 'Intelligence_val',\\n 'Charisma_val',\\n 'Spirituality_val',\\n 'Generosity_val',\\n 'Kindness_val',\\n 'Adventurous_val',\\n 'Fun_val',\\n 'Energetic_val']\""
      ]
     },
     "execution_count": 14,
     "metadata": {},
     "output_type": "execute_result"
    }
   ],
   "source": [
    "\"\"\"['Age',\n",
    " 'Gender',\n",
    " 'Sexual_orientation',\n",
    " 'School',\n",
    " 'Religion',\n",
    " 'Income',\n",
    " \n",
    " 'ID',\n",
    " 'Age_nm',\n",
    " 'School_nm',\n",
    " 'Income_nm',\n",
    " \n",
    " 'Relationship_score',\n",
    "'Relationship_rate',\n",
    " 'Time_together',\n",
    " 'Kids',\n",
    "\n",
    " 'Opposite_sex_Sincerity',\n",
    " 'Opposite_sex_Loyalty',\n",
    " 'Opposite_sex_Self_confidence',\n",
    " 'Opposite_sex_Braveness',\n",
    " 'Opposite_sex_Optimism',\n",
    " 'Opposite_sex_Money',\n",
    " 'Opposite_sex_Attractiveness',\n",
    " 'Opposite_sex_Intelligence',\n",
    " 'Opposite_sex_Charisma',\n",
    " 'Opposite_sex_Spirituality',\n",
    " 'Opposite_sex_Generosity',\n",
    " 'Opposite_sex_Kindness',\n",
    " 'Opposite_sex_Adventurous',\n",
    " 'Opposite_sex_Fun',\n",
    " 'Opposite_sex_Energetic',\n",
    " \n",
    " 'Partner_values_Sincerity',\n",
    " 'Partner_values_Loyalty',\n",
    " 'Partner_values_Self_confidence',\n",
    " 'Partner_values_Braveness',\n",
    " 'Partner_values_Optimism',\n",
    " 'Partner_values_Money',\n",
    " 'Partner_values_Attractiveness',\n",
    " 'Partner_values_Intelligence',\n",
    " 'Partner_values_Charisma',\n",
    " 'Partner_values_Spirituality',\n",
    " 'Partner_values_Generosity',\n",
    " 'Partner_values_Kindness',\n",
    " 'Partner_values_Adventurous',\n",
    " 'Partner_values_Fun',\n",
    " 'Partner_values_Energetic',\n",
    " \n",
    "\n",
    " \n",
    "\n",
    " 'Sincerity_dif',\n",
    " 'Loyalty_dif',\n",
    " 'Self_dif',\n",
    " 'Braveness_dif',\n",
    " 'Optimism_dif',\n",
    " 'Money_dif',\n",
    " 'Attractiveness_dif',\n",
    " 'Intelligence_dif',\n",
    " 'Charisma_dif',\n",
    " 'Spirituality_dif',\n",
    " 'Generosity_dif',\n",
    " 'Kindness_dif',\n",
    " 'Adventurous_dif',\n",
    " 'Fun_dif',\n",
    " 'Energetic_dif',\n",
    " 'Sincerity_val',\n",
    " 'Loyalty_val',\n",
    " 'Self_val',\n",
    " 'Braveness_val',\n",
    " 'Optimism_val',\n",
    " 'Money_val',\n",
    " 'Attractiveness_val',\n",
    " 'Intelligence_val',\n",
    " 'Charisma_val',\n",
    " 'Spirituality_val',\n",
    " 'Generosity_val',\n",
    " 'Kindness_val',\n",
    " 'Adventurous_val',\n",
    " 'Fun_val',\n",
    " 'Energetic_val']\"\"\""
   ]
  },
  {
   "cell_type": "code",
   "execution_count": null,
   "metadata": {},
   "outputs": [],
   "source": [
    " 'Personal_Sincerity',\n",
    " 'Personal_Loyalty',\n",
    " 'Personal_Self_confidence',\n",
    " 'Personal_Braveness',\n",
    " 'Personal_Optimism',\n",
    " 'Personal_Money',\n",
    " 'Personal_Attractiveness',\n",
    " 'Personal_Intelligence',\n",
    " 'Personal_Charisma',\n",
    " 'Personal_Spirituality',\n",
    " 'Personal_Generosity',\n",
    " 'Personal_Kindness',\n",
    " 'Personal_Adventurous',\n",
    " 'Personal_Fun',\n",
    " 'Personal_Energetic',\n",
    " \n",
    " 'Relationship',\n",
    "\n",
    " 'Future_Partner_Sincerity',\n",
    " 'Future_Partner_Loyalty',\n",
    " 'Future_Partner_Self_confidence',\n",
    " 'Future_Partner_Braveness',\n",
    " 'Future_Partner_Optimism',\n",
    " 'Future_Partner_Money',\n",
    " 'Future_Partner_Attractiveness',\n",
    " 'Future_Partner_Intelligence',\n",
    " 'Future_Partner_Charisma',\n",
    " 'Future_Partner_Spirituality',\n",
    " 'Future_Partner_Generosity',\n",
    " 'Future_Partner_Kindness',\n",
    " 'Future_Partner_Adventurous',\n",
    " 'Future_Partner_Fun',\n",
    " 'Future_Partner_Energetic',\n",
    "  \n",
    "\n",
    "\n",
    "   'Relationship_Respect',\n",
    " 'Relationship_Vulnerability',\n",
    " 'Relationship_Trust',\n",
    " 'Relationship_Honesty',\n",
    " 'Relationship_Kindness',\n",
    " 'Relationship_Boundaries',\n",
    " 'Relationship_Commitment',\n",
    " 'Relationship_Thoughtfulness',\n",
    " 'Relationship_Forgiveness',\n",
    " 'Relationship_Gentleness',\n",
    " 'Relationship_Affection',\n",
    " 'Relationship_Appreciation',\n",
    " 'Relationship_Validation',\n",
    " 'Relationship_Freedom',\n",
    " 'Relationship_Alone',\n",
    " 'Relationship_type',"
   ]
  }
 ],
 "metadata": {
  "interpreter": {
   "hash": "f01b1a26c0677924dfb9bb3c0adc99f4a4ad3f1a3781fcda47cbcaac5b4f6244"
  },
  "kernelspec": {
   "display_name": "Python 3",
   "language": "python",
   "name": "python3"
  },
  "language_info": {
   "codemirror_mode": {
    "name": "ipython",
    "version": 3
   },
   "file_extension": ".py",
   "mimetype": "text/x-python",
   "name": "python",
   "nbconvert_exporter": "python",
   "pygments_lexer": "ipython3",
   "version": "3.8.5"
  }
 },
 "nbformat": 4,
 "nbformat_minor": 2
}
